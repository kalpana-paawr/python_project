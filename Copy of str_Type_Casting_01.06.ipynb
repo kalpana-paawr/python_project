{
 "cells": [
  {
   "cell_type": "code",
   "execution_count": 2,
   "id": "8fa55c5d-1753-4689-9efa-ddac3e473ae8",
   "metadata": {},
   "outputs": [
    {
     "ename": "NameError",
     "evalue": "name 'upper' is not defined",
     "output_type": "error",
     "traceback": [
      "\u001b[1;31m---------------------------------------------------------------------------\u001b[0m",
      "\u001b[1;31mNameError\u001b[0m                                 Traceback (most recent call last)",
      "Cell \u001b[1;32mIn[2], line 1\u001b[0m\n\u001b[1;32m----> 1\u001b[0m upper\n\u001b[0;32m      2\u001b[0m lower\n\u001b[0;32m      3\u001b[0m swapcase\n",
      "\u001b[1;31mNameError\u001b[0m: name 'upper' is not defined"
     ]
    }
   ],
   "source": [
    "upper\n",
    "lower\n",
    "swapcase\n",
    "cap\n",
    "title\n",
    "startswith\n",
    "endswith\n",
    "split\n",
    "strip\n",
    "format\n",
    "find\n",
    "replace\n",
    "join\n",
    "count\n",
    "index"
   ]
  },
  {
   "cell_type": "code",
   "execution_count": 3,
   "id": "706d80ca-1c78-40b9-92e6-3fa9708fa7d6",
   "metadata": {},
   "outputs": [],
   "source": [
    "p = 'python'"
   ]
  },
  {
   "cell_type": "code",
   "execution_count": 4,
   "id": "4052e221-5b4f-4de0-8515-6513a3c0c7ea",
   "metadata": {},
   "outputs": [
    {
     "data": {
      "text/plain": [
       "'th'"
      ]
     },
     "execution_count": 4,
     "metadata": {},
     "output_type": "execute_result"
    }
   ],
   "source": [
    "p[2:4]"
   ]
  },
  {
   "cell_type": "code",
   "execution_count": 5,
   "id": "0b840202-4ed8-4491-b493-d260e8a720aa",
   "metadata": {},
   "outputs": [],
   "source": [
    "p = [34,76,34,87,435]"
   ]
  },
  {
   "cell_type": "code",
   "execution_count": 6,
   "id": "8bd384de-cf81-4f44-aa48-473cc51f2474",
   "metadata": {},
   "outputs": [
    {
     "data": {
      "text/plain": [
       "[76, 34, 87]"
      ]
     },
     "execution_count": 6,
     "metadata": {},
     "output_type": "execute_result"
    }
   ],
   "source": [
    "p[1:4]"
   ]
  },
  {
   "cell_type": "code",
   "execution_count": null,
   "id": "11f6e600-41e9-4ec2-a7e5-ce285afc7fa4",
   "metadata": {},
   "outputs": [],
   "source": [
    "str :\n",
    "\n",
    "'a-zA-Z' -- alpha\n",
    "'4545'  -- numeric\n",
    "'a-zA-Z0-9' --alnum"
   ]
  },
  {
   "cell_type": "code",
   "execution_count": 7,
   "id": "615de706-e16b-46f9-b95e-0ea61ef947a0",
   "metadata": {},
   "outputs": [],
   "source": [
    "empid = '54545' "
   ]
  },
  {
   "cell_type": "code",
   "execution_count": 8,
   "id": "874d1596-b1f6-4017-bd25-c319d917ae0c",
   "metadata": {},
   "outputs": [
    {
     "data": {
      "text/plain": [
       "True"
      ]
     },
     "execution_count": 8,
     "metadata": {},
     "output_type": "execute_result"
    }
   ],
   "source": [
    "empid.isnumeric()"
   ]
  },
  {
   "cell_type": "code",
   "execution_count": 9,
   "id": "795e2698-7a45-49e6-ba21-c6935c1db97c",
   "metadata": {},
   "outputs": [],
   "source": [
    "name = ['a','b','c','656','65','z']"
   ]
  },
  {
   "cell_type": "code",
   "execution_count": 10,
   "id": "cf2a93e8-555c-4781-bcb6-eed9aee72deb",
   "metadata": {},
   "outputs": [],
   "source": [
    "empname = 'keshav'"
   ]
  },
  {
   "cell_type": "code",
   "execution_count": 11,
   "id": "03f2b4f7-5f5d-42fb-a121-bb4c0ce5d03a",
   "metadata": {},
   "outputs": [
    {
     "data": {
      "text/plain": [
       "True"
      ]
     },
     "execution_count": 11,
     "metadata": {},
     "output_type": "execute_result"
    }
   ],
   "source": [
    "empname.isalpha()"
   ]
  },
  {
   "cell_type": "code",
   "execution_count": 62,
   "id": "95d171c9-1942-4c56-acbf-298434b7d75b",
   "metadata": {},
   "outputs": [
    {
     "name": "stdout",
     "output_type": "stream",
     "text": [
      "656\n",
      "65\n"
     ]
    }
   ],
   "source": [
    "for n in name:\n",
    "    if not n.isalpha():\n",
    "        print(n)"
   ]
  },
  {
   "cell_type": "code",
   "execution_count": null,
   "id": "fff38446-0e03-4e3b-b3ae-ef38ee331fb7",
   "metadata": {},
   "outputs": [],
   "source": [
    "al or num  or both"
   ]
  },
  {
   "cell_type": "code",
   "execution_count": 16,
   "id": "9ac94b3b-0bae-4b48-8a37-ea23c958d413",
   "metadata": {},
   "outputs": [],
   "source": [
    "product = \"az5454 \""
   ]
  },
  {
   "cell_type": "code",
   "execution_count": 17,
   "id": "e74f8c5c-732f-4016-a40b-5c6e6b4f8f6a",
   "metadata": {},
   "outputs": [
    {
     "data": {
      "text/plain": [
       "False"
      ]
     },
     "execution_count": 17,
     "metadata": {},
     "output_type": "execute_result"
    }
   ],
   "source": [
    "product.isalnum()"
   ]
  },
  {
   "cell_type": "code",
   "execution_count": 18,
   "id": "d2e358f0-55e3-41ba-8019-e761c0815733",
   "metadata": {},
   "outputs": [
    {
     "ename": "SyntaxError",
     "evalue": "invalid syntax (3690171778.py, line 1)",
     "output_type": "error",
     "traceback": [
      "\u001b[1;36m  Cell \u001b[1;32mIn[18], line 1\u001b[1;36m\u001b[0m\n\u001b[1;33m    str --- regex regular expression\u001b[0m\n\u001b[1;37m                  ^\u001b[0m\n\u001b[1;31mSyntaxError\u001b[0m\u001b[1;31m:\u001b[0m invalid syntax\n"
     ]
    }
   ],
   "source": [
    "str --- regex regular expression"
   ]
  },
  {
   "cell_type": "code",
   "execution_count": 19,
   "id": "45d3bd7b-fc1d-4d84-bb98-03272eba96e2",
   "metadata": {},
   "outputs": [],
   "source": [
    "p = 'sdfs'"
   ]
  },
  {
   "cell_type": "code",
   "execution_count": 20,
   "id": "de093b2e-d2a2-4c94-be57-c33aec3d3ff3",
   "metadata": {},
   "outputs": [
    {
     "data": {
      "text/plain": [
       "'000000sdfs'"
      ]
     },
     "execution_count": 20,
     "metadata": {},
     "output_type": "execute_result"
    }
   ],
   "source": [
    "p.zfill(10)"
   ]
  },
  {
   "cell_type": "code",
   "execution_count": null,
   "id": "2b7e29db-303b-431d-b52e-1a71ab9443dc",
   "metadata": {},
   "outputs": [],
   "source": [
    "8 bit\n",
    "\n",
    "4\n",
    "\n",
    "00001000 - bit"
   ]
  },
  {
   "cell_type": "code",
   "execution_count": null,
   "id": "df742260-0dc6-4935-ac99-31e1aa950571",
   "metadata": {},
   "outputs": [],
   "source": [
    "Type Casting:\n",
    "==============\n",
    "Data type --> another Data Type\n",
    "Data Structure --> another Data Structure\n"
   ]
  },
  {
   "cell_type": "code",
   "execution_count": 21,
   "id": "603a8620-7462-47d4-9001-7b1def59ace1",
   "metadata": {},
   "outputs": [],
   "source": [
    "a = 100"
   ]
  },
  {
   "cell_type": "code",
   "execution_count": 23,
   "id": "79e4a591-ba86-4779-8174-9851424a341f",
   "metadata": {},
   "outputs": [],
   "source": [
    "t = str(a)"
   ]
  },
  {
   "cell_type": "code",
   "execution_count": 24,
   "id": "e693966d-6353-45be-bd7f-79c48faf8fe8",
   "metadata": {},
   "outputs": [
    {
     "data": {
      "text/plain": [
       "str"
      ]
     },
     "execution_count": 24,
     "metadata": {},
     "output_type": "execute_result"
    }
   ],
   "source": [
    "type(t)"
   ]
  },
  {
   "cell_type": "code",
   "execution_count": 25,
   "id": "08047132-a798-45a0-9ebf-ca7020fbd022",
   "metadata": {},
   "outputs": [
    {
     "data": {
      "text/plain": [
       "'100'"
      ]
     },
     "execution_count": 25,
     "metadata": {},
     "output_type": "execute_result"
    }
   ],
   "source": [
    "t"
   ]
  },
  {
   "cell_type": "code",
   "execution_count": 26,
   "id": "8dd7aa8c-de44-4bcc-965b-06e5ace57604",
   "metadata": {},
   "outputs": [],
   "source": [
    "p = '546'"
   ]
  },
  {
   "cell_type": "code",
   "execution_count": 27,
   "id": "e2056663-0146-47c8-9fb1-de6a69f7b74d",
   "metadata": {},
   "outputs": [
    {
     "data": {
      "text/plain": [
       "546"
      ]
     },
     "execution_count": 27,
     "metadata": {},
     "output_type": "execute_result"
    }
   ],
   "source": [
    "int(p)"
   ]
  },
  {
   "cell_type": "code",
   "execution_count": 28,
   "id": "426fb242-8722-4cd9-900c-6c94781c2809",
   "metadata": {},
   "outputs": [],
   "source": [
    "p = 65.34"
   ]
  },
  {
   "cell_type": "code",
   "execution_count": 29,
   "id": "7540e0de-ca01-4e6a-9c62-b6b984635f41",
   "metadata": {},
   "outputs": [
    {
     "data": {
      "text/plain": [
       "65"
      ]
     },
     "execution_count": 29,
     "metadata": {},
     "output_type": "execute_result"
    }
   ],
   "source": [
    "int(p)"
   ]
  },
  {
   "cell_type": "code",
   "execution_count": 30,
   "id": "10bbab57-0546-44bb-ad63-fa2bd10bccad",
   "metadata": {},
   "outputs": [],
   "source": [
    "p = 45"
   ]
  },
  {
   "cell_type": "code",
   "execution_count": 31,
   "id": "d2adff23-2bf8-442b-a742-19eb3c65a13d",
   "metadata": {},
   "outputs": [
    {
     "data": {
      "text/plain": [
       "45.0"
      ]
     },
     "execution_count": 31,
     "metadata": {},
     "output_type": "execute_result"
    }
   ],
   "source": [
    "float(p)"
   ]
  },
  {
   "cell_type": "code",
   "execution_count": 32,
   "id": "652c28a5-3813-4e49-a4ac-34f1fc17453d",
   "metadata": {},
   "outputs": [],
   "source": [
    "p = '65.34'"
   ]
  },
  {
   "cell_type": "code",
   "execution_count": 33,
   "id": "94f9e292-6216-498a-a15f-c5251b406d45",
   "metadata": {},
   "outputs": [
    {
     "ename": "ValueError",
     "evalue": "invalid literal for int() with base 10: '65.34'",
     "output_type": "error",
     "traceback": [
      "\u001b[1;31m---------------------------------------------------------------------------\u001b[0m",
      "\u001b[1;31mValueError\u001b[0m                                Traceback (most recent call last)",
      "Cell \u001b[1;32mIn[33], line 1\u001b[0m\n\u001b[1;32m----> 1\u001b[0m \u001b[38;5;28mint\u001b[39m(p)\n",
      "\u001b[1;31mValueError\u001b[0m: invalid literal for int() with base 10: '65.34'"
     ]
    }
   ],
   "source": [
    "int(p)"
   ]
  },
  {
   "cell_type": "code",
   "execution_count": 34,
   "id": "c91c5de6-1d08-4513-aec8-d0b4b4adbae2",
   "metadata": {},
   "outputs": [
    {
     "data": {
      "text/plain": [
       "'65.34'"
      ]
     },
     "execution_count": 34,
     "metadata": {},
     "output_type": "execute_result"
    }
   ],
   "source": [
    "p"
   ]
  },
  {
   "cell_type": "code",
   "execution_count": 35,
   "id": "188836f9-31f6-4e17-86f7-411692a437cd",
   "metadata": {},
   "outputs": [
    {
     "data": {
      "text/plain": [
       "65"
      ]
     },
     "execution_count": 35,
     "metadata": {},
     "output_type": "execute_result"
    }
   ],
   "source": [
    "int(float(p))"
   ]
  },
  {
   "cell_type": "code",
   "execution_count": 36,
   "id": "6b866a12-ba83-46fe-8893-87f456b18065",
   "metadata": {},
   "outputs": [],
   "source": [
    "p = 't'"
   ]
  },
  {
   "cell_type": "code",
   "execution_count": 37,
   "id": "d2be226b-515b-4abd-8617-3925ccde105c",
   "metadata": {},
   "outputs": [
    {
     "ename": "ValueError",
     "evalue": "invalid literal for int() with base 10: 't'",
     "output_type": "error",
     "traceback": [
      "\u001b[1;31m---------------------------------------------------------------------------\u001b[0m",
      "\u001b[1;31mValueError\u001b[0m                                Traceback (most recent call last)",
      "Cell \u001b[1;32mIn[37], line 1\u001b[0m\n\u001b[1;32m----> 1\u001b[0m \u001b[38;5;28mint\u001b[39m(p)\n",
      "\u001b[1;31mValueError\u001b[0m: invalid literal for int() with base 10: 't'"
     ]
    }
   ],
   "source": [
    "int(p)"
   ]
  },
  {
   "cell_type": "code",
   "execution_count": null,
   "id": "f5a1bbd7-b90c-46b6-aa84-5f8193956e5e",
   "metadata": {},
   "outputs": [],
   "source": [
    "type()\n",
    "len()\n"
   ]
  },
  {
   "cell_type": "code",
   "execution_count": 38,
   "id": "347461a2-cc7e-4eb7-bdaa-14b0c3dc4002",
   "metadata": {},
   "outputs": [
    {
     "data": {
      "text/plain": [
       "'a'"
      ]
     },
     "execution_count": 38,
     "metadata": {},
     "output_type": "execute_result"
    }
   ],
   "source": [
    "chr(97) # ASCII return Char"
   ]
  },
  {
   "cell_type": "code",
   "execution_count": 40,
   "id": "a78eecd9-ceae-4a85-8637-ae376a92e313",
   "metadata": {},
   "outputs": [
    {
     "data": {
      "text/plain": [
       "65"
      ]
     },
     "execution_count": 40,
     "metadata": {},
     "output_type": "execute_result"
    }
   ],
   "source": [
    "ord('A') # Char to ASCII"
   ]
  },
  {
   "cell_type": "code",
   "execution_count": null,
   "id": "d2a20d0b-b481-4d99-aeb5-1f6bc00a9a79",
   "metadata": {},
   "outputs": [],
   "source": [
    "Data Structure:"
   ]
  },
  {
   "cell_type": "code",
   "execution_count": 41,
   "id": "5378ccf0-c228-4403-b67c-8e6206658069",
   "metadata": {},
   "outputs": [],
   "source": [
    "p = [34,765,34,86,434,7]"
   ]
  },
  {
   "cell_type": "code",
   "execution_count": 42,
   "id": "fe726fe3-2e38-4b63-8590-c08af2e5e6a1",
   "metadata": {},
   "outputs": [
    {
     "data": {
      "text/plain": [
       "(34, 765, 34, 86, 434, 7)"
      ]
     },
     "execution_count": 42,
     "metadata": {},
     "output_type": "execute_result"
    }
   ],
   "source": [
    "tuple(p)"
   ]
  },
  {
   "cell_type": "code",
   "execution_count": 43,
   "id": "49fdc4a9-b5a1-4e27-8f4d-593d9a5ada4f",
   "metadata": {},
   "outputs": [],
   "source": [
    "t = (23,65,2,3,76,34,5)"
   ]
  },
  {
   "cell_type": "code",
   "execution_count": 45,
   "id": "478b5804-4567-4587-b516-56701f98abbc",
   "metadata": {},
   "outputs": [],
   "source": [
    "t = list(t)"
   ]
  },
  {
   "cell_type": "code",
   "execution_count": 46,
   "id": "266ccabb-bb2e-4060-8708-a8c195cd7b0a",
   "metadata": {},
   "outputs": [],
   "source": [
    "t.append(100)"
   ]
  },
  {
   "cell_type": "code",
   "execution_count": 49,
   "id": "9c498127-fbde-4b69-9a4b-fd0eab06c349",
   "metadata": {},
   "outputs": [],
   "source": [
    "t = tuple(t)"
   ]
  },
  {
   "cell_type": "code",
   "execution_count": 50,
   "id": "72265366-a4ae-41e1-898c-15217da8d0b2",
   "metadata": {},
   "outputs": [
    {
     "data": {
      "text/plain": [
       "(23, 65, 2, 3, 76, 34, 5, 100)"
      ]
     },
     "execution_count": 50,
     "metadata": {},
     "output_type": "execute_result"
    }
   ],
   "source": [
    "t"
   ]
  },
  {
   "cell_type": "code",
   "execution_count": 52,
   "id": "91abb0ee-bc71-41ed-8703-c676fb586a2f",
   "metadata": {},
   "outputs": [],
   "source": [
    "p = [1,1,1,1,165,23,756,34,76,45,2,2,2,4,6,3]"
   ]
  },
  {
   "cell_type": "code",
   "execution_count": 55,
   "id": "1939606e-3dfc-4bd0-a72e-4ca5df592659",
   "metadata": {},
   "outputs": [
    {
     "data": {
      "text/plain": [
       "[1, 34, 2, 4, 165, 6, 3, 76, 45, 756, 23]"
      ]
     },
     "execution_count": 55,
     "metadata": {},
     "output_type": "execute_result"
    }
   ],
   "source": [
    "list(set(p))"
   ]
  },
  {
   "cell_type": "code",
   "execution_count": 57,
   "id": "f543fdc6-a8f9-4c4f-b087-becc97d6438a",
   "metadata": {},
   "outputs": [],
   "source": [
    "e = {'a':100,'b':200,'c':300}"
   ]
  },
  {
   "cell_type": "code",
   "execution_count": 59,
   "id": "91c7aeed-258f-43de-a648-9a11bddb0ddf",
   "metadata": {},
   "outputs": [
    {
     "data": {
      "text/plain": [
       "['a', 'b', 'c']"
      ]
     },
     "execution_count": 59,
     "metadata": {},
     "output_type": "execute_result"
    }
   ],
   "source": [
    "list(e)"
   ]
  },
  {
   "cell_type": "code",
   "execution_count": 60,
   "id": "cfb952f1-5893-4d94-99d3-0278bbdb63c2",
   "metadata": {},
   "outputs": [
    {
     "data": {
      "text/plain": [
       "[100, 200, 300]"
      ]
     },
     "execution_count": 60,
     "metadata": {},
     "output_type": "execute_result"
    }
   ],
   "source": [
    "list(e.values())"
   ]
  },
  {
   "cell_type": "code",
   "execution_count": 61,
   "id": "1e5d40b8-93fe-4688-93de-548c49ba4bb5",
   "metadata": {},
   "outputs": [
    {
     "data": {
      "text/plain": [
       "[('a', 100), ('b', 200), ('c', 300)]"
      ]
     },
     "execution_count": 61,
     "metadata": {},
     "output_type": "execute_result"
    }
   ],
   "source": [
    "list(e.items())"
   ]
  },
  {
   "cell_type": "code",
   "execution_count": null,
   "id": "3721b985-6ba5-498b-b3c2-2a31e1fa8f7c",
   "metadata": {},
   "outputs": [],
   "source": []
  }
 ],
 "metadata": {
  "kernelspec": {
   "display_name": "Python 3 (ipykernel)",
   "language": "python",
   "name": "python3"
  },
  "language_info": {
   "codemirror_mode": {
    "name": "ipython",
    "version": 3
   },
   "file_extension": ".py",
   "mimetype": "text/x-python",
   "name": "python",
   "nbconvert_exporter": "python",
   "pygments_lexer": "ipython3",
   "version": "3.12.7"
  }
 },
 "nbformat": 4,
 "nbformat_minor": 5
}

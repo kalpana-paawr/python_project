{
 "cells": [
  {
   "cell_type": "code",
   "execution_count": 1,
   "id": "84825fe7-c6e0-4760-a703-f81525e265b8",
   "metadata": {},
   "outputs": [],
   "source": [
    "p = 'python'"
   ]
  },
  {
   "cell_type": "code",
   "execution_count": 2,
   "id": "3d9dea49-fd33-427b-b984-a2e326e147b5",
   "metadata": {},
   "outputs": [
    {
     "data": {
      "text/plain": [
       "'PYTHON'"
      ]
     },
     "execution_count": 2,
     "metadata": {},
     "output_type": "execute_result"
    }
   ],
   "source": [
    "p.upper()"
   ]
  },
  {
   "cell_type": "code",
   "execution_count": 3,
   "id": "7fe8a90c-928f-4fb4-87f5-da503882aa43",
   "metadata": {},
   "outputs": [],
   "source": [
    "p = 'java'"
   ]
  },
  {
   "cell_type": "code",
   "execution_count": 4,
   "id": "254929bb-4e13-44d5-aee3-a98cbfa7f963",
   "metadata": {},
   "outputs": [
    {
     "data": {
      "text/plain": [
       "'JAVA'"
      ]
     },
     "execution_count": 4,
     "metadata": {},
     "output_type": "execute_result"
    }
   ],
   "source": [
    "p.upper()"
   ]
  },
  {
   "cell_type": "code",
   "execution_count": 5,
   "id": "446bbc81-70d4-414b-bca2-90ea2ab8c9fa",
   "metadata": {},
   "outputs": [],
   "source": [
    "p = 'HADOOP'"
   ]
  },
  {
   "cell_type": "code",
   "execution_count": 6,
   "id": "240055c5-ddf8-45ff-8a02-8337a6ce24f1",
   "metadata": {},
   "outputs": [
    {
     "data": {
      "text/plain": [
       "'hadoop'"
      ]
     },
     "execution_count": 6,
     "metadata": {},
     "output_type": "execute_result"
    }
   ],
   "source": [
    "p.lower()"
   ]
  },
  {
   "cell_type": "code",
   "execution_count": 7,
   "id": "245d94bb-06d7-4bca-8f02-8e1cfefcccf7",
   "metadata": {},
   "outputs": [
    {
     "data": {
      "text/plain": [
       "'HADOOP'"
      ]
     },
     "execution_count": 7,
     "metadata": {},
     "output_type": "execute_result"
    }
   ],
   "source": [
    "p"
   ]
  },
  {
   "cell_type": "code",
   "execution_count": 8,
   "id": "8a47b133-acb2-4ab8-909f-547240d91357",
   "metadata": {},
   "outputs": [],
   "source": [
    "p = 'the python world'"
   ]
  },
  {
   "cell_type": "code",
   "execution_count": 9,
   "id": "c6a63c05-3347-4167-b3a3-725057de123b",
   "metadata": {},
   "outputs": [
    {
     "data": {
      "text/plain": [
       "'The Python World'"
      ]
     },
     "execution_count": 9,
     "metadata": {},
     "output_type": "execute_result"
    }
   ],
   "source": [
    "p.title()"
   ]
  },
  {
   "cell_type": "code",
   "execution_count": 10,
   "id": "b5d98281-c553-4fcf-9918-aa7997b4d52b",
   "metadata": {},
   "outputs": [
    {
     "data": {
      "text/plain": [
       "'The python world'"
      ]
     },
     "execution_count": 10,
     "metadata": {},
     "output_type": "execute_result"
    }
   ],
   "source": [
    "p.capitalize()"
   ]
  },
  {
   "cell_type": "code",
   "execution_count": null,
   "id": "7d762dfd-8ae9-48f6-a1a0-692fdcafcc67",
   "metadata": {},
   "outputs": [],
   "source": [
    "how to define str:\n",
    "\n",
    "'  ' \n",
    "\n",
    "\"   \"\n",
    "\n",
    "\n",
    "'''   '''\n",
    "\n",
    "\"\"\"   \"\"\"\n",
    "\n",
    "\n",
    "\n"
   ]
  },
  {
   "cell_type": "code",
   "execution_count": 11,
   "id": "bf2bc38e-3894-4c3c-bc30-47fa93751450",
   "metadata": {},
   "outputs": [],
   "source": [
    "p = 'data science'"
   ]
  },
  {
   "cell_type": "code",
   "execution_count": 12,
   "id": "63e6163e-768e-448d-abf2-1217857b6f3f",
   "metadata": {},
   "outputs": [
    {
     "data": {
      "text/plain": [
       "'data science'"
      ]
     },
     "execution_count": 12,
     "metadata": {},
     "output_type": "execute_result"
    }
   ],
   "source": [
    "p"
   ]
  },
  {
   "cell_type": "code",
   "execution_count": 14,
   "id": "e04c635b-4ca9-4b6a-923d-5e04a82d2067",
   "metadata": {},
   "outputs": [],
   "source": [
    "p = \"data science\""
   ]
  },
  {
   "cell_type": "code",
   "execution_count": 15,
   "id": "44829ed2-b040-4a9a-822a-326c09c07890",
   "metadata": {},
   "outputs": [
    {
     "data": {
      "text/plain": [
       "'data science'"
      ]
     },
     "execution_count": 15,
     "metadata": {},
     "output_type": "execute_result"
    }
   ],
   "source": [
    "p"
   ]
  },
  {
   "cell_type": "code",
   "execution_count": 16,
   "id": "9c175912-1cd2-429b-bbb5-9462a1a38b96",
   "metadata": {},
   "outputs": [
    {
     "ename": "SyntaxError",
     "evalue": "unterminated string literal (detected at line 1) (3509802597.py, line 1)",
     "output_type": "error",
     "traceback": [
      "\u001b[1;36m  Cell \u001b[1;32mIn[16], line 1\u001b[1;36m\u001b[0m\n\u001b[1;33m    p = 'python is good for DA it's also use for ml'\u001b[0m\n\u001b[1;37m                                                   ^\u001b[0m\n\u001b[1;31mSyntaxError\u001b[0m\u001b[1;31m:\u001b[0m unterminated string literal (detected at line 1)\n"
     ]
    }
   ],
   "source": [
    "p = 'python is good for DA it's also use for ml'"
   ]
  },
  {
   "cell_type": "code",
   "execution_count": 17,
   "id": "ed7ef492-e46e-4ff6-9736-5e807197e838",
   "metadata": {},
   "outputs": [],
   "source": [
    "p = \"python is good for DA it's also use for ml\""
   ]
  },
  {
   "cell_type": "code",
   "execution_count": 18,
   "id": "37e70297-3937-4fee-9071-afc264208d3f",
   "metadata": {},
   "outputs": [
    {
     "data": {
      "text/plain": [
       "\"python is good for DA it's also use for ml\""
      ]
     },
     "execution_count": 18,
     "metadata": {},
     "output_type": "execute_result"
    }
   ],
   "source": [
    "p"
   ]
  },
  {
   "cell_type": "code",
   "execution_count": 36,
   "id": "63d19373-4ddc-42de-9ae8-bc707a3dbf22",
   "metadata": {},
   "outputs": [],
   "source": [
    "p = 'python is good for \"DA\" its also use for ml'"
   ]
  },
  {
   "cell_type": "code",
   "execution_count": 22,
   "id": "1ff8aebb-131a-4345-aecf-9febac740240",
   "metadata": {},
   "outputs": [
    {
     "data": {
      "text/plain": [
       "'python is good for \"DA\" its also use for ml'"
      ]
     },
     "execution_count": 22,
     "metadata": {},
     "output_type": "execute_result"
    }
   ],
   "source": [
    "p"
   ]
  },
  {
   "cell_type": "code",
   "execution_count": 23,
   "id": "020138c5-2f9d-49b5-9dbe-2f8b3d939b7b",
   "metadata": {},
   "outputs": [
    {
     "ename": "SyntaxError",
     "evalue": "unterminated string literal (detected at line 1) (727275845.py, line 1)",
     "output_type": "error",
     "traceback": [
      "\u001b[1;36m  Cell \u001b[1;32mIn[23], line 1\u001b[1;36m\u001b[0m\n\u001b[1;33m    st = 'To obtain the current date and time in Python, the datetime module is utilized.\u001b[0m\n\u001b[1;37m         ^\u001b[0m\n\u001b[1;31mSyntaxError\u001b[0m\u001b[1;31m:\u001b[0m unterminated string literal (detected at line 1)\n"
     ]
    }
   ],
   "source": [
    "st = 'To obtain the current date and time in Python, the datetime module is utilized.\n",
    "Here is how to get the current local date and time'"
   ]
  },
  {
   "cell_type": "code",
   "execution_count": 24,
   "id": "e06c419f-35cb-4ffd-8c8f-4edc22519050",
   "metadata": {},
   "outputs": [
    {
     "ename": "SyntaxError",
     "evalue": "unterminated string literal (detected at line 1) (1314959462.py, line 1)",
     "output_type": "error",
     "traceback": [
      "\u001b[1;36m  Cell \u001b[1;32mIn[24], line 1\u001b[1;36m\u001b[0m\n\u001b[1;33m    st = \"To obtain the current date and time in Python, the datetime module is utilized.\u001b[0m\n\u001b[1;37m         ^\u001b[0m\n\u001b[1;31mSyntaxError\u001b[0m\u001b[1;31m:\u001b[0m unterminated string literal (detected at line 1)\n"
     ]
    }
   ],
   "source": [
    "st = \"To obtain the current date and time in Python, the datetime module is utilized.\n",
    "Here is how to get the current local date and time\""
   ]
  },
  {
   "cell_type": "code",
   "execution_count": 28,
   "id": "dcf7e829-3fba-4386-a656-c123991efbd6",
   "metadata": {},
   "outputs": [],
   "source": [
    "st = '''To obtain the current \" date\" and 'time' in Python, the datetime module is utilized.\n",
    "Here is how to get the current local date and time'''"
   ]
  },
  {
   "cell_type": "code",
   "execution_count": 29,
   "id": "91296b3d-24c7-4367-a390-89d1410806f9",
   "metadata": {},
   "outputs": [
    {
     "name": "stdout",
     "output_type": "stream",
     "text": [
      "To obtain the current \" date\" and 'time' in Python, the datetime module is utilized.\n",
      "Here is how to get the current local date and time\n"
     ]
    }
   ],
   "source": [
    "print(st)"
   ]
  },
  {
   "cell_type": "code",
   "execution_count": 30,
   "id": "9b73c1f7-b0cb-4cbc-bb97-a85424c94849",
   "metadata": {},
   "outputs": [],
   "source": [
    "p = 'PyThOn'"
   ]
  },
  {
   "cell_type": "code",
   "execution_count": 31,
   "id": "08a5faf7-7224-4e25-9746-81e4d3cafd0c",
   "metadata": {},
   "outputs": [
    {
     "data": {
      "text/plain": [
       "'pYtHoN'"
      ]
     },
     "execution_count": 31,
     "metadata": {},
     "output_type": "execute_result"
    }
   ],
   "source": [
    "p.swapcase()"
   ]
  },
  {
   "cell_type": "code",
   "execution_count": 32,
   "id": "d85e7419-b31e-4f73-815a-e3833cf05fd2",
   "metadata": {},
   "outputs": [],
   "source": [
    "p = 'aaaabbbbcccccccc'"
   ]
  },
  {
   "cell_type": "code",
   "execution_count": 33,
   "id": "3c2d5d3a-84f6-4fb2-b199-e98512f5fc06",
   "metadata": {},
   "outputs": [
    {
     "data": {
      "text/plain": [
       "4"
      ]
     },
     "execution_count": 33,
     "metadata": {},
     "output_type": "execute_result"
    }
   ],
   "source": [
    "p.count('a')"
   ]
  },
  {
   "cell_type": "code",
   "execution_count": 34,
   "id": "1eec9a39-7ccc-46f7-b596-f6ce79dad377",
   "metadata": {},
   "outputs": [],
   "source": [
    "p = 'python'"
   ]
  },
  {
   "cell_type": "code",
   "execution_count": 35,
   "id": "a862e5bf-7b03-4af7-8312-db0652ef6ffc",
   "metadata": {},
   "outputs": [
    {
     "data": {
      "text/plain": [
       "2"
      ]
     },
     "execution_count": 35,
     "metadata": {},
     "output_type": "execute_result"
    }
   ],
   "source": [
    "p.index('t')"
   ]
  },
  {
   "cell_type": "code",
   "execution_count": 37,
   "id": "b34e2d94-14c5-49f1-8554-f1e6848cee2d",
   "metadata": {},
   "outputs": [
    {
     "data": {
      "text/plain": [
       "'python is good for \"DA\" its also use for ml'"
      ]
     },
     "execution_count": 37,
     "metadata": {},
     "output_type": "execute_result"
    }
   ],
   "source": [
    "p"
   ]
  },
  {
   "cell_type": "code",
   "execution_count": 38,
   "id": "b4138f4a-c865-4228-8206-8d0a18afdceb",
   "metadata": {},
   "outputs": [
    {
     "data": {
      "text/plain": [
       "7"
      ]
     },
     "execution_count": 38,
     "metadata": {},
     "output_type": "execute_result"
    }
   ],
   "source": [
    "p.index('is')"
   ]
  },
  {
   "cell_type": "code",
   "execution_count": 39,
   "id": "6fd673aa-8ec3-4abe-a41c-1d7dc3c480cb",
   "metadata": {},
   "outputs": [],
   "source": [
    "p = 'copper_daily_prd.csv'"
   ]
  },
  {
   "cell_type": "code",
   "execution_count": 41,
   "id": "46ebd430-4305-4c80-a850-a271aa2bac07",
   "metadata": {},
   "outputs": [
    {
     "data": {
      "text/plain": [
       "True"
      ]
     },
     "execution_count": 41,
     "metadata": {},
     "output_type": "execute_result"
    }
   ],
   "source": [
    "p.startswith('copper')"
   ]
  },
  {
   "cell_type": "code",
   "execution_count": 42,
   "id": "85ad9fc8-9cd1-427f-8371-81d3b4e4df0e",
   "metadata": {},
   "outputs": [
    {
     "data": {
      "text/plain": [
       "True"
      ]
     },
     "execution_count": 42,
     "metadata": {},
     "output_type": "execute_result"
    }
   ],
   "source": [
    "p.endswith('.csv')"
   ]
  },
  {
   "cell_type": "code",
   "execution_count": 43,
   "id": "f7c1fee9-6c39-42db-8079-0c4da7a2fc28",
   "metadata": {},
   "outputs": [],
   "source": [
    "p = 'python#java#hadoop'"
   ]
  },
  {
   "cell_type": "code",
   "execution_count": 44,
   "id": "00de35bf-d8a1-40df-a953-8f49c75a01c9",
   "metadata": {},
   "outputs": [
    {
     "data": {
      "text/plain": [
       "'python#java#hadoop'"
      ]
     },
     "execution_count": 44,
     "metadata": {},
     "output_type": "execute_result"
    }
   ],
   "source": [
    "p"
   ]
  },
  {
   "cell_type": "code",
   "execution_count": null,
   "id": "8f156543-ae0d-4606-b950-673821f5bf84",
   "metadata": {},
   "outputs": [],
   "source": [
    "split(sep) --> list"
   ]
  },
  {
   "cell_type": "code",
   "execution_count": 46,
   "id": "c8d5fe1d-16f7-4ca4-abc6-c56150a464fc",
   "metadata": {},
   "outputs": [
    {
     "data": {
      "text/plain": [
       "'java'"
      ]
     },
     "execution_count": 46,
     "metadata": {},
     "output_type": "execute_result"
    }
   ],
   "source": [
    "p.split('#')[1]"
   ]
  },
  {
   "cell_type": "code",
   "execution_count": 47,
   "id": "1a3a2d17-b82e-4f28-ad6f-ff46ed4f37b4",
   "metadata": {},
   "outputs": [],
   "source": [
    "email = 'test@gmail.com'"
   ]
  },
  {
   "cell_type": "code",
   "execution_count": 48,
   "id": "05d5a3a0-73c6-4e67-8092-8cffa309072c",
   "metadata": {},
   "outputs": [
    {
     "data": {
      "text/plain": [
       "'gmail.com'"
      ]
     },
     "execution_count": 48,
     "metadata": {},
     "output_type": "execute_result"
    }
   ],
   "source": [
    "email.split('@')[1]"
   ]
  },
  {
   "cell_type": "code",
   "execution_count": 49,
   "id": "60808d4a-08a4-42d9-a8ee-6c210fed6def",
   "metadata": {},
   "outputs": [],
   "source": [
    "data  = 'copper-daily_2023_01.pdf'"
   ]
  },
  {
   "cell_type": "code",
   "execution_count": 53,
   "id": "24034825-2914-44a1-8eea-974f0553dfeb",
   "metadata": {},
   "outputs": [
    {
     "data": {
      "text/plain": [
       "'daily'"
      ]
     },
     "execution_count": 53,
     "metadata": {},
     "output_type": "execute_result"
    }
   ],
   "source": [
    "data.split('-')[1].split('_')[0]"
   ]
  },
  {
   "cell_type": "code",
   "execution_count": 54,
   "id": "65f31462-5019-4c45-950e-5298872f6328",
   "metadata": {},
   "outputs": [],
   "source": [
    "p = '    admin   ' "
   ]
  },
  {
   "cell_type": "code",
   "execution_count": 55,
   "id": "65b03b30-df4a-47e8-bdb0-ad336e24e52b",
   "metadata": {},
   "outputs": [],
   "source": [
    "q = 'admin'"
   ]
  },
  {
   "cell_type": "code",
   "execution_count": 56,
   "id": "721c374a-2ecc-426f-83c2-398bfe581d97",
   "metadata": {},
   "outputs": [
    {
     "data": {
      "text/plain": [
       "False"
      ]
     },
     "execution_count": 56,
     "metadata": {},
     "output_type": "execute_result"
    }
   ],
   "source": [
    "p==q"
   ]
  },
  {
   "cell_type": "code",
   "execution_count": 57,
   "id": "e02d49e1-c6b5-46bf-9a1d-6c7b05017d1f",
   "metadata": {},
   "outputs": [
    {
     "data": {
      "text/plain": [
       "'admin'"
      ]
     },
     "execution_count": 57,
     "metadata": {},
     "output_type": "execute_result"
    }
   ],
   "source": [
    "p.strip()"
   ]
  },
  {
   "cell_type": "code",
   "execution_count": null,
   "id": "659eaa5a-44e1-4ccd-9134-25807612e27d",
   "metadata": {},
   "outputs": [],
   "source": [
    "strip - cut white spaces from both end\n",
    "lstrip - left side\n",
    "rstrip - right side"
   ]
  },
  {
   "cell_type": "code",
   "execution_count": 58,
   "id": "83b4e846-be69-4e3f-b832-c451aa7961ab",
   "metadata": {},
   "outputs": [
    {
     "data": {
      "text/plain": [
       "'admin   '"
      ]
     },
     "execution_count": 58,
     "metadata": {},
     "output_type": "execute_result"
    }
   ],
   "source": [
    "p.lstrip()"
   ]
  },
  {
   "cell_type": "code",
   "execution_count": 59,
   "id": "79acfb98-d1e4-466e-b484-933c4468f6fc",
   "metadata": {},
   "outputs": [
    {
     "data": {
      "text/plain": [
       "'    admin'"
      ]
     },
     "execution_count": 59,
     "metadata": {},
     "output_type": "execute_result"
    }
   ],
   "source": [
    "p.rstrip()"
   ]
  },
  {
   "cell_type": "code",
   "execution_count": 60,
   "id": "fef04687-d98e-44b3-ad64-3860d829d532",
   "metadata": {},
   "outputs": [
    {
     "name": "stdout",
     "output_type": "stream",
     "text": [
      "30\n"
     ]
    }
   ],
   "source": [
    "a = 10\n",
    "b = 20\n",
    "c = a+b\n",
    "print(c)"
   ]
  },
  {
   "cell_type": "code",
   "execution_count": 65,
   "id": "7de8321f-ce8b-4451-b08f-66f3457a1bc0",
   "metadata": {},
   "outputs": [
    {
     "name": "stdin",
     "output_type": "stream",
     "text": [
      "Enter the number: 100\n",
      "Enter the number: 200\n"
     ]
    },
    {
     "name": "stdout",
     "output_type": "stream",
     "text": [
      "300\n"
     ]
    }
   ],
   "source": [
    "a = int(input(\"Enter the number:\"))\n",
    "b = int(input(\"Enter the number:\"))\n",
    "c = a+b\n",
    "print(c)"
   ]
  },
  {
   "cell_type": "code",
   "execution_count": 62,
   "id": "38b54a9a-b957-438b-99c7-102173190fa7",
   "metadata": {},
   "outputs": [
    {
     "data": {
      "text/plain": [
       "str"
      ]
     },
     "execution_count": 62,
     "metadata": {},
     "output_type": "execute_result"
    }
   ],
   "source": [
    "type(a)"
   ]
  },
  {
   "cell_type": "code",
   "execution_count": 66,
   "id": "c4d44633-3b0c-4e33-9141-f0812254c05e",
   "metadata": {},
   "outputs": [],
   "source": [
    "p = 'python'"
   ]
  },
  {
   "cell_type": "code",
   "execution_count": 67,
   "id": "2363b4f9-2697-4c2f-a864-b5da114d3d97",
   "metadata": {},
   "outputs": [],
   "source": [
    "prdid = 'PX-454545'"
   ]
  },
  {
   "cell_type": "code",
   "execution_count": 68,
   "id": "5f6776e1-0a68-4b1a-9a8a-f0ba9aa56e86",
   "metadata": {},
   "outputs": [
    {
     "data": {
      "text/plain": [
       "'AU-454545'"
      ]
     },
     "execution_count": 68,
     "metadata": {},
     "output_type": "execute_result"
    }
   ],
   "source": [
    "prdid.replace('PX','AU')"
   ]
  },
  {
   "cell_type": "code",
   "execution_count": 70,
   "id": "dd3e9e14-5801-4b77-867d-756ab0a0b261",
   "metadata": {},
   "outputs": [
    {
     "data": {
      "text/plain": [
       "'python'"
      ]
     },
     "execution_count": 70,
     "metadata": {},
     "output_type": "execute_result"
    }
   ],
   "source": [
    "find(sub):\n",
    "if sub found then it will return its index number\n",
    "if not then return -1"
   ]
  },
  {
   "cell_type": "code",
   "execution_count": 72,
   "id": "e551fef4-3946-4450-88f2-3fd200b57b61",
   "metadata": {},
   "outputs": [
    {
     "data": {
      "text/plain": [
       "2"
      ]
     },
     "execution_count": 72,
     "metadata": {},
     "output_type": "execute_result"
    }
   ],
   "source": [
    "p.find('t')"
   ]
  },
  {
   "cell_type": "code",
   "execution_count": 73,
   "id": "d4d0659a-3bdd-44d0-bf9e-474fa1ac4096",
   "metadata": {},
   "outputs": [],
   "source": [
    "p = 'if sub found then it will return its index number'"
   ]
  },
  {
   "cell_type": "code",
   "execution_count": 76,
   "id": "b1098a9c-9ec5-4a35-b1bf-a8bf993fb7be",
   "metadata": {},
   "outputs": [
    {
     "name": "stdout",
     "output_type": "stream",
     "text": [
      "not found\n"
     ]
    }
   ],
   "source": [
    "if p.find('python')==-1:\n",
    "    print(\"not found\")\n",
    "else:\n",
    "    print(\"found\")"
   ]
  },
  {
   "cell_type": "code",
   "execution_count": null,
   "id": "749bb900-8ad3-41a2-8b9f-3bb08543419f",
   "metadata": {},
   "outputs": [],
   "source": []
  }
 ],
 "metadata": {
  "kernelspec": {
   "display_name": "Python 3 (ipykernel)",
   "language": "python",
   "name": "python3"
  },
  "language_info": {
   "codemirror_mode": {
    "name": "ipython",
    "version": 3
   },
   "file_extension": ".py",
   "mimetype": "text/x-python",
   "name": "python",
   "nbconvert_exporter": "python",
   "pygments_lexer": "ipython3",
   "version": "3.12.7"
  }
 },
 "nbformat": 4,
 "nbformat_minor": 5
}

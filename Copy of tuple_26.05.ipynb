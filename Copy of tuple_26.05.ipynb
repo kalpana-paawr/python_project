{
 "cells": [
  {
   "cell_type": "code",
   "execution_count": null,
   "id": "837caebd-cc0c-4ade-b8c2-001ae7535030",
   "metadata": {},
   "outputs": [],
   "source": [
    "tuple:\n",
    "it is collection of elements\n",
    "it is denoted by ()\n",
    "it is immutable type DS [ we cannt insert|delete|update elemnt]\n",
    "read only type\n",
    "index:\n",
    "forward | positive :\n",
    "start =0 end = len-1\n",
    "\n",
    "reverse | negative:\n",
    "start =-1 end =-len\n",
    "it can contain duplicate elements\n"
   ]
  },
  {
   "cell_type": "code",
   "execution_count": 1,
   "id": "3a7c2fff-1c39-415a-b520-a4844b8e7795",
   "metadata": {},
   "outputs": [],
   "source": [
    "p = (23,564,2,3,6745,6)"
   ]
  },
  {
   "cell_type": "code",
   "execution_count": 2,
   "id": "d1b833f4-5f72-408d-a62c-a31f2d42197d",
   "metadata": {},
   "outputs": [
    {
     "data": {
      "text/plain": [
       "tuple"
      ]
     },
     "execution_count": 2,
     "metadata": {},
     "output_type": "execute_result"
    }
   ],
   "source": [
    "type(p)"
   ]
  },
  {
   "cell_type": "code",
   "execution_count": null,
   "id": "dae0d80a-8a52-4ac1-93e3-86c9165c1e34",
   "metadata": {},
   "outputs": [],
   "source": [
    "list vs tuple\n",
    "[]       ()\n",
    "mutable  immutable\n"
   ]
  },
  {
   "cell_type": "code",
   "execution_count": null,
   "id": "6f776830-7f65-4af8-8886-41494f1354f0",
   "metadata": {},
   "outputs": [],
   "source": [
    "table :\n",
    "\n",
    "prdid prdname prdprice prdqnty\n",
    "tuple list      list   list\n",
    "\n"
   ]
  },
  {
   "cell_type": "code",
   "execution_count": null,
   "id": "378d4f5a-3c37-4407-b247-a3c12163d536",
   "metadata": {},
   "outputs": [],
   "source": [
    "tuple : infrequent change "
   ]
  },
  {
   "cell_type": "code",
   "execution_count": 3,
   "id": "5ba04a90-9780-4ded-b7cc-2ab223fedfd5",
   "metadata": {},
   "outputs": [],
   "source": [
    "cred = ('admin','admin@123')"
   ]
  },
  {
   "cell_type": "code",
   "execution_count": 4,
   "id": "2c14378e-de88-477e-8beb-f4c74045bfc5",
   "metadata": {},
   "outputs": [
    {
     "data": {
      "text/plain": [
       "(23, 564, 2, 3, 6745, 6)"
      ]
     },
     "execution_count": 4,
     "metadata": {},
     "output_type": "execute_result"
    }
   ],
   "source": [
    "p"
   ]
  },
  {
   "cell_type": "code",
   "execution_count": 5,
   "id": "c0649d76-f6e1-47e5-bdd0-92d27a2d30bc",
   "metadata": {},
   "outputs": [
    {
     "data": {
      "text/plain": [
       "1"
      ]
     },
     "execution_count": 5,
     "metadata": {},
     "output_type": "execute_result"
    }
   ],
   "source": [
    "p.count(23)"
   ]
  },
  {
   "cell_type": "code",
   "execution_count": 6,
   "id": "487a3456-7689-4d77-8633-ecb8e108470d",
   "metadata": {},
   "outputs": [
    {
     "data": {
      "text/plain": [
       "2"
      ]
     },
     "execution_count": 6,
     "metadata": {},
     "output_type": "execute_result"
    }
   ],
   "source": [
    "p.index(2)\n"
   ]
  },
  {
   "cell_type": "code",
   "execution_count": null,
   "id": "23de540c-ce75-4028-b6e1-409ced2de2c9",
   "metadata": {},
   "outputs": [],
   "source": [
    "packing and unpacking"
   ]
  },
  {
   "cell_type": "code",
   "execution_count": 7,
   "id": "3b2f603d-a394-48bb-9e34-54a90de10c74",
   "metadata": {},
   "outputs": [],
   "source": [
    "p = 3,65,3,4,786,3,65,34"
   ]
  },
  {
   "cell_type": "code",
   "execution_count": 8,
   "id": "0b681cb0-22d9-4963-a82b-d2b5f5dbf20a",
   "metadata": {},
   "outputs": [
    {
     "data": {
      "text/plain": [
       "(3, 65, 3, 4, 786, 3, 65, 34)"
      ]
     },
     "execution_count": 8,
     "metadata": {},
     "output_type": "execute_result"
    }
   ],
   "source": [
    "p"
   ]
  },
  {
   "cell_type": "code",
   "execution_count": 9,
   "id": "78fe7563-477d-4d28-9138-edecf3f824b1",
   "metadata": {},
   "outputs": [],
   "source": [
    "p = 10,20"
   ]
  },
  {
   "cell_type": "code",
   "execution_count": 10,
   "id": "b7b82e4d-f19c-4029-9a7b-67dd2bcc3a0d",
   "metadata": {},
   "outputs": [
    {
     "data": {
      "text/plain": [
       "(10, 20)"
      ]
     },
     "execution_count": 10,
     "metadata": {},
     "output_type": "execute_result"
    }
   ],
   "source": [
    "p"
   ]
  },
  {
   "cell_type": "code",
   "execution_count": 14,
   "id": "7846180c-5948-4e0e-99fc-d626693e9b6e",
   "metadata": {},
   "outputs": [
    {
     "ename": "ValueError",
     "evalue": "not enough values to unpack (expected 3, got 2)",
     "output_type": "error",
     "traceback": [
      "\u001b[1;31m---------------------------------------------------------------------------\u001b[0m",
      "\u001b[1;31mValueError\u001b[0m                                Traceback (most recent call last)",
      "Cell \u001b[1;32mIn[14], line 1\u001b[0m\n\u001b[1;32m----> 1\u001b[0m x,y,z  \u001b[38;5;241m=\u001b[39m p\n",
      "\u001b[1;31mValueError\u001b[0m: not enough values to unpack (expected 3, got 2)"
     ]
    }
   ],
   "source": [
    "x,y,z  = p"
   ]
  },
  {
   "cell_type": "code",
   "execution_count": 12,
   "id": "5f7b383e-82ba-4dd5-a9cc-57f74081ae15",
   "metadata": {},
   "outputs": [
    {
     "data": {
      "text/plain": [
       "10"
      ]
     },
     "execution_count": 12,
     "metadata": {},
     "output_type": "execute_result"
    }
   ],
   "source": [
    "x"
   ]
  },
  {
   "cell_type": "code",
   "execution_count": 13,
   "id": "4157836a-3bf7-40a2-bfc1-fc21f963077c",
   "metadata": {},
   "outputs": [
    {
     "data": {
      "text/plain": [
       "20"
      ]
     },
     "execution_count": 13,
     "metadata": {},
     "output_type": "execute_result"
    }
   ],
   "source": [
    "y"
   ]
  },
  {
   "cell_type": "code",
   "execution_count": null,
   "id": "d2fefae4-a230-4dd2-b3c9-fc428492b1db",
   "metadata": {},
   "outputs": [],
   "source": [
    "Matheticals opertion:\n",
    "======================"
   ]
  }
 ],
 "metadata": {
  "kernelspec": {
   "display_name": "Python 3 (ipykernel)",
   "language": "python",
   "name": "python3"
  },
  "language_info": {
   "codemirror_mode": {
    "name": "ipython",
    "version": 3
   },
   "file_extension": ".py",
   "mimetype": "text/x-python",
   "name": "python",
   "nbconvert_exporter": "python",
   "pygments_lexer": "ipython3",
   "version": "3.12.7"
  }
 },
 "nbformat": 4,
 "nbformat_minor": 5
}

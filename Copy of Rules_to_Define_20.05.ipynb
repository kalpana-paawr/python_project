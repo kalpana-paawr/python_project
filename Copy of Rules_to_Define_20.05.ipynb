{
 "cells": [
  {
   "cell_type": "code",
   "execution_count": null,
   "id": "b62c614a-3c10-44b9-a4a6-3ea607f1b091",
   "metadata": {},
   "outputs": [],
   "source": [
    "Rules to Define Identifiers:\n",
    "============================\n",
    "name given to variable | function | class\n",
    "\n",
    "1.allowed chars are a-z,A-Z,0-9,_\n"
   ]
  },
  {
   "cell_type": "code",
   "execution_count": 9,
   "id": "e37530b6-661d-4b52-92c1-6439bf84cdf8",
   "metadata": {},
   "outputs": [],
   "source": [
    "empid = 101"
   ]
  },
  {
   "cell_type": "code",
   "execution_count": 10,
   "id": "ff319658-7a96-42b9-b752-5a3f2983adce",
   "metadata": {},
   "outputs": [],
   "source": [
    "EmpID = 102"
   ]
  },
  {
   "cell_type": "code",
   "execution_count": 11,
   "id": "9d4ba773-bff1-4f93-9bf0-19fb982cb4ec",
   "metadata": {},
   "outputs": [],
   "source": [
    "EMPID = 656"
   ]
  },
  {
   "cell_type": "code",
   "execution_count": 12,
   "id": "fc9d8217-7a84-44d8-b086-97798e4e465c",
   "metadata": {},
   "outputs": [],
   "source": [
    "emp_id = 545"
   ]
  },
  {
   "cell_type": "code",
   "execution_count": 13,
   "id": "fa48a389-5cbd-4dac-847d-fd2e8f72f7af",
   "metadata": {},
   "outputs": [
    {
     "data": {
      "text/plain": [
       "545"
      ]
     },
     "execution_count": 13,
     "metadata": {},
     "output_type": "execute_result"
    }
   ],
   "source": [
    "emp_id"
   ]
  },
  {
   "cell_type": "code",
   "execution_count": 14,
   "id": "f2194a0b-95dd-4f7e-8842-0d3a5eda75ef",
   "metadata": {},
   "outputs": [],
   "source": [
    "emp1 = 34345"
   ]
  },
  {
   "cell_type": "code",
   "execution_count": 15,
   "id": "4ed109b5-5960-4667-a841-5d38c7b9c1cf",
   "metadata": {},
   "outputs": [
    {
     "data": {
      "text/plain": [
       "34345"
      ]
     },
     "execution_count": 15,
     "metadata": {},
     "output_type": "execute_result"
    }
   ],
   "source": [
    "emp1"
   ]
  },
  {
   "cell_type": "code",
   "execution_count": 16,
   "id": "1d8b43e9-aafb-4bab-a569-8233679e7810",
   "metadata": {},
   "outputs": [
    {
     "ename": "SyntaxError",
     "evalue": "invalid syntax (1943522472.py, line 1)",
     "output_type": "error",
     "traceback": [
      "\u001b[1;36m  Cell \u001b[1;32mIn[16], line 1\u001b[1;36m\u001b[0m\n\u001b[1;33m    emp$sal = 434345\u001b[0m\n\u001b[1;37m       ^\u001b[0m\n\u001b[1;31mSyntaxError\u001b[0m\u001b[1;31m:\u001b[0m invalid syntax\n"
     ]
    }
   ],
   "source": [
    "emp$sal = 434345"
   ]
  },
  {
   "cell_type": "code",
   "execution_count": null,
   "id": "341ca36a-25df-4634-943d-51d238d8ac2f",
   "metadata": {},
   "outputs": [],
   "source": [
    "Error --> 1000+"
   ]
  },
  {
   "cell_type": "code",
   "execution_count": null,
   "id": "952516f2-95d1-419c-86b7-e10e74356e7c",
   "metadata": {},
   "outputs": [],
   "source": [
    "2.identifiers never startswith number"
   ]
  },
  {
   "cell_type": "code",
   "execution_count": 17,
   "id": "fbf99388-cf4e-4380-acf5-1c2312a141fb",
   "metadata": {},
   "outputs": [],
   "source": [
    "emp1 = 4554"
   ]
  },
  {
   "cell_type": "code",
   "execution_count": 18,
   "id": "01126472-91fa-4e74-afbd-55364705f078",
   "metadata": {},
   "outputs": [
    {
     "ename": "SyntaxError",
     "evalue": "invalid decimal literal (2359722210.py, line 1)",
     "output_type": "error",
     "traceback": [
      "\u001b[1;36m  Cell \u001b[1;32mIn[18], line 1\u001b[1;36m\u001b[0m\n\u001b[1;33m    1emp = 54545\u001b[0m\n\u001b[1;37m    ^\u001b[0m\n\u001b[1;31mSyntaxError\u001b[0m\u001b[1;31m:\u001b[0m invalid decimal literal\n"
     ]
    }
   ],
   "source": [
    "1emp = 54545"
   ]
  },
  {
   "cell_type": "code",
   "execution_count": null,
   "id": "d1315abe-eae9-4125-b31d-fb181034b6e9",
   "metadata": {},
   "outputs": [],
   "source": [
    "Guido Van Rossom :\n",
    "\n",
    "Guide : PEP8"
   ]
  },
  {
   "cell_type": "code",
   "execution_count": null,
   "id": "b368e1ab-e3fe-4630-968a-1edeaddd62bb",
   "metadata": {},
   "outputs": [],
   "source": [
    "Standard : "
   ]
  },
  {
   "cell_type": "code",
   "execution_count": null,
   "id": "5fdefcf9-e8c7-4c9e-8f83-289faa9f8705",
   "metadata": {},
   "outputs": [],
   "source": [
    "3.no lenght restrication | limitation\n",
    "\n",
    "it is not recomnnded\n",
    "\n",
    "always use meaning full variable name\n"
   ]
  },
  {
   "cell_type": "code",
   "execution_count": 19,
   "id": "b3ae1dcd-bde6-4382-94ed-3fa940e9d8ae",
   "metadata": {},
   "outputs": [],
   "source": [
    "xxxxxxxxxxxxxxxxxxxxxxxxxxxxxxxxxxxxxxxxxxxxxx = 100"
   ]
  },
  {
   "cell_type": "code",
   "execution_count": 20,
   "id": "d12aa728-3380-40fa-980c-5ddacc3b9542",
   "metadata": {},
   "outputs": [],
   "source": [
    "a  =10"
   ]
  },
  {
   "cell_type": "code",
   "execution_count": 22,
   "id": "aff59ee9-53f4-4304-81a7-c95e8e8838a0",
   "metadata": {},
   "outputs": [],
   "source": [
    "product_qnty = 25"
   ]
  },
  {
   "cell_type": "code",
   "execution_count": 23,
   "id": "613980c8-d7e0-4c0d-8f04-5d286eb14dab",
   "metadata": {},
   "outputs": [],
   "source": [
    "pq = 434"
   ]
  },
  {
   "cell_type": "code",
   "execution_count": null,
   "id": "9aa89b38-2bb2-4751-a7da-4031c3599bd9",
   "metadata": {},
   "outputs": [],
   "source": [
    "Case Rule:\n",
    "1.PascalCase : first letter - capital[ upper case\n",
    "2.camelCase : first letter -- lower case\n",
    "3.snake_case : word_word"
   ]
  },
  {
   "cell_type": "code",
   "execution_count": null,
   "id": "3c6f3ba5-1fd0-4b22-9df6-c18538672cd9",
   "metadata": {},
   "outputs": [],
   "source": [
    "EmpName\n",
    "\n",
    "EmpCity\n",
    "\n",
    "EmpAddressByLocation"
   ]
  },
  {
   "cell_type": "code",
   "execution_count": null,
   "id": "b11c38b6-0412-477a-934c-6aca008ef2bd",
   "metadata": {},
   "outputs": [],
   "source": [
    "YouTube\n",
    "AmazonPay\n",
    "GooglePay\n",
    "PhonePay"
   ]
  },
  {
   "cell_type": "code",
   "execution_count": null,
   "id": "244f8309-92de-48e1-b763-660d70857859",
   "metadata": {},
   "outputs": [],
   "source": [
    "empName\n",
    "\n",
    "createDataFrame\n",
    "\n",
    "productQntyByLocation\n",
    "\n",
    "\n",
    "iPhone\n",
    "\n",
    "\n",
    "iBall\n",
    "\n",
    "eBay\n"
   ]
  },
  {
   "cell_type": "code",
   "execution_count": null,
   "id": "435aa21d-25cf-453e-b8a7-7d0bc0256fa8",
   "metadata": {},
   "outputs": [],
   "source": [
    "emp_name\n",
    "\n",
    "emp_address_by_dept\n",
    "\n",
    "prd_qnty_by_loc\n",
    "\n",
    "create_dataframe_from_file\n",
    "\n",
    "EMP_DEPT_BY_LOCATION"
   ]
  },
  {
   "cell_type": "code",
   "execution_count": null,
   "id": "d7f4f3ea-18c7-47f1-a4e3-a901224f25c9",
   "metadata": {},
   "outputs": [],
   "source": [
    "4.we cannt use keyword as identifiers"
   ]
  },
  {
   "cell_type": "code",
   "execution_count": 25,
   "id": "202feffe-0eca-4519-a9cb-18e4e94e6bf1",
   "metadata": {},
   "outputs": [],
   "source": [
    "reserved word by Python\n"
   ]
  },
  {
   "cell_type": "code",
   "execution_count": 26,
   "id": "ff018c59-5ee9-4f75-ba04-41fbf01e8abc",
   "metadata": {},
   "outputs": [],
   "source": [
    "print =4545"
   ]
  },
  {
   "cell_type": "code",
   "execution_count": 27,
   "id": "57bb2a56-bef2-491b-bfa4-0bcd771cb976",
   "metadata": {},
   "outputs": [],
   "source": [
    "import keyword"
   ]
  },
  {
   "cell_type": "code",
   "execution_count": 28,
   "id": "086d433b-735c-486a-b109-f6de700ecc35",
   "metadata": {},
   "outputs": [
    {
     "data": {
      "text/plain": [
       "['False',\n",
       " 'None',\n",
       " 'True',\n",
       " 'and',\n",
       " 'as',\n",
       " 'assert',\n",
       " 'async',\n",
       " 'await',\n",
       " 'break',\n",
       " 'class',\n",
       " 'continue',\n",
       " 'def',\n",
       " 'del',\n",
       " 'elif',\n",
       " 'else',\n",
       " 'except',\n",
       " 'finally',\n",
       " 'for',\n",
       " 'from',\n",
       " 'global',\n",
       " 'if',\n",
       " 'import',\n",
       " 'in',\n",
       " 'is',\n",
       " 'lambda',\n",
       " 'nonlocal',\n",
       " 'not',\n",
       " 'or',\n",
       " 'pass',\n",
       " 'raise',\n",
       " 'return',\n",
       " 'try',\n",
       " 'while',\n",
       " 'with',\n",
       " 'yield']"
      ]
     },
     "execution_count": 28,
     "metadata": {},
     "output_type": "execute_result"
    }
   ],
   "source": [
    "keyword.kwlist"
   ]
  },
  {
   "cell_type": "code",
   "execution_count": 29,
   "id": "0f72ba51-281d-4550-a16b-27734b78c3ae",
   "metadata": {},
   "outputs": [
    {
     "ename": "SyntaxError",
     "evalue": "invalid syntax (1240194292.py, line 1)",
     "output_type": "error",
     "traceback": [
      "\u001b[1;36m  Cell \u001b[1;32mIn[29], line 1\u001b[1;36m\u001b[0m\n\u001b[1;33m    lambda = 100\u001b[0m\n\u001b[1;37m           ^\u001b[0m\n\u001b[1;31mSyntaxError\u001b[0m\u001b[1;31m:\u001b[0m invalid syntax\n"
     ]
    }
   ],
   "source": [
    "lambda = 100"
   ]
  },
  {
   "cell_type": "code",
   "execution_count": 30,
   "id": "0610b766-af6d-4566-9860-e32a6bfac0d1",
   "metadata": {},
   "outputs": [
    {
     "ename": "SyntaxError",
     "evalue": "invalid syntax (4125604621.py, line 1)",
     "output_type": "error",
     "traceback": [
      "\u001b[1;36m  Cell \u001b[1;32mIn[30], line 1\u001b[1;36m\u001b[0m\n\u001b[1;33m    return =600\u001b[0m\n\u001b[1;37m           ^\u001b[0m\n\u001b[1;31mSyntaxError\u001b[0m\u001b[1;31m:\u001b[0m invalid syntax\n"
     ]
    }
   ],
   "source": [
    "return =600"
   ]
  },
  {
   "cell_type": "code",
   "execution_count": null,
   "id": "29fad7f4-87e2-48e3-ad43-5f983b5c1fd6",
   "metadata": {},
   "outputs": [],
   "source": [
    "5.Python is Case Sensetive Lang"
   ]
  },
  {
   "cell_type": "code",
   "execution_count": null,
   "id": "b1548def-8a95-495f-8370-96a08af1c624",
   "metadata": {},
   "outputs": [],
   "source": [
    "a-z\n",
    "\n",
    "A-Z "
   ]
  },
  {
   "cell_type": "code",
   "execution_count": 31,
   "id": "ca84b5a9-7b7d-4a19-aebf-b26a04214937",
   "metadata": {},
   "outputs": [],
   "source": [
    "a  =100"
   ]
  },
  {
   "cell_type": "code",
   "execution_count": 32,
   "id": "0d52984a-ab70-4b38-9ce0-cc87fa50c338",
   "metadata": {},
   "outputs": [],
   "source": [
    "A = 500"
   ]
  },
  {
   "cell_type": "code",
   "execution_count": 33,
   "id": "573c706d-9111-4732-9cd4-da23cef4f01a",
   "metadata": {},
   "outputs": [
    {
     "data": {
      "text/plain": [
       "100"
      ]
     },
     "execution_count": 33,
     "metadata": {},
     "output_type": "execute_result"
    }
   ],
   "source": [
    "a"
   ]
  },
  {
   "cell_type": "code",
   "execution_count": 34,
   "id": "d96433a0-6146-41c5-9468-282c0626fda4",
   "metadata": {},
   "outputs": [
    {
     "data": {
      "text/plain": [
       "500"
      ]
     },
     "execution_count": 34,
     "metadata": {},
     "output_type": "execute_result"
    }
   ],
   "source": [
    "A"
   ]
  },
  {
   "cell_type": "code",
   "execution_count": 35,
   "id": "7b6c7ce4-608b-431a-83ce-f2405f9b06e3",
   "metadata": {},
   "outputs": [],
   "source": [
    "test  =4353\n",
    "TEST = 4654"
   ]
  },
  {
   "cell_type": "code",
   "execution_count": 36,
   "id": "f654335d-4166-42ef-b167-284b7089a2bb",
   "metadata": {},
   "outputs": [
    {
     "data": {
      "text/plain": [
       "4353"
      ]
     },
     "execution_count": 36,
     "metadata": {},
     "output_type": "execute_result"
    }
   ],
   "source": [
    "test"
   ]
  },
  {
   "cell_type": "code",
   "execution_count": 37,
   "id": "b30b1b1b-8b71-48ec-aa57-a44a17e48163",
   "metadata": {},
   "outputs": [
    {
     "data": {
      "text/plain": [
       "4654"
      ]
     },
     "execution_count": 37,
     "metadata": {},
     "output_type": "execute_result"
    }
   ],
   "source": [
    "TEST"
   ]
  },
  {
   "cell_type": "code",
   "execution_count": null,
   "id": "346621d8-1e25-467d-995d-30cdb54af853",
   "metadata": {},
   "outputs": [],
   "source": [
    "Python:\n",
    "\n",
    "Data Type | Data Structures"
   ]
  },
  {
   "cell_type": "code",
   "execution_count": null,
   "id": "27b17d9a-4548-4bf1-8f33-bac4a8e04e86",
   "metadata": {},
   "outputs": [],
   "source": [
    "1.int -  complete number\n",
    "2.float - incomplte number\n",
    "3.str - single or multiple char \n",
    "4.None - empty\n",
    "5.bool -  True | False\n",
    "6.complex\n",
    "Note : char is not present in Python"
   ]
  },
  {
   "cell_type": "code",
   "execution_count": null,
   "id": "ca57b78c-8300-4e1f-8790-90f287f17e63",
   "metadata": {},
   "outputs": [],
   "source": [
    "number :\n",
    "1.complete number --  45,500,4334 -- intger\n",
    "\n",
    "2.incomplete number --> 45.756,45.35,87.34,22/7 -- float\n",
    "\n",
    "python  male  M \n",
    "\n",
    "string:\n",
    "single char --  str\n",
    " \n",
    "\n",
    "multiple char - str\n"
   ]
  },
  {
   "cell_type": "code",
   "execution_count": 38,
   "id": "fc6c41dd-a0ca-4e59-a01d-7aa62f40ef26",
   "metadata": {},
   "outputs": [
    {
     "data": {
      "text/plain": [
       "('python', 'python', 'python', 'python')"
      ]
     },
     "execution_count": 38,
     "metadata": {},
     "output_type": "execute_result"
    }
   ],
   "source": [
    "'python' , \"python\" , '''python''',\"\"\"python\"\"\" "
   ]
  },
  {
   "cell_type": "code",
   "execution_count": 39,
   "id": "e6094b56-19ca-4cf3-83b4-fbdb96a2b55c",
   "metadata": {},
   "outputs": [],
   "source": [
    "empid = 101"
   ]
  },
  {
   "cell_type": "code",
   "execution_count": 40,
   "id": "287b81b0-0b33-403f-8168-2b80563955cb",
   "metadata": {},
   "outputs": [
    {
     "data": {
      "text/plain": [
       "int"
      ]
     },
     "execution_count": 40,
     "metadata": {},
     "output_type": "execute_result"
    }
   ],
   "source": [
    "type(empid)"
   ]
  },
  {
   "cell_type": "code",
   "execution_count": 41,
   "id": "9794171a-5416-4095-9a23-225bc81ee04a",
   "metadata": {},
   "outputs": [],
   "source": [
    "sal  = 57576.343"
   ]
  },
  {
   "cell_type": "code",
   "execution_count": 42,
   "id": "b4cb42c8-8c22-497b-a855-98deea6ab9f8",
   "metadata": {},
   "outputs": [
    {
     "data": {
      "text/plain": [
       "float"
      ]
     },
     "execution_count": 42,
     "metadata": {},
     "output_type": "execute_result"
    }
   ],
   "source": [
    "type(sal)"
   ]
  },
  {
   "cell_type": "code",
   "execution_count": 43,
   "id": "b1974d02-afa1-470c-afb0-36adf773a3f4",
   "metadata": {},
   "outputs": [],
   "source": [
    "gen = 'm'"
   ]
  },
  {
   "cell_type": "code",
   "execution_count": 44,
   "id": "0c414f84-c037-491b-9f30-a85ddf9a7de0",
   "metadata": {},
   "outputs": [
    {
     "data": {
      "text/plain": [
       "str"
      ]
     },
     "execution_count": 44,
     "metadata": {},
     "output_type": "execute_result"
    }
   ],
   "source": [
    "type(gen)"
   ]
  },
  {
   "cell_type": "code",
   "execution_count": 45,
   "id": "d7f24910-f40b-4d26-8f8b-40a77cc239fd",
   "metadata": {},
   "outputs": [],
   "source": [
    "name = 'keshav'"
   ]
  },
  {
   "cell_type": "code",
   "execution_count": 47,
   "id": "06b9e80e-d749-4d8d-969e-81b50d90b5a6",
   "metadata": {},
   "outputs": [
    {
     "data": {
      "text/plain": [
       "str"
      ]
     },
     "execution_count": 47,
     "metadata": {},
     "output_type": "execute_result"
    }
   ],
   "source": [
    "type(name)"
   ]
  },
  {
   "cell_type": "code",
   "execution_count": 48,
   "id": "d58dce09-3c17-494d-b936-837c911bf4a0",
   "metadata": {},
   "outputs": [],
   "source": [
    "temp = None"
   ]
  },
  {
   "cell_type": "code",
   "execution_count": 49,
   "id": "459cedda-f669-474e-b1aa-f7a11245beb3",
   "metadata": {},
   "outputs": [
    {
     "data": {
      "text/plain": [
       "NoneType"
      ]
     },
     "execution_count": 49,
     "metadata": {},
     "output_type": "execute_result"
    }
   ],
   "source": [
    "type(temp)"
   ]
  },
  {
   "cell_type": "code",
   "execution_count": 50,
   "id": "fb83babf-a68c-4560-88d4-17bd3b47ca58",
   "metadata": {},
   "outputs": [],
   "source": [
    "ismarrried = True"
   ]
  },
  {
   "cell_type": "code",
   "execution_count": 51,
   "id": "803e1089-4851-4455-bca6-517354ec7471",
   "metadata": {},
   "outputs": [
    {
     "data": {
      "text/plain": [
       "bool"
      ]
     },
     "execution_count": 51,
     "metadata": {},
     "output_type": "execute_result"
    }
   ],
   "source": [
    "type(ismarrried)"
   ]
  },
  {
   "cell_type": "code",
   "execution_count": null,
   "id": "bde95b1f-9aaa-4aa2-b310-fce31b60f72b",
   "metadata": {},
   "outputs": [],
   "source": []
  }
 ],
 "metadata": {
  "kernelspec": {
   "display_name": "Python 3 (ipykernel)",
   "language": "python",
   "name": "python3"
  },
  "language_info": {
   "codemirror_mode": {
    "name": "ipython",
    "version": 3
   },
   "file_extension": ".py",
   "mimetype": "text/x-python",
   "name": "python",
   "nbconvert_exporter": "python",
   "pygments_lexer": "ipython3",
   "version": "3.12.7"
  }
 },
 "nbformat": 4,
 "nbformat_minor": 5
}

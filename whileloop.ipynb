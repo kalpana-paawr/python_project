{
 "cells": [
  {
   "cell_type": "code",
   "execution_count": 14,
   "id": "6744e33a-0e8f-489d-ba3e-3b73623c1c93",
   "metadata": {},
   "outputs": [],
   "source": [
    "p = [34,75,34,75,34,575,43,7,6,'dfsdf','gdfg','fhfh',554,345,655,'dfgfdg',456]"
   ]
  },
  {
   "cell_type": "code",
   "execution_count": 9,
   "id": "e1c537aa-85c7-4652-be3b-4acf2330d07f",
   "metadata": {},
   "outputs": [
    {
     "data": {
      "text/plain": [
       "[34,\n",
       " 75,\n",
       " 34,\n",
       " 75,\n",
       " 34,\n",
       " 575,\n",
       " 43,\n",
       " 7,\n",
       " 6,\n",
       " 'dfsdf',\n",
       " 'gdfg',\n",
       " 'fhfh',\n",
       " 554,\n",
       " 345,\n",
       " 655,\n",
       " 'dfgfdg',\n",
       " 456]"
      ]
     },
     "execution_count": 9,
     "metadata": {},
     "output_type": "execute_result"
    }
   ],
   "source": [
    "p"
   ]
  },
  {
   "cell_type": "code",
   "execution_count": 11,
   "id": "f341bd7f-ce1d-42ce-96d1-f54f056a10aa",
   "metadata": {},
   "outputs": [
    {
     "name": "stdout",
     "output_type": "stream",
     "text": [
      "Processing: dfsdf\n",
      "Processing: gdfg\n",
      "Processing: fhfh\n",
      "Processing: dfgfdg\n"
     ]
    }
   ],
   "source": [
    "for i in p:\n",
    "    if isinstance(i,str):\n",
    "        print(\"Processing:\",i)\n",
    "    else:\n",
    "        continue"
   ]
  },
  {
   "cell_type": "code",
   "execution_count": 12,
   "id": "d6109be1-8596-47e2-aae5-3234558a0861",
   "metadata": {},
   "outputs": [],
   "source": [
    "emails = ['test@gmail.com','sample@gmail.com','python@fdsfdsfsdf','sdfsdfds','sdfsdf','hadoop@gmail.com']"
   ]
  },
  {
   "cell_type": "code",
   "execution_count": 13,
   "id": "d24888bc-e03d-498a-9138-4cc81d9cefca",
   "metadata": {},
   "outputs": [
    {
     "name": "stdout",
     "output_type": "stream",
     "text": [
      "processing: test@gmail.com\n",
      "processing: sample@gmail.com\n"
     ]
    }
   ],
   "source": [
    "for email in emails:\n",
    "    if email.endswith('@gmail.com'):\n",
    "        print(\"processing:\",email)\n",
    "    else:\n",
    "        break"
   ]
  },
  {
   "cell_type": "code",
   "execution_count": null,
   "id": "3376c403-3a4f-4124-9480-3ad7eb76cf9c",
   "metadata": {},
   "outputs": [],
   "source": [
    "continue:\n"
   ]
  },
  {
   "cell_type": "code",
   "execution_count": 15,
   "id": "ff878de0-d13c-4b0b-af1c-c00dff1ebb0d",
   "metadata": {},
   "outputs": [
    {
     "data": {
      "text/plain": [
       "[34,\n",
       " 75,\n",
       " 34,\n",
       " 75,\n",
       " 34,\n",
       " 575,\n",
       " 43,\n",
       " 7,\n",
       " 6,\n",
       " 'dfsdf',\n",
       " 'gdfg',\n",
       " 'fhfh',\n",
       " 554,\n",
       " 345,\n",
       " 655,\n",
       " 'dfgfdg',\n",
       " 456]"
      ]
     },
     "execution_count": 15,
     "metadata": {},
     "output_type": "execute_result"
    }
   ],
   "source": [
    "p"
   ]
  },
  {
   "cell_type": "code",
   "execution_count": 21,
   "id": "f3ed959c-dd0a-4778-a090-94c36f2834b8",
   "metadata": {},
   "outputs": [
    {
     "name": "stdout",
     "output_type": "stream",
     "text": [
      "34\n",
      "75\n",
      "34\n",
      "75\n",
      "34\n",
      "575\n",
      "43\n",
      "7\n",
      "6\n",
      "hi\n",
      "hi\n",
      "hi\n",
      "554\n",
      "345\n",
      "655\n",
      "hi\n",
      "456\n",
      "end\n"
     ]
    }
   ],
   "source": [
    "for i in p:\n",
    "    if str(i).isnumeric():\n",
    "        print(i)\n",
    "    else:\n",
    "        pass\n",
    "        print(\"hi\")\n",
    "print(\"end\")"
   ]
  },
  {
   "cell_type": "code",
   "execution_count": null,
   "id": "007c9c6c-2cff-4068-a622-08bdbb8e50b3",
   "metadata": {},
   "outputs": [],
   "source": [
    "pass :"
   ]
  },
  {
   "cell_type": "code",
   "execution_count": 19,
   "id": "7527fadf-d1ba-44b0-b980-fb817bdeb3fe",
   "metadata": {},
   "outputs": [],
   "source": [
    "if True:\n",
    "    pass"
   ]
  },
  {
   "cell_type": "code",
   "execution_count": 20,
   "id": "620d93f2-a600-4c3e-8b06-3a91cd8be650",
   "metadata": {},
   "outputs": [
    {
     "ename": "SyntaxError",
     "evalue": "incomplete input (2961736738.py, line 1)",
     "output_type": "error",
     "traceback": [
      "\u001b[1;36m  Cell \u001b[1;32mIn[20], line 1\u001b[1;36m\u001b[0m\n\u001b[1;33m    if True:\u001b[0m\n\u001b[1;37m            ^\u001b[0m\n\u001b[1;31mSyntaxError\u001b[0m\u001b[1;31m:\u001b[0m incomplete input\n"
     ]
    }
   ],
   "source": [
    "if True:"
   ]
  },
  {
   "cell_type": "code",
   "execution_count": 23,
   "id": "31faec10-6e70-4bb0-8574-ad07f5a24bc9",
   "metadata": {},
   "outputs": [
    {
     "ename": "SyntaxError",
     "evalue": "'continue' not properly in loop (1184395191.py, line 2)",
     "output_type": "error",
     "traceback": [
      "\u001b[1;36m  Cell \u001b[1;32mIn[23], line 2\u001b[1;36m\u001b[0m\n\u001b[1;33m    continue\u001b[0m\n\u001b[1;37m    ^\u001b[0m\n\u001b[1;31mSyntaxError\u001b[0m\u001b[1;31m:\u001b[0m 'continue' not properly in loop\n"
     ]
    }
   ],
   "source": [
    "def test():\n",
    "    continue"
   ]
  },
  {
   "cell_type": "code",
   "execution_count": 26,
   "id": "72b3db66-cb8c-4758-ad98-00424fbe4ca8",
   "metadata": {},
   "outputs": [],
   "source": [
    "def file_read():\n",
    "    pass\n",
    "    \n",
    "\n",
    "def fileProcessing():\n",
    "    pass\n",
    "\n",
    "def main():\n",
    "    pass"
   ]
  },
  {
   "cell_type": "code",
   "execution_count": null,
   "id": "2a614bfe-5348-4d2f-a9ac-881084e0ba66",
   "metadata": {},
   "outputs": [],
   "source": [
    "while loop: condition based loop\n",
    "for loop : group based loop"
   ]
  },
  {
   "cell_type": "code",
   "execution_count": null,
   "id": "42f4bcf2-8d2e-425c-be4f-a6f4054d41d4",
   "metadata": {},
   "outputs": [],
   "source": [
    "while condition:\n",
    "    block of code"
   ]
  },
  {
   "cell_type": "code",
   "execution_count": 27,
   "id": "6fc1717a-342e-45a2-b897-910ce2029274",
   "metadata": {},
   "outputs": [
    {
     "name": "stdout",
     "output_type": "stream",
     "text": [
      "1\n",
      "2\n",
      "3\n",
      "4\n",
      "5\n",
      "6\n",
      "7\n",
      "8\n",
      "9\n",
      "10\n"
     ]
    }
   ],
   "source": [
    "i =1\n",
    "while i<=10:\n",
    "    print(i)\n",
    "    i+=1"
   ]
  },
  {
   "cell_type": "code",
   "execution_count": 1,
   "id": "ad0c41bb-0bca-4655-a259-955b34313fcb",
   "metadata": {},
   "outputs": [],
   "source": [
    "p = [34,76,34,7565,3,76,78,34,75,45]"
   ]
  },
  {
   "cell_type": "code",
   "execution_count": 2,
   "id": "4ce1c29a-f709-4625-857b-4f2940f465b8",
   "metadata": {},
   "outputs": [
    {
     "name": "stdout",
     "output_type": "stream",
     "text": [
      "34\n",
      "76\n",
      "34\n",
      "7565\n",
      "3\n",
      "76\n",
      "78\n",
      "34\n",
      "75\n",
      "45\n"
     ]
    }
   ],
   "source": [
    "i=0\n",
    "while i<=len(p)-1:\n",
    "    print(p[i])\n",
    "    i+=1"
   ]
  },
  {
   "cell_type": "code",
   "execution_count": 8,
   "id": "9ab290e7-f021-4e41-8574-6504d031cdad",
   "metadata": {},
   "outputs": [],
   "source": [
    "batches = [[101,'keshav',54545],[102,'rakesh',4545454],[103,'rahul',5646456]]"
   ]
  },
  {
   "cell_type": "code",
   "execution_count": 9,
   "id": "9faa37ec-3798-4064-8337-4d0f28894851",
   "metadata": {},
   "outputs": [
    {
     "name": "stdout",
     "output_type": "stream",
     "text": [
      "inserting into db: [101, 'keshav', 54545]\n",
      "inserting into db: [102, 'rakesh', 4545454]\n",
      "inserting into db: [103, 'rahul', 5646456]\n",
      "total batches inserted: 3\n"
     ]
    }
   ],
   "source": [
    "count=0\n",
    "while batches:\n",
    "    batch = batches.pop(0)\n",
    "    count+=1\n",
    "    print(\"inserting into db:\",batch)\n",
    "print(\"total batches inserted:\",count)    "
   ]
  },
  {
   "cell_type": "code",
   "execution_count": null,
   "id": "0fe431f0-79e9-4555-be4d-e9b24a2598a0",
   "metadata": {},
   "outputs": [
    {
     "name": "stdin",
     "output_type": "stream",
     "text": [
      "Enter the number: 54\n",
      "Enter the second number: 34\n"
     ]
    },
    {
     "name": "stdout",
     "output_type": "stream",
     "text": [
      "Addition of 54 and 34 is 88\n"
     ]
    },
    {
     "name": "stdin",
     "output_type": "stream",
     "text": [
      "do you want to continue[yes|no]: teesgfsdgfsdgsdgs\n",
      "Enter the number: 66\n",
      "Enter the second number: 99\n"
     ]
    },
    {
     "name": "stdout",
     "output_type": "stream",
     "text": [
      "Addition of 66 and 99 is 165\n"
     ]
    }
   ],
   "source": [
    "while True:\n",
    "    a = int(input(\"Enter the number:\"))\n",
    "    b = int(input(\"Enter the second number:\"))\n",
    "    c = a+b\n",
    "    print(\"Addition of {} and {} is {}\".format(a,b,c))\n",
    "    choice = input(\"do you want to continue[yes|no]:\")\n",
    "    if choice=='no':\n",
    "        break"
   ]
  },
  {
   "cell_type": "code",
   "execution_count": null,
   "id": "f60f2779-43b0-4019-8ad0-023512ccb9cd",
   "metadata": {},
   "outputs": [],
   "source": [
    "\n",
    "\n",
    "\n",
    "\n",
    "\n",
    "\n",
    "\n",
    "\n"
   ]
  },
  {
   "cell_type": "code",
   "execution_count": null,
   "id": "fb587c5d-764f-4a88-b94c-537234e3e5ef",
   "metadata": {},
   "outputs": [],
   "source": []
  },
  {
   "cell_type": "code",
   "execution_count": null,
   "id": "fcf8b5f8-713f-46a8-ac4a-24b219a6c243",
   "metadata": {},
   "outputs": [],
   "source": []
  },
  {
   "cell_type": "code",
   "execution_count": null,
   "id": "72a4fdbe-674b-4d19-8b6b-95f7db3f3dc9",
   "metadata": {},
   "outputs": [],
   "source": []
  },
  {
   "cell_type": "code",
   "execution_count": null,
   "id": "f1593845-7ae1-4eda-b778-be10d2ab884c",
   "metadata": {},
   "outputs": [],
   "source": []
  }
 ],
 "metadata": {
  "kernelspec": {
   "display_name": "Python 3 (ipykernel)",
   "language": "python",
   "name": "python3"
  },
  "language_info": {
   "codemirror_mode": {
    "name": "ipython",
    "version": 3
   },
   "file_extension": ".py",
   "mimetype": "text/x-python",
   "name": "python",
   "nbconvert_exporter": "python",
   "pygments_lexer": "ipython3",
   "version": "3.12.7"
  }
 },
 "nbformat": 4,
 "nbformat_minor": 5
}

{
 "cells": [
  {
   "cell_type": "code",
   "execution_count": 1,
   "id": "61c7c915-cfc3-4103-ab90-8042bb67c919",
   "metadata": {},
   "outputs": [
    {
     "name": "stdin",
     "output_type": "stream",
     "text": [
      "Enter the number: V\n",
      "Enter the number: v\n"
     ]
    },
    {
     "name": "stdout",
     "output_type": "stream",
     "text": [
      "Vv\n"
     ]
    },
    {
     "ename": "NameError",
     "evalue": "name 'vd' is not defined",
     "output_type": "error",
     "traceback": [
      "\u001b[1;31m---------------------------------------------------------------------------\u001b[0m",
      "\u001b[1;31mNameError\u001b[0m                                 Traceback (most recent call last)",
      "Cell \u001b[1;32mIn[1], line 5\u001b[0m\n\u001b[0;32m      3\u001b[0m z \u001b[38;5;241m=\u001b[39m x\u001b[38;5;241m+\u001b[39my\n\u001b[0;32m      4\u001b[0m \u001b[38;5;28mprint\u001b[39m(z)\n\u001b[1;32m----> 5\u001b[0m vd,k,vnsDJOKVbdskjvbsdVdsV\n\u001b[0;32m      6\u001b[0m d\n\u001b[0;32m      7\u001b[0m vds\n",
      "\u001b[1;31mNameError\u001b[0m: name 'vd' is not defined"
     ]
    }
   ],
   "source": [
    "x = input(\"Enter the number:\")\n",
    "y = input(\"Enter the number:\")\n",
    "z = x+y\n",
    "print(z)\n",
    "vd,k,vnsDJOKVbdskjvbsdVdsV\n",
    "d\n",
    "vdsdfgfgfdg\n",
    "fd\n",
    "gfd\n",
    "gf\n",
    "dg\n",
    "fdg\n",
    "fds\n",
    "gfd\n",
    "g\n",
    "fd\n",
    "x = input(\"Enter the number:\")\n",
    "y = input(\"Enter the number:\")\n",
    "z = x+y\n",
    "print(z)\n",
    "sdfdfdagadfgfdgfdgfdgfdag\n",
    "fdag\n",
    "dafg\n",
    "dfa\n",
    "g\n",
    "dfa\n",
    "df\n",
    "daf\n",
    "g\n",
    "afd\n",
    "df\n",
    "\n",
    "x = input(\"Enter the number:\")\n",
    "y = input(\"Enter the number:\")\n",
    "z = x+y\n",
    "print(z)"
   ]
  },
  {
   "cell_type": "code",
   "execution_count": null,
   "id": "073e778b-7dc8-4bf6-b5f5-d11f28e7f1b0",
   "metadata": {},
   "outputs": [],
   "source": [
    "function:\n",
    "==========\n",
    "\n",
    "\n",
    "\n",
    "\n",
    "\n",
    "\n",
    "\n",
    "\n",
    "\n",
    "\n"
   ]
  },
  {
   "cell_type": "code",
   "execution_count": null,
   "id": "84b64e87-8e2b-4d54-8827-00481174ef0a",
   "metadata": {},
   "outputs": [],
   "source": [
    "def function_name(argumemnts/parameters):\n",
    "    block of code\n",
    "    return value"
   ]
  },
  {
   "cell_type": "code",
   "execution_count": null,
   "id": "4721920d-46c7-42ad-9198-49060a0cee1e",
   "metadata": {},
   "outputs": [],
   "source": [
    "function_name(arguments/parameters)"
   ]
  },
  {
   "cell_type": "code",
   "execution_count": 2,
   "id": "d8d96804-498b-49ae-8a63-fa5031f3e79f",
   "metadata": {},
   "outputs": [],
   "source": [
    "def add(x,y):\n",
    "    z = x+y\n",
    "    print(z)"
   ]
  },
  {
   "cell_type": "code",
   "execution_count": 3,
   "id": "599bdb70-937c-4675-a29d-34ba660c5ae1",
   "metadata": {},
   "outputs": [
    {
     "name": "stdout",
     "output_type": "stream",
     "text": [
      "60\n"
     ]
    }
   ],
   "source": [
    "add(10,50)"
   ]
  },
  {
   "cell_type": "code",
   "execution_count": null,
   "id": "092177b7-882e-4cc2-bec3-2775e7d247c9",
   "metadata": {},
   "outputs": [],
   "source": []
  },
  {
   "cell_type": "code",
   "execution_count": null,
   "id": "4ced972d-6fd8-4a86-bab7-97a92bef9318",
   "metadata": {},
   "outputs": [],
   "source": []
  },
  {
   "cell_type": "code",
   "execution_count": null,
   "id": "d8d8454a-d555-4841-b506-8ff6b639b699",
   "metadata": {},
   "outputs": [],
   "source": []
  },
  {
   "cell_type": "code",
   "execution_count": 4,
   "id": "e311db10-33eb-4d60-ad9d-b392132822e3",
   "metadata": {},
   "outputs": [
    {
     "name": "stdout",
     "output_type": "stream",
     "text": [
      "574\n"
     ]
    }
   ],
   "source": [
    "add(540,34)"
   ]
  },
  {
   "cell_type": "code",
   "execution_count": 7,
   "id": "fb1898ec-29e4-4d0f-80bf-c9cef871b213",
   "metadata": {},
   "outputs": [],
   "source": [
    "def email_user(email):\n",
    "    username = email.split('@')[0]\n",
    "    print(username)"
   ]
  },
  {
   "cell_type": "code",
   "execution_count": 8,
   "id": "feb11895-4295-444a-a092-1a8f83c5ebfb",
   "metadata": {},
   "outputs": [
    {
     "name": "stdout",
     "output_type": "stream",
     "text": [
      "test\n"
     ]
    }
   ],
   "source": [
    "email_user('test@gmail.com')"
   ]
  },
  {
   "cell_type": "code",
   "execution_count": 14,
   "id": "fbdb89cb-1db9-4c80-b1ee-32bd00c57986",
   "metadata": {},
   "outputs": [],
   "source": [
    "def add(x,y):\n",
    "    t1 = x+y\n",
    "    print(t1)"
   ]
  },
  {
   "cell_type": "code",
   "execution_count": 17,
   "id": "d437e005-3736-4685-8b1a-5461a0d6b6b4",
   "metadata": {},
   "outputs": [
    {
     "name": "stdout",
     "output_type": "stream",
     "text": [
      "121\n"
     ]
    }
   ],
   "source": [
    "result = add(45,76)"
   ]
  },
  {
   "cell_type": "code",
   "execution_count": 18,
   "id": "4cf19f24-4571-4a39-a098-a2fba00db7b1",
   "metadata": {},
   "outputs": [],
   "source": [
    "result"
   ]
  },
  {
   "cell_type": "code",
   "execution_count": 19,
   "id": "49230d45-bf94-4594-9c25-216cdefc311a",
   "metadata": {},
   "outputs": [
    {
     "data": {
      "text/plain": [
       "NoneType"
      ]
     },
     "execution_count": 19,
     "metadata": {},
     "output_type": "execute_result"
    }
   ],
   "source": [
    "type(result)"
   ]
  },
  {
   "cell_type": "code",
   "execution_count": 20,
   "id": "6847f6b7-d5b8-4715-b2da-6d6d4abd05cc",
   "metadata": {},
   "outputs": [],
   "source": [
    "def add(x,y):\n",
    "    t1 = x+y\n",
    "    return t1"
   ]
  },
  {
   "cell_type": "code",
   "execution_count": 21,
   "id": "7f9783e4-36e9-41a9-9378-b0b0dcfce853",
   "metadata": {},
   "outputs": [],
   "source": [
    "temp = add(34,75)"
   ]
  },
  {
   "cell_type": "code",
   "execution_count": 22,
   "id": "8928c099-89d7-43d3-bfba-c525dfda1f2f",
   "metadata": {},
   "outputs": [
    {
     "data": {
      "text/plain": [
       "109"
      ]
     },
     "execution_count": 22,
     "metadata": {},
     "output_type": "execute_result"
    }
   ],
   "source": [
    "temp"
   ]
  },
  {
   "cell_type": "code",
   "execution_count": null,
   "id": "5f23ae2a-dfe0-489e-ab31-4e3f9d93b9f7",
   "metadata": {},
   "outputs": [],
   "source": [
    "types of function based in structure\n",
    "====================================\n",
    "1.no argument no return value\n",
    "2.no arg with return value\n",
    "3.with arg no return value\n",
    "4.with arg with return value"
   ]
  },
  {
   "cell_type": "code",
   "execution_count": null,
   "id": "ded98e25-cf86-42d4-873a-5270b985ac41",
   "metadata": {},
   "outputs": [],
   "source": [
    "1.no argument no return value"
   ]
  },
  {
   "cell_type": "code",
   "execution_count": 24,
   "id": "491dee55-0b86-4b73-9b4c-5cb186123dc5",
   "metadata": {},
   "outputs": [],
   "source": [
    "def add():\n",
    "    x = 10\n",
    "    y = 20\n",
    "    print(x+y)"
   ]
  },
  {
   "cell_type": "code",
   "execution_count": 25,
   "id": "9350e45f-9125-42f9-ad7c-9ac81b43cdc8",
   "metadata": {},
   "outputs": [
    {
     "name": "stdout",
     "output_type": "stream",
     "text": [
      "30\n"
     ]
    }
   ],
   "source": [
    "add()"
   ]
  },
  {
   "cell_type": "code",
   "execution_count": 26,
   "id": "8649665a-72cc-418e-875b-6aea9aa506aa",
   "metadata": {},
   "outputs": [],
   "source": [
    "def filevalidation():\n",
    "    filename = 'test.pdf'\n",
    "    return  filename"
   ]
  },
  {
   "cell_type": "code",
   "execution_count": 28,
   "id": "4c11739c-7629-49b9-b9c8-4c42946fbcc2",
   "metadata": {},
   "outputs": [],
   "source": [
    "sample = filevalidation()"
   ]
  },
  {
   "cell_type": "code",
   "execution_count": 29,
   "id": "b92261f2-39fc-409b-a510-4b73fe4010b7",
   "metadata": {},
   "outputs": [
    {
     "data": {
      "text/plain": [
       "'test.pdf'"
      ]
     },
     "execution_count": 29,
     "metadata": {},
     "output_type": "execute_result"
    }
   ],
   "source": [
    "sample"
   ]
  },
  {
   "cell_type": "code",
   "execution_count": 30,
   "id": "8dc0a998-6f80-49b4-88ca-7734b8a5196b",
   "metadata": {},
   "outputs": [],
   "source": [
    "def productname(prd):\n",
    "    if prd:\n",
    "        print(\"valid\")\n",
    "    else:\n",
    "        print(\"invalid\")\n"
   ]
  },
  {
   "cell_type": "code",
   "execution_count": 31,
   "id": "d0612fe3-1c77-4151-bf7e-b6b9ed177212",
   "metadata": {},
   "outputs": [
    {
     "name": "stdout",
     "output_type": "stream",
     "text": [
      "valid\n"
     ]
    }
   ],
   "source": [
    "productname('copper')"
   ]
  },
  {
   "cell_type": "code",
   "execution_count": 32,
   "id": "59d91c0c-c7ca-4d75-8819-b42d0844ff24",
   "metadata": {},
   "outputs": [
    {
     "name": "stdout",
     "output_type": "stream",
     "text": [
      "invalid\n"
     ]
    }
   ],
   "source": [
    "productname(None)"
   ]
  },
  {
   "cell_type": "code",
   "execution_count": 33,
   "id": "f8be2f9d-5778-46ea-9349-f27b9f203dd7",
   "metadata": {},
   "outputs": [],
   "source": [
    "def prd_validation(prd):\n",
    "    if prd.startswith('copper'):\n",
    "        return \"Valid\"\n",
    "    else:\n",
    "        return \"invalid\""
   ]
  },
  {
   "cell_type": "code",
   "execution_count": 34,
   "id": "7dea65c8-ad79-40f3-82fd-9499a8d16b27",
   "metadata": {},
   "outputs": [],
   "source": [
    "status = prd_validation(\"copper_daily.csv\")"
   ]
  },
  {
   "cell_type": "code",
   "execution_count": 35,
   "id": "f079d972-b9dd-4242-a627-ae896a3edc3e",
   "metadata": {},
   "outputs": [
    {
     "data": {
      "text/plain": [
       "'Valid'"
      ]
     },
     "execution_count": 35,
     "metadata": {},
     "output_type": "execute_result"
    }
   ],
   "source": [
    "status"
   ]
  },
  {
   "cell_type": "code",
   "execution_count": null,
   "id": "ca70a88e-1802-486b-b2b0-834c13d1e210",
   "metadata": {},
   "outputs": [],
   "source": [
    "examples:\n"
   ]
  },
  {
   "cell_type": "code",
   "execution_count": 43,
   "id": "088e5877-0a24-4d4c-8c0a-e04854029159",
   "metadata": {},
   "outputs": [],
   "source": [
    "def even_odd_list(lst):\n",
    "    even = []\n",
    "    odd = []\n",
    "    for element in lst:\n",
    "        if element%2==0:\n",
    "            even.append(element)\n",
    "        else:\n",
    "            odd.append(element)\n",
    "    return even,odd"
   ]
  },
  {
   "cell_type": "code",
   "execution_count": 46,
   "id": "d65f06f8-6310-4640-b361-45cdc2ad8d63",
   "metadata": {},
   "outputs": [],
   "source": [
    "p = [34,76,34,86,3487,6,43,8,45,67]\n",
    "e,o= even_odd_list(p)"
   ]
  },
  {
   "cell_type": "code",
   "execution_count": 47,
   "id": "d306b88d-4e2b-4050-8773-586600144ccf",
   "metadata": {},
   "outputs": [
    {
     "data": {
      "text/plain": [
       "[34, 76, 34, 86, 6, 8]"
      ]
     },
     "execution_count": 47,
     "metadata": {},
     "output_type": "execute_result"
    }
   ],
   "source": [
    "e"
   ]
  },
  {
   "cell_type": "code",
   "execution_count": 48,
   "id": "415ca4c0-faae-4ed4-a518-4db5036f1bb5",
   "metadata": {},
   "outputs": [
    {
     "data": {
      "text/plain": [
       "[3487, 43, 45, 67]"
      ]
     },
     "execution_count": 48,
     "metadata": {},
     "output_type": "execute_result"
    }
   ],
   "source": [
    "o"
   ]
  },
  {
   "cell_type": "code",
   "execution_count": 39,
   "id": "3f5d8d12-c748-4fd6-abe9-8dcd462aa64c",
   "metadata": {},
   "outputs": [],
   "source": [
    "t1 = [1,2,3]"
   ]
  },
  {
   "cell_type": "code",
   "execution_count": 40,
   "id": "30cbefb0-f176-4cd8-932e-178183487702",
   "metadata": {},
   "outputs": [],
   "source": [
    "t2 = [4,5,6]"
   ]
  },
  {
   "cell_type": "code",
   "execution_count": 41,
   "id": "eb31ce5a-5e5b-4fb1-b7c1-333580a451f8",
   "metadata": {},
   "outputs": [],
   "source": [
    "y2 =  t1,t2"
   ]
  },
  {
   "cell_type": "code",
   "execution_count": 42,
   "id": "a2ec163a-67d9-452d-b895-de27c4515c76",
   "metadata": {},
   "outputs": [
    {
     "data": {
      "text/plain": [
       "([1, 2, 3], [4, 5, 6])"
      ]
     },
     "execution_count": 42,
     "metadata": {},
     "output_type": "execute_result"
    }
   ],
   "source": [
    "y2"
   ]
  },
  {
   "cell_type": "code",
   "execution_count": 49,
   "id": "a8e24dfa-3224-4514-8903-98f313eda457",
   "metadata": {},
   "outputs": [],
   "source": [
    "p = 'sdkfjbsdafjbasdhjfbvsdaj234567890@#$%^&*sdfgg#@!$%^&'"
   ]
  },
  {
   "cell_type": "code",
   "execution_count": 52,
   "id": "50b92cf2-2365-484b-a779-964fee034e5f",
   "metadata": {},
   "outputs": [],
   "source": [
    "def make_dict():\n",
    "    p = ['char','int','spec']\n",
    "    mydict = dict.fromkeys(p)\n",
    "    return mydict\n",
    "\n",
    "def count_stream(pystr):\n",
    "    char =0\n",
    "    num = 0\n",
    "    spec = 0\n",
    "    for element in pystr:\n",
    "        if element.isalnum():\n",
    "            if element.isnumeric():\n",
    "                num+=1\n",
    "            else:\n",
    "                char+=1\n",
    "        else:\n",
    "            spec+=1\n",
    "    return char,num,spec"
   ]
  },
  {
   "cell_type": "code",
   "execution_count": 53,
   "id": "cf1839a5-3f09-4470-b205-6db94097ce1a",
   "metadata": {},
   "outputs": [],
   "source": [
    "c,n,s = count_stream(p)"
   ]
  },
  {
   "cell_type": "code",
   "execution_count": 54,
   "id": "803cab99-4106-429e-8a9e-51933380ad97",
   "metadata": {},
   "outputs": [
    {
     "data": {
      "text/plain": [
       "29"
      ]
     },
     "execution_count": 54,
     "metadata": {},
     "output_type": "execute_result"
    }
   ],
   "source": [
    "c"
   ]
  },
  {
   "cell_type": "code",
   "execution_count": 55,
   "id": "0e81463e-3c09-4ac3-a3fa-3ce61bcb8665",
   "metadata": {},
   "outputs": [
    {
     "data": {
      "text/plain": [
       "9"
      ]
     },
     "execution_count": 55,
     "metadata": {},
     "output_type": "execute_result"
    }
   ],
   "source": [
    "n"
   ]
  },
  {
   "cell_type": "code",
   "execution_count": 56,
   "id": "164d8bf4-7abe-4272-a1ed-b1ce82065ebd",
   "metadata": {},
   "outputs": [
    {
     "data": {
      "text/plain": [
       "14"
      ]
     },
     "execution_count": 56,
     "metadata": {},
     "output_type": "execute_result"
    }
   ],
   "source": [
    "s"
   ]
  },
  {
   "cell_type": "code",
   "execution_count": null,
   "id": "a797da9d-951f-45cc-9b70-5367e2ae56d2",
   "metadata": {},
   "outputs": [],
   "source": [
    "using function:\n",
    "================\n",
    "palindrom\n",
    "reverse\n",
    "check prime or not\n",
    "check armstrong\n",
    "fabbonacci"
   ]
  },
  {
   "cell_type": "code",
   "execution_count": null,
   "id": "d63fbe88-494c-48d3-b821-2e70bf038413",
   "metadata": {},
   "outputs": [],
   "source": [
    "Types of arguments:\n",
    "===================\n",
    "1.positional arugments\n",
    "2.default arguments\n",
    "3.variable length arguments\n",
    "4.keyword arguments\n",
    "5.variable length keyword arguments"
   ]
  }
 ],
 "metadata": {
  "kernelspec": {
   "display_name": "Python 3 (ipykernel)",
   "language": "python",
   "name": "python3"
  },
  "language_info": {
   "codemirror_mode": {
    "name": "ipython",
    "version": 3
   },
   "file_extension": ".py",
   "mimetype": "text/x-python",
   "name": "python",
   "nbconvert_exporter": "python",
   "pygments_lexer": "ipython3",
   "version": "3.12.7"
  }
 },
 "nbformat": 4,
 "nbformat_minor": 5
}

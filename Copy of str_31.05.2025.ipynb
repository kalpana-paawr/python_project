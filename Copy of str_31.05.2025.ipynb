{
 "cells": [
  {
   "cell_type": "code",
   "execution_count": null,
   "id": "31e03566-51ab-4087-8245-6d3f1e41d9aa",
   "metadata": {},
   "outputs": [],
   "source": [
    "str:\n",
    "\n",
    "it is single or collection of chars arranged in some meaning full order\n",
    "it is immutable tupe DS\n",
    "it is ordered type DS\n",
    "indexing possible\n",
    "forward indexing | positive indexing\n",
    "start=0 end = len-1\n",
    "\n",
    "reverse indexing | negative indexing\n",
    "start=-1 end =-len\n",
    "\n",
    "str is having highest priority among all the DS\n",
    "it is denoted by ' ' , \" \", ''' ''' ,\"\"\",\"\"\"\n"
   ]
  },
  {
   "cell_type": "code",
   "execution_count": 1,
   "id": "d8a7af9d-a14d-47b4-84e6-373b207c9f18",
   "metadata": {},
   "outputs": [],
   "source": [
    "py_str = 'machine learning'"
   ]
  },
  {
   "cell_type": "code",
   "execution_count": 2,
   "id": "54c52b4c-934e-4db6-addf-013bdb295a6a",
   "metadata": {},
   "outputs": [],
   "source": [
    "py_str = \"machine learning\""
   ]
  },
  {
   "cell_type": "code",
   "execution_count": 3,
   "id": "d1c1b338-4b58-4798-b99c-20074bff3440",
   "metadata": {},
   "outputs": [
    {
     "data": {
      "text/plain": [
       "'machine learning'"
      ]
     },
     "execution_count": 3,
     "metadata": {},
     "output_type": "execute_result"
    }
   ],
   "source": [
    "py_str"
   ]
  },
  {
   "cell_type": "code",
   "execution_count": 4,
   "id": "e70423e9-9cf2-4bd8-b9d1-0fa089e421c7",
   "metadata": {},
   "outputs": [
    {
     "ename": "SyntaxError",
     "evalue": "unterminated string literal (detected at line 1) (1195617656.py, line 1)",
     "output_type": "error",
     "traceback": [
      "\u001b[1;36m  Cell \u001b[1;32mIn[4], line 1\u001b[1;36m\u001b[0m\n\u001b[1;33m    st = 'python is good in ML it's alos use in AI'\u001b[0m\n\u001b[1;37m                                                  ^\u001b[0m\n\u001b[1;31mSyntaxError\u001b[0m\u001b[1;31m:\u001b[0m unterminated string literal (detected at line 1)\n"
     ]
    }
   ],
   "source": [
    "st = 'python is good in ML it's alos use in AI'"
   ]
  },
  {
   "cell_type": "code",
   "execution_count": null,
   "id": "ccc0a452-269a-4dc3-8b6c-3bc37ee54d4a",
   "metadata": {},
   "outputs": [],
   "source": [
    "data - ' -->  \" \""
   ]
  },
  {
   "cell_type": "code",
   "execution_count": 91,
   "id": "ff63ae92-d287-4d35-a4da-a5b7a689d255",
   "metadata": {},
   "outputs": [],
   "source": [
    "st = \"python is good in ML it's alos use in AI\""
   ]
  },
  {
   "cell_type": "code",
   "execution_count": 6,
   "id": "a70fb7f8-ae99-4428-89d8-336f586ded6e",
   "metadata": {},
   "outputs": [
    {
     "data": {
      "text/plain": [
       "\"python is good in ML it's alos use in AI\""
      ]
     },
     "execution_count": 6,
     "metadata": {},
     "output_type": "execute_result"
    }
   ],
   "source": [
    "st"
   ]
  },
  {
   "cell_type": "code",
   "execution_count": 7,
   "id": "86974dd3-83a6-4de7-b97d-6160d58874f7",
   "metadata": {},
   "outputs": [
    {
     "ename": "SyntaxError",
     "evalue": "invalid syntax (300761619.py, line 1)",
     "output_type": "error",
     "traceback": [
      "\u001b[1;36m  Cell \u001b[1;32mIn[7], line 1\u001b[1;36m\u001b[0m\n\u001b[1;33m    st = \"Python is scripting lang said by \"Guido van Rossum\" and its also use for dev\"\u001b[0m\n\u001b[1;37m                                            ^\u001b[0m\n\u001b[1;31mSyntaxError\u001b[0m\u001b[1;31m:\u001b[0m invalid syntax\n"
     ]
    }
   ],
   "source": [
    "st = \"Python is scripting lang said by \"Guido van Rossum\" and its also use for dev\""
   ]
  },
  {
   "cell_type": "code",
   "execution_count": 8,
   "id": "9046f385-f5b2-4bbf-80ce-bc62cfad536d",
   "metadata": {},
   "outputs": [],
   "source": [
    "st = 'Python is scripting lang said by \"Guido van Rossum\" and its also use for dev'"
   ]
  },
  {
   "cell_type": "code",
   "execution_count": 9,
   "id": "61bb9416-d5ce-4cdc-a975-ebc1062b43b3",
   "metadata": {},
   "outputs": [
    {
     "data": {
      "text/plain": [
       "'Python is scripting lang said by \"Guido van Rossum\" and its also use for dev'"
      ]
     },
     "execution_count": 9,
     "metadata": {},
     "output_type": "execute_result"
    }
   ],
   "source": [
    "st"
   ]
  },
  {
   "cell_type": "code",
   "execution_count": 10,
   "id": "75ec053c-9945-424e-a203-6949aedf8706",
   "metadata": {},
   "outputs": [
    {
     "ename": "SyntaxError",
     "evalue": "unterminated string literal (detected at line 1) (776448059.py, line 1)",
     "output_type": "error",
     "traceback": [
      "\u001b[1;36m  Cell \u001b[1;32mIn[10], line 1\u001b[1;36m\u001b[0m\n\u001b[1;33m    data = 'The core of extensible programming is defining functions.\u001b[0m\n\u001b[1;37m           ^\u001b[0m\n\u001b[1;31mSyntaxError\u001b[0m\u001b[1;31m:\u001b[0m unterminated string literal (detected at line 1)\n"
     ]
    }
   ],
   "source": [
    "data = 'The core of extensible programming is defining functions. \n",
    "Python allows mandatory and optional arguments, \n",
    "keyword arguments, and even arbitrary argument lists. \n",
    "More about defining functions in Python 3'"
   ]
  },
  {
   "cell_type": "code",
   "execution_count": 11,
   "id": "65aa18e0-1f9f-4e08-bb88-60e3a302166d",
   "metadata": {},
   "outputs": [
    {
     "ename": "SyntaxError",
     "evalue": "unterminated string literal (detected at line 1) (1364845037.py, line 1)",
     "output_type": "error",
     "traceback": [
      "\u001b[1;36m  Cell \u001b[1;32mIn[11], line 1\u001b[1;36m\u001b[0m\n\u001b[1;33m    data = \"The core of extensible programming is defining functions.\u001b[0m\n\u001b[1;37m           ^\u001b[0m\n\u001b[1;31mSyntaxError\u001b[0m\u001b[1;31m:\u001b[0m unterminated string literal (detected at line 1)\n"
     ]
    }
   ],
   "source": [
    "data = \"The core of extensible programming is defining functions. \n",
    "Python allows mandatory and optional arguments, \n",
    "keyword arguments, and even arbitrary argument lists. \n",
    "More about defining functions in Python 3\""
   ]
  },
  {
   "cell_type": "code",
   "execution_count": null,
   "id": "a40a2659-6fea-4325-a32c-925abcaeafdb",
   "metadata": {},
   "outputs": [],
   "source": [
    "multi lines str -- ''' / \"\"\" "
   ]
  },
  {
   "cell_type": "code",
   "execution_count": 15,
   "id": "d0c8d303-11eb-47cf-badd-ed09c89f74d0",
   "metadata": {},
   "outputs": [],
   "source": [
    "data = '''The core of extensible programming is defining functions. \n",
    "Python allows mandatory 'and' optional arguments, \n",
    "keyword arguments, \"and\" even arbitrary argument lists. \n",
    "More about defining functions in Python 3'''"
   ]
  },
  {
   "cell_type": "code",
   "execution_count": 16,
   "id": "7cabe41d-e86d-4a85-9dd1-e714e7df745f",
   "metadata": {},
   "outputs": [
    {
     "name": "stdout",
     "output_type": "stream",
     "text": [
      "The core of extensible programming is defining functions. \n",
      "Python allows mandatory 'and' optional arguments, \n",
      "keyword arguments, \"and\" even arbitrary argument lists. \n",
      "More about defining functions in Python 3\n"
     ]
    }
   ],
   "source": [
    "print(data)"
   ]
  },
  {
   "cell_type": "code",
   "execution_count": null,
   "id": "67d7183f-4875-4645-a8a8-8fc50250bcd1",
   "metadata": {},
   "outputs": [],
   "source": [
    "single line str:\n",
    "data -  ' --> \" \" \n",
    "data - \"  --> ' '\n",
    "\n",
    "multi line :\n",
    "data -- ''' --> \"\"\" \n",
    "data -- \"\"\" --> '''"
   ]
  },
  {
   "cell_type": "code",
   "execution_count": null,
   "id": "85eb778e-56b7-4ee7-b392-772f7a121767",
   "metadata": {},
   "outputs": [],
   "source": [
    "code -- readable \n",
    "\n"
   ]
  },
  {
   "cell_type": "code",
   "execution_count": null,
   "id": "74bafa9a-5bbc-4cac-a285-290e27ce811b",
   "metadata": {},
   "outputs": [],
   "source": [
    "doc string:\n",
    "\n",
    "\"\"\" \n",
    "this script is use for data ingetion\n",
    "from instagram web application\n",
    "usage\n",
    "output\n",
    "\"\"\"\n",
    "code\n",
    "\n",
    "\n"
   ]
  },
  {
   "cell_type": "code",
   "execution_count": null,
   "id": "580333b0-b1a3-4d25-8de8-bdaf957502d4",
   "metadata": {},
   "outputs": [],
   "source": [
    "operation:\n"
   ]
  },
  {
   "cell_type": "code",
   "execution_count": 17,
   "id": "8cf88951-84a9-4637-b37a-ff31c68cd42c",
   "metadata": {},
   "outputs": [],
   "source": [
    "p = 'python'"
   ]
  },
  {
   "cell_type": "code",
   "execution_count": 18,
   "id": "6ca4c743-a6b1-4627-935c-e28e7c73c36a",
   "metadata": {},
   "outputs": [
    {
     "data": {
      "text/plain": [
       "'PYTHON'"
      ]
     },
     "execution_count": 18,
     "metadata": {},
     "output_type": "execute_result"
    }
   ],
   "source": [
    "p.upper()"
   ]
  },
  {
   "cell_type": "code",
   "execution_count": 19,
   "id": "a9cb0f5d-bd80-4c65-b4d4-6475e756e20a",
   "metadata": {},
   "outputs": [],
   "source": [
    "t = 'JAVA'"
   ]
  },
  {
   "cell_type": "code",
   "execution_count": 22,
   "id": "3c1fa207-e81b-4b74-8dfc-af8c96e4cd51",
   "metadata": {},
   "outputs": [],
   "source": [
    "temp = t.lower()"
   ]
  },
  {
   "cell_type": "code",
   "execution_count": 21,
   "id": "003e0d42-a648-4b33-aaad-6349af8a2b81",
   "metadata": {},
   "outputs": [
    {
     "data": {
      "text/plain": [
       "'JAVA'"
      ]
     },
     "execution_count": 21,
     "metadata": {},
     "output_type": "execute_result"
    }
   ],
   "source": [
    "t"
   ]
  },
  {
   "cell_type": "code",
   "execution_count": 23,
   "id": "d8369dc2-5c41-441c-b901-92ca62f1eb56",
   "metadata": {},
   "outputs": [
    {
     "data": {
      "text/plain": [
       "'java'"
      ]
     },
     "execution_count": 23,
     "metadata": {},
     "output_type": "execute_result"
    }
   ],
   "source": [
    "temp"
   ]
  },
  {
   "cell_type": "code",
   "execution_count": 28,
   "id": "4404e93c-1283-4faa-bcc5-10e326a340ee",
   "metadata": {},
   "outputs": [],
   "source": [
    "username = 'ADMIN@Gmail.com'"
   ]
  },
  {
   "cell_type": "code",
   "execution_count": 29,
   "id": "8cc97fb0-c439-4b47-b7a4-38ed26a94b7b",
   "metadata": {},
   "outputs": [],
   "source": [
    "u = 'admin@gmail.com'"
   ]
  },
  {
   "cell_type": "code",
   "execution_count": 30,
   "id": "f1c81444-2cff-4789-96ac-6fbf14196b92",
   "metadata": {},
   "outputs": [
    {
     "data": {
      "text/plain": [
       "True"
      ]
     },
     "execution_count": 30,
     "metadata": {},
     "output_type": "execute_result"
    }
   ],
   "source": [
    "u==username.lower()"
   ]
  },
  {
   "cell_type": "code",
   "execution_count": 33,
   "id": "d7cd08d2-2653-4bdc-88a1-cb794e952c49",
   "metadata": {},
   "outputs": [],
   "source": [
    "p = 'python ml dl'"
   ]
  },
  {
   "cell_type": "code",
   "execution_count": 34,
   "id": "352f1854-043a-4ced-9d01-60313e829d20",
   "metadata": {},
   "outputs": [
    {
     "data": {
      "text/plain": [
       "'Python ml dl'"
      ]
     },
     "execution_count": 34,
     "metadata": {},
     "output_type": "execute_result"
    }
   ],
   "source": [
    "p.capitalize()"
   ]
  },
  {
   "cell_type": "code",
   "execution_count": 35,
   "id": "cb54281e-223f-410b-a6b0-161e60f754e0",
   "metadata": {},
   "outputs": [
    {
     "data": {
      "text/plain": [
       "'Python Ml Dl'"
      ]
     },
     "execution_count": 35,
     "metadata": {},
     "output_type": "execute_result"
    }
   ],
   "source": [
    "p.title()"
   ]
  },
  {
   "cell_type": "code",
   "execution_count": 36,
   "id": "bc517b8f-4720-4c81-998f-ee2c00c6807c",
   "metadata": {},
   "outputs": [],
   "source": [
    "p = 'PyThOn'"
   ]
  },
  {
   "cell_type": "code",
   "execution_count": 37,
   "id": "6a804800-52b1-4a2f-b379-347bf9e9f7f1",
   "metadata": {},
   "outputs": [
    {
     "data": {
      "text/plain": [
       "'pYtHoN'"
      ]
     },
     "execution_count": 37,
     "metadata": {},
     "output_type": "execute_result"
    }
   ],
   "source": [
    "p.swapcase()"
   ]
  },
  {
   "cell_type": "code",
   "execution_count": 44,
   "id": "664cc423-0ea9-4d4a-9574-5913e347486c",
   "metadata": {},
   "outputs": [],
   "source": [
    "p = 'aaabbsdcsfdsfs'"
   ]
  },
  {
   "cell_type": "code",
   "execution_count": 39,
   "id": "3fc6fee8-9b2d-4398-9184-9c0f30caffaa",
   "metadata": {},
   "outputs": [
    {
     "data": {
      "text/plain": [
       "3"
      ]
     },
     "execution_count": 39,
     "metadata": {},
     "output_type": "execute_result"
    }
   ],
   "source": [
    "p.count('a')"
   ]
  },
  {
   "cell_type": "code",
   "execution_count": 40,
   "id": "22549cf5-4ed1-48e3-8055-4e58b8a35d9a",
   "metadata": {},
   "outputs": [
    {
     "data": {
      "text/plain": [
       "4"
      ]
     },
     "execution_count": 40,
     "metadata": {},
     "output_type": "execute_result"
    }
   ],
   "source": [
    "p.count('s')"
   ]
  },
  {
   "cell_type": "code",
   "execution_count": null,
   "id": "2d22c6b1-46cd-4c21-955b-c22f211a4c49",
   "metadata": {},
   "outputs": [],
   "source": [
    "interview :\n",
    "dont use inbuilt function | methods\n",
    "always use your own logic | code\n"
   ]
  },
  {
   "cell_type": "code",
   "execution_count": 41,
   "id": "218684ee-4264-43b1-b48a-3cf92347cf05",
   "metadata": {},
   "outputs": [],
   "source": [
    "p = [23,65,3,47,63,4,86,34]"
   ]
  },
  {
   "cell_type": "code",
   "execution_count": 42,
   "id": "6089da44-cce9-4d58-8457-2187b144e968",
   "metadata": {},
   "outputs": [
    {
     "data": {
      "text/plain": [
       "8"
      ]
     },
     "execution_count": 42,
     "metadata": {},
     "output_type": "execute_result"
    }
   ],
   "source": [
    "len(p)"
   ]
  },
  {
   "cell_type": "code",
   "execution_count": 43,
   "id": "25ee2386-d5d1-464b-80db-11cb665c569e",
   "metadata": {},
   "outputs": [
    {
     "name": "stdout",
     "output_type": "stream",
     "text": [
      "8\n"
     ]
    }
   ],
   "source": [
    "count = 0\n",
    "for i in p:\n",
    "    count+=1\n",
    "print(count)"
   ]
  },
  {
   "cell_type": "code",
   "execution_count": 45,
   "id": "6277ca38-8a44-4bcb-b0e0-716e51a80ca4",
   "metadata": {},
   "outputs": [
    {
     "data": {
      "text/plain": [
       "'aaabbsdcsfdsfs'"
      ]
     },
     "execution_count": 45,
     "metadata": {},
     "output_type": "execute_result"
    }
   ],
   "source": [
    "p"
   ]
  },
  {
   "cell_type": "code",
   "execution_count": 46,
   "id": "2dfbc17c-1ae1-40a4-bf8b-1691391ebd19",
   "metadata": {},
   "outputs": [
    {
     "data": {
      "text/plain": [
       "0"
      ]
     },
     "execution_count": 46,
     "metadata": {},
     "output_type": "execute_result"
    }
   ],
   "source": [
    "p.index('a')"
   ]
  },
  {
   "cell_type": "code",
   "execution_count": 74,
   "id": "828e8e36-c3bd-43f8-ba09-627baf5cf975",
   "metadata": {},
   "outputs": [],
   "source": [
    "email = 'copper.product@gmail.com'"
   ]
  },
  {
   "cell_type": "code",
   "execution_count": 51,
   "id": "e45dcbab-0ffd-49e8-aff3-347f8a389554",
   "metadata": {},
   "outputs": [
    {
     "data": {
      "text/plain": [
       "False"
      ]
     },
     "execution_count": 51,
     "metadata": {},
     "output_type": "execute_result"
    }
   ],
   "source": [
    "email.startswith('oc')"
   ]
  },
  {
   "cell_type": "code",
   "execution_count": null,
   "id": "561184f9-3b86-4085-bb4d-5f0e672e5111",
   "metadata": {},
   "outputs": [],
   "source": [
    "startswith\n",
    "endswith \n",
    "always -- bool --True | False"
   ]
  },
  {
   "cell_type": "code",
   "execution_count": 52,
   "id": "2ea694cc-b627-4649-a642-15093d0c3a66",
   "metadata": {},
   "outputs": [
    {
     "data": {
      "text/plain": [
       "'copper.product@gmail.com'"
      ]
     },
     "execution_count": 52,
     "metadata": {},
     "output_type": "execute_result"
    }
   ],
   "source": [
    "email"
   ]
  },
  {
   "cell_type": "code",
   "execution_count": 53,
   "id": "20ad1fab-7395-485c-a594-d76dc29e7018",
   "metadata": {},
   "outputs": [
    {
     "data": {
      "text/plain": [
       "True"
      ]
     },
     "execution_count": 53,
     "metadata": {},
     "output_type": "execute_result"
    }
   ],
   "source": [
    "email.endswith('@gmail.com')"
   ]
  },
  {
   "cell_type": "code",
   "execution_count": 54,
   "id": "73d9b304-8a16-4810-978a-caa687c8cf58",
   "metadata": {},
   "outputs": [],
   "source": [
    "e = ['test@gmail.com','sample@yahoo.com','python@gmail.com']"
   ]
  },
  {
   "cell_type": "code",
   "execution_count": null,
   "id": "247c2efe-f2c2-4926-8a91-0d371e0217e6",
   "metadata": {},
   "outputs": [],
   "source": []
  },
  {
   "cell_type": "code",
   "execution_count": 57,
   "id": "c425c731-6362-48b4-bce0-e65297846bbb",
   "metadata": {},
   "outputs": [],
   "source": [
    "file = 'python.pdf'"
   ]
  },
  {
   "cell_type": "code",
   "execution_count": 58,
   "id": "67f9702d-c447-45c1-800c-21e3287b87d4",
   "metadata": {},
   "outputs": [
    {
     "data": {
      "text/plain": [
       "True"
      ]
     },
     "execution_count": 58,
     "metadata": {},
     "output_type": "execute_result"
    }
   ],
   "source": [
    "file.endswith('.pdf')"
   ]
  },
  {
   "cell_type": "code",
   "execution_count": 59,
   "id": "9e61b1e0-b9cc-42a0-b436-9f8043547c4f",
   "metadata": {},
   "outputs": [],
   "source": [
    "test = 'copper_2025_daily_df.xlsx'"
   ]
  },
  {
   "cell_type": "code",
   "execution_count": 60,
   "id": "b23a86e2-26c2-4912-9f54-1099db825ba6",
   "metadata": {},
   "outputs": [
    {
     "data": {
      "text/plain": [
       "True"
      ]
     },
     "execution_count": 60,
     "metadata": {},
     "output_type": "execute_result"
    }
   ],
   "source": [
    "'2025' in test"
   ]
  },
  {
   "cell_type": "code",
   "execution_count": 61,
   "id": "e3c51426-38a0-46e8-ab16-2375f365527d",
   "metadata": {},
   "outputs": [
    {
     "data": {
      "text/plain": [
       "True"
      ]
     },
     "execution_count": 61,
     "metadata": {},
     "output_type": "execute_result"
    }
   ],
   "source": [
    "test.startswith('copper')"
   ]
  },
  {
   "cell_type": "code",
   "execution_count": 62,
   "id": "30a17cef-7345-4a28-b630-ca3881f5e01b",
   "metadata": {},
   "outputs": [
    {
     "data": {
      "text/plain": [
       "True"
      ]
     },
     "execution_count": 62,
     "metadata": {},
     "output_type": "execute_result"
    }
   ],
   "source": [
    "test.endswith('.xlsx')"
   ]
  },
  {
   "cell_type": "code",
   "execution_count": 64,
   "id": "60931155-47d5-4f9d-ab6b-788728be9e5d",
   "metadata": {},
   "outputs": [],
   "source": [
    "prd = ['copper_2024_df.xlsx','copper_2025_df.xlsx','copper_2024_df.xlsx','silver_2025_df.xlsx']"
   ]
  },
  {
   "cell_type": "code",
   "execution_count": null,
   "id": "e8fe61e6-6564-4285-8648-292d81f7c146",
   "metadata": {},
   "outputs": [],
   "source": []
  },
  {
   "cell_type": "code",
   "execution_count": null,
   "id": "75c9e16f-b173-4036-b81f-00ff5ec172b5",
   "metadata": {},
   "outputs": [],
   "source": [
    "code --> "
   ]
  },
  {
   "cell_type": "code",
   "execution_count": 72,
   "id": "4d54bec4-aa2a-4f2c-979c-68973815ec1c",
   "metadata": {},
   "outputs": [],
   "source": [
    "file = 'copperpdf'"
   ]
  },
  {
   "cell_type": "code",
   "execution_count": 73,
   "id": "4d8816c3-381b-41f3-baf2-57bd11dee54d",
   "metadata": {},
   "outputs": [
    {
     "data": {
      "text/plain": [
       "False"
      ]
     },
     "execution_count": 73,
     "metadata": {},
     "output_type": "execute_result"
    }
   ],
   "source": [
    "file.endswith('.pdf')"
   ]
  },
  {
   "cell_type": "code",
   "execution_count": 75,
   "id": "6bc4035d-e4de-4f9a-9db1-285b2250604e",
   "metadata": {},
   "outputs": [
    {
     "data": {
      "text/plain": [
       "'copper.product@gmail.com'"
      ]
     },
     "execution_count": 75,
     "metadata": {},
     "output_type": "execute_result"
    }
   ],
   "source": [
    "email"
   ]
  },
  {
   "cell_type": "code",
   "execution_count": 80,
   "id": "d02b2ae1-2082-467b-9ee8-1964b332fa68",
   "metadata": {},
   "outputs": [],
   "source": [
    "e = 'copper@gmail.com'"
   ]
  },
  {
   "cell_type": "code",
   "execution_count": 82,
   "id": "b126ac29-af7c-4e15-a28b-aa1694982c55",
   "metadata": {},
   "outputs": [
    {
     "data": {
      "text/plain": [
       "True"
      ]
     },
     "execution_count": 82,
     "metadata": {},
     "output_type": "execute_result"
    }
   ],
   "source": [
    "e.endswith('@gmail.com')"
   ]
  },
  {
   "cell_type": "code",
   "execution_count": null,
   "id": "870fba4a-5157-4f51-bba1-911a39afe764",
   "metadata": {},
   "outputs": [],
   "source": [
    "split(sep) : to break string on sep\n",
    "return result --> list"
   ]
  },
  {
   "cell_type": "code",
   "execution_count": 83,
   "id": "a6385aa7-632b-43fc-ad13-f3a349302c55",
   "metadata": {},
   "outputs": [
    {
     "data": {
      "text/plain": [
       "'copper@gmail.com'"
      ]
     },
     "execution_count": 83,
     "metadata": {},
     "output_type": "execute_result"
    }
   ],
   "source": [
    "e"
   ]
  },
  {
   "cell_type": "code",
   "execution_count": 85,
   "id": "66b30d81-8908-4b91-97dd-98dd3884ba32",
   "metadata": {},
   "outputs": [
    {
     "data": {
      "text/plain": [
       "'copper'"
      ]
     },
     "execution_count": 85,
     "metadata": {},
     "output_type": "execute_result"
    }
   ],
   "source": [
    "e.split('@')[0]"
   ]
  },
  {
   "cell_type": "code",
   "execution_count": 86,
   "id": "21ce7660-64e9-48ae-a215-84a6b5c27b96",
   "metadata": {},
   "outputs": [],
   "source": [
    "st = 'copper_2024_df.xlsx'"
   ]
  },
  {
   "cell_type": "code",
   "execution_count": 88,
   "id": "0aa6d551-257a-418e-8163-431543c179c3",
   "metadata": {},
   "outputs": [
    {
     "data": {
      "text/plain": [
       "'2024'"
      ]
     },
     "execution_count": 88,
     "metadata": {},
     "output_type": "execute_result"
    }
   ],
   "source": [
    "st.split('_')[1]"
   ]
  },
  {
   "cell_type": "code",
   "execution_count": 90,
   "id": "a2da90ac-2232-4b78-a397-b7113dc7c41d",
   "metadata": {},
   "outputs": [
    {
     "data": {
      "text/plain": [
       "'gmail.com'"
      ]
     },
     "execution_count": 90,
     "metadata": {},
     "output_type": "execute_result"
    }
   ],
   "source": [
    "em.split('@')[1]"
   ]
  },
  {
   "cell_type": "code",
   "execution_count": 94,
   "id": "b4fbdefe-e752-4ed1-8dd6-a1c841b03e4b",
   "metadata": {},
   "outputs": [
    {
     "data": {
      "text/plain": [
       "'ML'"
      ]
     },
     "execution_count": 94,
     "metadata": {},
     "output_type": "execute_result"
    }
   ],
   "source": [
    "st.split()[4]"
   ]
  },
  {
   "cell_type": "code",
   "execution_count": 95,
   "id": "7e1ab80e-5d0f-4b03-9286-527f079dc95e",
   "metadata": {},
   "outputs": [
    {
     "data": {
      "text/plain": [
       "\"python is good in ML it's alos use in AI\""
      ]
     },
     "execution_count": 95,
     "metadata": {},
     "output_type": "execute_result"
    }
   ],
   "source": [
    "st"
   ]
  },
  {
   "cell_type": "code",
   "execution_count": 96,
   "id": "82baa33e-8099-417d-893d-8654342ebfd8",
   "metadata": {},
   "outputs": [],
   "source": [
    "p = 'python@java@ml'"
   ]
  },
  {
   "cell_type": "code",
   "execution_count": 97,
   "id": "d9cc1c2e-e99b-4e4d-b1ad-243647d594bc",
   "metadata": {},
   "outputs": [
    {
     "data": {
      "text/plain": [
       "['python', 'java', 'ml']"
      ]
     },
     "execution_count": 97,
     "metadata": {},
     "output_type": "execute_result"
    }
   ],
   "source": [
    "p.split('@')"
   ]
  },
  {
   "cell_type": "code",
   "execution_count": 98,
   "id": "22c9ca4e-7995-4ca2-9e8e-5aec2c8a8bd4",
   "metadata": {},
   "outputs": [],
   "source": [
    "p = ['keshav','patil']"
   ]
  },
  {
   "cell_type": "code",
   "execution_count": 99,
   "id": "6f7ce921-0fa9-4173-95ec-5bc6caf518e1",
   "metadata": {},
   "outputs": [
    {
     "data": {
      "text/plain": [
       "'keshav@patil'"
      ]
     },
     "execution_count": 99,
     "metadata": {},
     "output_type": "execute_result"
    }
   ],
   "source": [
    "'@'.join(p)"
   ]
  },
  {
   "cell_type": "code",
   "execution_count": 100,
   "id": "fa8bafc1-47f1-499e-9e3a-e1124ed0d719",
   "metadata": {},
   "outputs": [],
   "source": [
    "p = ['python', 'java', 'ml']"
   ]
  },
  {
   "cell_type": "code",
   "execution_count": 103,
   "id": "f45b1642-5476-47dd-8ee3-13d07174919d",
   "metadata": {},
   "outputs": [
    {
     "data": {
      "text/plain": [
       "'python.java.ml'"
      ]
     },
     "execution_count": 103,
     "metadata": {},
     "output_type": "execute_result"
    }
   ],
   "source": [
    "'.'.join(p)"
   ]
  },
  {
   "cell_type": "code",
   "execution_count": 104,
   "id": "cc518d70-5b5b-4bb1-8a0d-4bb76b07f5dd",
   "metadata": {},
   "outputs": [
    {
     "data": {
      "text/plain": [
       "'python java ml'"
      ]
     },
     "execution_count": 104,
     "metadata": {},
     "output_type": "execute_result"
    }
   ],
   "source": [
    "' '.join(p)"
   ]
  },
  {
   "cell_type": "code",
   "execution_count": 105,
   "id": "54721142-14ef-415c-bc7e-e12b177bed91",
   "metadata": {},
   "outputs": [],
   "source": [
    "t = 'copper.daily_2025/05/12_pdf.csv'"
   ]
  },
  {
   "cell_type": "code",
   "execution_count": 118,
   "id": "b0753354-b4fb-48bd-b9bc-61c8311eb7d5",
   "metadata": {},
   "outputs": [
    {
     "data": {
      "text/plain": [
       "'25'"
      ]
     },
     "execution_count": 118,
     "metadata": {},
     "output_type": "execute_result"
    }
   ],
   "source": [
    "t.split('_')[1].split('/')[0].split('0')[-1]"
   ]
  },
  {
   "cell_type": "code",
   "execution_count": 119,
   "id": "c9b7b26f-9ed6-41f4-b93a-3b1dffd1cd1b",
   "metadata": {},
   "outputs": [],
   "source": [
    "a = 10"
   ]
  },
  {
   "cell_type": "code",
   "execution_count": 120,
   "id": "5c797f5f-54a1-45d4-950b-8114d73a6bb8",
   "metadata": {},
   "outputs": [],
   "source": [
    "b = 20"
   ]
  },
  {
   "cell_type": "code",
   "execution_count": 121,
   "id": "524cdaa7-2060-4eae-857b-46c270282fad",
   "metadata": {},
   "outputs": [],
   "source": [
    "c = a+b"
   ]
  },
  {
   "cell_type": "code",
   "execution_count": 122,
   "id": "50bb364a-3b57-4533-8bc8-2adb14ecb441",
   "metadata": {},
   "outputs": [
    {
     "data": {
      "text/plain": [
       "30"
      ]
     },
     "execution_count": 122,
     "metadata": {},
     "output_type": "execute_result"
    }
   ],
   "source": [
    "c"
   ]
  },
  {
   "cell_type": "code",
   "execution_count": 126,
   "id": "9e3df14f-a6df-4ebd-9ae3-ca874324192b",
   "metadata": {},
   "outputs": [
    {
     "name": "stdin",
     "output_type": "stream",
     "text": [
      "Enter the age: 30\n"
     ]
    }
   ],
   "source": [
    "age = input(\"Enter the age:\")"
   ]
  },
  {
   "cell_type": "code",
   "execution_count": 127,
   "id": "73a0ec50-fec2-4eb6-9b9b-dbd047c8edac",
   "metadata": {},
   "outputs": [
    {
     "data": {
      "text/plain": [
       "'30'"
      ]
     },
     "execution_count": 127,
     "metadata": {},
     "output_type": "execute_result"
    }
   ],
   "source": [
    "age"
   ]
  },
  {
   "cell_type": "code",
   "execution_count": null,
   "id": "94b11ee3-427b-4675-adb1-2b3ad8ac5878",
   "metadata": {},
   "outputs": [],
   "source": [
    "by default --> str"
   ]
  },
  {
   "cell_type": "code",
   "execution_count": 128,
   "id": "c30e43ea-e7ed-4a09-be93-6d22c7a3997b",
   "metadata": {},
   "outputs": [
    {
     "data": {
      "text/plain": [
       "str"
      ]
     },
     "execution_count": 128,
     "metadata": {},
     "output_type": "execute_result"
    }
   ],
   "source": [
    "type(age)"
   ]
  },
  {
   "cell_type": "code",
   "execution_count": 135,
   "id": "20bfd720-14fa-4027-a804-b6d0734e7835",
   "metadata": {},
   "outputs": [
    {
     "name": "stdin",
     "output_type": "stream",
     "text": [
      "Enter the num1: 45\n",
      "Enter the num2: 76\n"
     ]
    },
    {
     "name": "stdout",
     "output_type": "stream",
     "text": [
      "Addition of 45 and 76 is 121\n"
     ]
    }
   ],
   "source": [
    "num1 = int(input(\"Enter the num1:\"))\n",
    "num2 = int(input(\"Enter the num2:\"))\n",
    "result  = num1+num2\n",
    "print(\"Addition of {} and {} is {}\".format(num1,num2,result))"
   ]
  },
  {
   "cell_type": "code",
   "execution_count": null,
   "id": "76e0ba29-f562-4883-b05d-e27c9ff97046",
   "metadata": {},
   "outputs": [],
   "source": [
    "\"Addition of 10 and 20 is 30\""
   ]
  },
  {
   "cell_type": "code",
   "execution_count": null,
   "id": "327a4de8-1844-481e-b16d-602eab2b03eb",
   "metadata": {},
   "outputs": [],
   "source": [
    "string --> dynamic content"
   ]
  },
  {
   "cell_type": "code",
   "execution_count": 137,
   "id": "93d84563-bb3b-4ccf-a39f-361314051082",
   "metadata": {},
   "outputs": [
    {
     "name": "stdout",
     "output_type": "stream",
     "text": [
      "300\n"
     ]
    }
   ],
   "source": [
    "a =100\n",
    "b =200\n",
    "c =a+b\n",
    "print(c)"
   ]
  },
  {
   "cell_type": "code",
   "execution_count": 132,
   "id": "bbea60e0-5da1-4223-9725-968921ac4795",
   "metadata": {},
   "outputs": [
    {
     "data": {
      "text/plain": [
       "'Addition of 10 and 20 is 30'"
      ]
     },
     "execution_count": 132,
     "metadata": {},
     "output_type": "execute_result"
    }
   ],
   "source": [
    "\"Addition of {} and {} is {}\".format(a,b,c)"
   ]
  },
  {
   "cell_type": "code",
   "execution_count": null,
   "id": "c044828a-d3d6-4254-9f41-c18c04c7793b",
   "metadata": {},
   "outputs": [],
   "source": [
    "format --to insert dynamic content into string"
   ]
  },
  {
   "cell_type": "code",
   "execution_count": 138,
   "id": "12a9af7c-1810-40d8-afa4-dbcd6632dc06",
   "metadata": {},
   "outputs": [
    {
     "data": {
      "text/plain": [
       "'Addition of 100 and 200 is 300'"
      ]
     },
     "execution_count": 138,
     "metadata": {},
     "output_type": "execute_result"
    }
   ],
   "source": [
    "f\"Addition of {a} and {b} is {c}\""
   ]
  },
  {
   "cell_type": "code",
   "execution_count": null,
   "id": "41c5019b-b57f-4e70-b270-690322ff2868",
   "metadata": {},
   "outputs": [],
   "source": [
    "find:\n",
    "if substring found then it will return positive index| str starting index\n",
    "if not then it will return -1"
   ]
  },
  {
   "cell_type": "code",
   "execution_count": null,
   "id": "84cbf8ff-a790-4fb9-8e48-37800357555e",
   "metadata": {},
   "outputs": [],
   "source": []
  },
  {
   "cell_type": "code",
   "execution_count": 140,
   "id": "28385857-eefa-493e-8298-8ca6c7b069a7",
   "metadata": {},
   "outputs": [],
   "source": [
    "prd = 'copper_2024_df.xlsx'"
   ]
  },
  {
   "cell_type": "code",
   "execution_count": 142,
   "id": "952d0cba-05de-4ced-b92d-b470aad5f737",
   "metadata": {},
   "outputs": [
    {
     "data": {
      "text/plain": [
       "7"
      ]
     },
     "execution_count": 142,
     "metadata": {},
     "output_type": "execute_result"
    }
   ],
   "source": [
    "prd.find('2024')"
   ]
  },
  {
   "cell_type": "code",
   "execution_count": 148,
   "id": "8574aa19-f51f-4c22-932c-aa1e63f5b879",
   "metadata": {},
   "outputs": [
    {
     "name": "stdin",
     "output_type": "stream",
     "text": [
      "Enter the string that you want to search copper\n"
     ]
    },
    {
     "name": "stdout",
     "output_type": "stream",
     "text": [
      "given copper string is present\n"
     ]
    }
   ],
   "source": [
    "user = input(\"Enter the string that you want to search\")\n",
    "if prd.find(user)==-1:\n",
    "    print(\"given {} str is not present\".format(user))\n",
    "else:\n",
    "    print(f\"given {user} string is present\")"
   ]
  },
  {
   "cell_type": "code",
   "execution_count": 151,
   "id": "30a14a74-8011-417d-877e-b968bf752629",
   "metadata": {},
   "outputs": [],
   "source": [
    "p = 'pythonpppp'"
   ]
  },
  {
   "cell_type": "code",
   "execution_count": 154,
   "id": "8da52927-7a9f-4b5b-b25a-a7a034529daa",
   "metadata": {},
   "outputs": [
    {
     "data": {
      "text/plain": [
       "'jythonjppp'"
      ]
     },
     "execution_count": 154,
     "metadata": {},
     "output_type": "execute_result"
    }
   ],
   "source": [
    "p.replace('p','j',2)"
   ]
  },
  {
   "cell_type": "code",
   "execution_count": null,
   "id": "8a71af86-a53d-41fe-8e48-6594fe4aa2c7",
   "metadata": {},
   "outputs": [],
   "source": [
    "strip():\n",
    "to remove whitespaces from string"
   ]
  },
  {
   "cell_type": "code",
   "execution_count": 158,
   "id": "fa529ce0-4bbc-4529-b2d7-93c1c22a579e",
   "metadata": {},
   "outputs": [],
   "source": [
    "username = 'admin'"
   ]
  },
  {
   "cell_type": "code",
   "execution_count": 159,
   "id": "dbe76b61-099e-4aaf-a6b6-9572c1ed5680",
   "metadata": {},
   "outputs": [
    {
     "name": "stdin",
     "output_type": "stream",
     "text": [
      "Enter the username: admin    \n"
     ]
    }
   ],
   "source": [
    "u = input(\"Enter the username:\")"
   ]
  },
  {
   "cell_type": "code",
   "execution_count": 160,
   "id": "257aa1d0-a306-4d8e-8a6d-2445ff768e8b",
   "metadata": {},
   "outputs": [
    {
     "data": {
      "text/plain": [
       "'admin'"
      ]
     },
     "execution_count": 160,
     "metadata": {},
     "output_type": "execute_result"
    }
   ],
   "source": [
    "username"
   ]
  },
  {
   "cell_type": "code",
   "execution_count": 161,
   "id": "c661bdc9-e457-49e0-b94f-812e8894cd99",
   "metadata": {},
   "outputs": [
    {
     "data": {
      "text/plain": [
       "'admin    '"
      ]
     },
     "execution_count": 161,
     "metadata": {},
     "output_type": "execute_result"
    }
   ],
   "source": [
    "u"
   ]
  },
  {
   "cell_type": "code",
   "execution_count": 162,
   "id": "7b706d0b-1b48-4943-adef-fd440b6ea5c8",
   "metadata": {},
   "outputs": [
    {
     "data": {
      "text/plain": [
       "False"
      ]
     },
     "execution_count": 162,
     "metadata": {},
     "output_type": "execute_result"
    }
   ],
   "source": [
    "'admin' == '   admin  '"
   ]
  },
  {
   "cell_type": "code",
   "execution_count": 163,
   "id": "a8f097d2-b667-4890-83c3-56628963fd43",
   "metadata": {},
   "outputs": [],
   "source": [
    "u ='   admin  '"
   ]
  },
  {
   "cell_type": "code",
   "execution_count": 164,
   "id": "21a1fb20-034c-4420-94af-d37b4864e2f3",
   "metadata": {},
   "outputs": [
    {
     "data": {
      "text/plain": [
       "'admin'"
      ]
     },
     "execution_count": 164,
     "metadata": {},
     "output_type": "execute_result"
    }
   ],
   "source": [
    "u.strip()"
   ]
  },
  {
   "cell_type": "code",
   "execution_count": null,
   "id": "03a75387-9894-414f-a6fd-6d87dfbd8d65",
   "metadata": {},
   "outputs": [],
   "source": [
    "strip()  : to remove white spaces from both end\n",
    "lstrip() : from left end\n",
    "rstrip() : from right end"
   ]
  },
  {
   "cell_type": "code",
   "execution_count": 165,
   "id": "a3e5e2ec-979d-4efe-83be-d4c9ae28df93",
   "metadata": {},
   "outputs": [],
   "source": [
    "p = 'the sdf dsaf sdaf'"
   ]
  },
  {
   "cell_type": "code",
   "execution_count": 166,
   "id": "f3aa1cf1-b998-49d7-9bef-18cd671c1eb9",
   "metadata": {},
   "outputs": [
    {
     "data": {
      "text/plain": [
       "'the sdf dsaf sdaf'"
      ]
     },
     "execution_count": 166,
     "metadata": {},
     "output_type": "execute_result"
    }
   ],
   "source": [
    "p.strip()"
   ]
  },
  {
   "cell_type": "code",
   "execution_count": null,
   "id": "462f407b-d631-45f2-bb70-41074c6570fe",
   "metadata": {},
   "outputs": [],
   "source": []
  }
 ],
 "metadata": {
  "kernelspec": {
   "display_name": "Python 3 (ipykernel)",
   "language": "python",
   "name": "python3"
  },
  "language_info": {
   "codemirror_mode": {
    "name": "ipython",
    "version": 3
   },
   "file_extension": ".py",
   "mimetype": "text/x-python",
   "name": "python",
   "nbconvert_exporter": "python",
   "pygments_lexer": "ipython3",
   "version": "3.12.7"
  }
 },
 "nbformat": 4,
 "nbformat_minor": 5
}

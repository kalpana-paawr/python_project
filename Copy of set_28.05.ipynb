{
 "cells": [
  {
   "cell_type": "code",
   "execution_count": null,
   "id": "8b4ea511-0b2e-41d1-9a54-ede0b9e6f502",
   "metadata": {},
   "outputs": [],
   "source": [
    "tuple :\n",
    "\n",
    "immutable type | hashable | unchangable\n",
    "\n",
    "index\n",
    "count"
   ]
  },
  {
   "cell_type": "code",
   "execution_count": null,
   "id": "30e24904-56f5-480f-8dd2-340ed780bdda",
   "metadata": {},
   "outputs": [],
   "source": [
    "intervirew\n",
    "1.can we insert new element into tuple?\n",
    "Ans:No,but we can use type casting to insert new element\n",
    "\n",
    "\n",
    "2.can we declare list inside tuple or vice versa?\n",
    "Ans: Yes,Original property remains\n"
   ]
  },
  {
   "cell_type": "code",
   "execution_count": 2,
   "id": "72f7cd80-40c6-4842-b527-4fd01594b2dd",
   "metadata": {},
   "outputs": [],
   "source": [
    "p = [23,65,2,365,(1,2,3),54]"
   ]
  },
  {
   "cell_type": "code",
   "execution_count": 3,
   "id": "e73439a4-0783-41fa-8a53-15bb5fa8f8f0",
   "metadata": {},
   "outputs": [
    {
     "ename": "AttributeError",
     "evalue": "'tuple' object has no attribute 'append'",
     "output_type": "error",
     "traceback": [
      "\u001b[1;31m---------------------------------------------------------------------------\u001b[0m",
      "\u001b[1;31mAttributeError\u001b[0m                            Traceback (most recent call last)",
      "Cell \u001b[1;32mIn[3], line 1\u001b[0m\n\u001b[1;32m----> 1\u001b[0m p[\u001b[38;5;241m4\u001b[39m]\u001b[38;5;241m.\u001b[39mappend(\u001b[38;5;241m43\u001b[39m)\n",
      "\u001b[1;31mAttributeError\u001b[0m: 'tuple' object has no attribute 'append'"
     ]
    }
   ],
   "source": [
    "p[4].append(43)"
   ]
  },
  {
   "cell_type": "code",
   "execution_count": 4,
   "id": "e9020f85-9213-4a49-87e1-6785dce72681",
   "metadata": {},
   "outputs": [],
   "source": [
    "p = (12,5,1,54,23,64)"
   ]
  },
  {
   "cell_type": "code",
   "execution_count": 5,
   "id": "b5146e10-b9c6-47f9-a24a-da041c701d9b",
   "metadata": {},
   "outputs": [
    {
     "ename": "AttributeError",
     "evalue": "'tuple' object has no attribute 'append'",
     "output_type": "error",
     "traceback": [
      "\u001b[1;31m---------------------------------------------------------------------------\u001b[0m",
      "\u001b[1;31mAttributeError\u001b[0m                            Traceback (most recent call last)",
      "Cell \u001b[1;32mIn[5], line 1\u001b[0m\n\u001b[1;32m----> 1\u001b[0m p\u001b[38;5;241m.\u001b[39mappend(\u001b[38;5;241m323\u001b[39m)\n",
      "\u001b[1;31mAttributeError\u001b[0m: 'tuple' object has no attribute 'append'"
     ]
    }
   ],
   "source": [
    "p.append(323)"
   ]
  },
  {
   "cell_type": "code",
   "execution_count": 6,
   "id": "a5045e7f-d5f2-4b27-9139-972258b7bcbf",
   "metadata": {},
   "outputs": [],
   "source": [
    "p = (32,65,23,65,[23,65,23,75,6])"
   ]
  },
  {
   "cell_type": "code",
   "execution_count": 7,
   "id": "f64cbdf6-7871-45a0-aed0-1dcfbb908f22",
   "metadata": {},
   "outputs": [],
   "source": [
    "p[4].append(43)"
   ]
  },
  {
   "cell_type": "code",
   "execution_count": 8,
   "id": "d6d98b23-d9f5-4a3e-94ad-51cb0e0809fa",
   "metadata": {},
   "outputs": [
    {
     "data": {
      "text/plain": [
       "(32, 65, 23, 65, [23, 65, 23, 75, 6, 43])"
      ]
     },
     "execution_count": 8,
     "metadata": {},
     "output_type": "execute_result"
    }
   ],
   "source": [
    "p"
   ]
  },
  {
   "cell_type": "code",
   "execution_count": null,
   "id": "0696d07b-7227-45d8-bf61-634242055b74",
   "metadata": {},
   "outputs": [],
   "source": [
    "maths:"
   ]
  },
  {
   "cell_type": "code",
   "execution_count": null,
   "id": "41e6b652-512d-4020-9488-f8dc6908b850",
   "metadata": {},
   "outputs": [],
   "source": [
    "+\n",
    "\n",
    "int+int --add\n",
    "str+str -- concat\n",
    "list+list= concat\n",
    "tuple+tuple = concat\n",
    "\n",
    "\n",
    "*\n",
    "list * 3 "
   ]
  },
  {
   "cell_type": "code",
   "execution_count": 9,
   "id": "2fbce919-c2e6-44b1-8fef-0e7c90c204b6",
   "metadata": {},
   "outputs": [],
   "source": [
    "p = [1,2,3]"
   ]
  },
  {
   "cell_type": "code",
   "execution_count": 10,
   "id": "a2124668-0dbd-45de-89fd-342b3a6fefb9",
   "metadata": {},
   "outputs": [],
   "source": [
    "p1 = [4,5,6]"
   ]
  },
  {
   "cell_type": "code",
   "execution_count": 11,
   "id": "7c563ec5-40eb-4ecc-9dac-61728b20f0fa",
   "metadata": {},
   "outputs": [
    {
     "data": {
      "text/plain": [
       "[1, 2, 3, 4, 5, 6]"
      ]
     },
     "execution_count": 11,
     "metadata": {},
     "output_type": "execute_result"
    }
   ],
   "source": [
    "p+p1"
   ]
  },
  {
   "cell_type": "code",
   "execution_count": 12,
   "id": "473eca50-5339-412f-af53-9ee5e027616b",
   "metadata": {},
   "outputs": [],
   "source": [
    "t1  = (1,2,3)\n",
    "t2 = (4,5,6)"
   ]
  },
  {
   "cell_type": "code",
   "execution_count": 14,
   "id": "afdda734-0408-414d-afe3-12f079a1068d",
   "metadata": {},
   "outputs": [],
   "source": [
    "t3 = t1+t2"
   ]
  },
  {
   "cell_type": "code",
   "execution_count": 15,
   "id": "fcd8bbf0-b0a1-4585-afb8-99c4108f9ae7",
   "metadata": {},
   "outputs": [
    {
     "data": {
      "text/plain": [
       "(1, 2, 3, 4, 5, 6)"
      ]
     },
     "execution_count": 15,
     "metadata": {},
     "output_type": "execute_result"
    }
   ],
   "source": [
    "t3"
   ]
  },
  {
   "cell_type": "code",
   "execution_count": 17,
   "id": "197b753e-da7e-43ec-b67b-0980ad019c98",
   "metadata": {},
   "outputs": [
    {
     "data": {
      "text/plain": [
       "[1, 2, 3, 1, 2, 3, 1, 2, 3]"
      ]
     },
     "execution_count": 17,
     "metadata": {},
     "output_type": "execute_result"
    }
   ],
   "source": [
    "p*3"
   ]
  },
  {
   "cell_type": "code",
   "execution_count": 19,
   "id": "44a307e5-b380-46f4-bf0b-08ca1aeabf87",
   "metadata": {},
   "outputs": [
    {
     "data": {
      "text/plain": [
       "(1, 2, 3, 1, 2, 3, 1, 2, 3, 1, 2, 3, 1, 2, 3)"
      ]
     },
     "execution_count": 19,
     "metadata": {},
     "output_type": "execute_result"
    }
   ],
   "source": [
    "t1*5"
   ]
  },
  {
   "cell_type": "code",
   "execution_count": 21,
   "id": "417b74ab-2fdf-4bc0-9bae-61012ae8525a",
   "metadata": {},
   "outputs": [
    {
     "ename": "TypeError",
     "evalue": "can't multiply sequence by non-int of type 'float'",
     "output_type": "error",
     "traceback": [
      "\u001b[1;31m---------------------------------------------------------------------------\u001b[0m",
      "\u001b[1;31mTypeError\u001b[0m                                 Traceback (most recent call last)",
      "Cell \u001b[1;32mIn[21], line 1\u001b[0m\n\u001b[1;32m----> 1\u001b[0m t2\u001b[38;5;241m*\u001b[39m\u001b[38;5;241m5.7\u001b[39m\n",
      "\u001b[1;31mTypeError\u001b[0m: can't multiply sequence by non-int of type 'float'"
     ]
    }
   ],
   "source": [
    "t2*5.7"
   ]
  },
  {
   "cell_type": "code",
   "execution_count": 22,
   "id": "2df4dc9c-1078-4653-80b8-ad33adb97377",
   "metadata": {},
   "outputs": [],
   "source": [
    "p = 43,76,34,8,6,344"
   ]
  },
  {
   "cell_type": "code",
   "execution_count": 23,
   "id": "4489ae58-b52b-4ee1-9d1c-7530702cae3e",
   "metadata": {},
   "outputs": [
    {
     "data": {
      "text/plain": [
       "(43, 76, 34, 8, 6, 344)"
      ]
     },
     "execution_count": 23,
     "metadata": {},
     "output_type": "execute_result"
    }
   ],
   "source": [
    "p"
   ]
  },
  {
   "cell_type": "code",
   "execution_count": null,
   "id": "8c20300f-fa51-486c-b0e3-0fa6cc25368a",
   "metadata": {},
   "outputs": [],
   "source": [
    "set:\n",
    "====\n",
    "it is collection of unique elements\n",
    "it is mutable type DS\n",
    "it is unordered type DS\n",
    "indexing is not possible\n",
    "it is denoted by {at least one element}\n",
    "\n",
    "\n",
    "Note:\n",
    "list and tuple are ordered Type DS"
   ]
  },
  {
   "cell_type": "code",
   "execution_count": 24,
   "id": "7f30097e-c93c-41ca-8019-778e3ba5b5e8",
   "metadata": {},
   "outputs": [],
   "source": [
    "p = [3,65,2,376,5]"
   ]
  },
  {
   "cell_type": "code",
   "execution_count": 25,
   "id": "4ae7ff3b-859a-4c3f-8781-17fb6f3f2747",
   "metadata": {},
   "outputs": [
    {
     "data": {
      "text/plain": [
       "[3, 65, 2, 376, 5]"
      ]
     },
     "execution_count": 25,
     "metadata": {},
     "output_type": "execute_result"
    }
   ],
   "source": [
    "p"
   ]
  },
  {
   "cell_type": "code",
   "execution_count": 26,
   "id": "09e5bcdd-d3fa-49a2-ab65-04a5ea3175c6",
   "metadata": {},
   "outputs": [],
   "source": [
    "t = (32,6,542,3,75,34,'python','java')"
   ]
  },
  {
   "cell_type": "code",
   "execution_count": 27,
   "id": "1698a686-80d0-4706-921d-da6acde0a877",
   "metadata": {},
   "outputs": [
    {
     "data": {
      "text/plain": [
       "(32, 6, 542, 3, 75, 34, 'python', 'java')"
      ]
     },
     "execution_count": 27,
     "metadata": {},
     "output_type": "execute_result"
    }
   ],
   "source": [
    "t"
   ]
  },
  {
   "cell_type": "code",
   "execution_count": 28,
   "id": "c05a00c2-cc7a-49cf-a17c-352b9a1ff987",
   "metadata": {},
   "outputs": [],
   "source": [
    "p = {32,6,542,3,75,34,'python','java'}"
   ]
  },
  {
   "cell_type": "code",
   "execution_count": 29,
   "id": "e6e1c4c9-8cfa-4ef6-b90d-afd506857286",
   "metadata": {},
   "outputs": [
    {
     "data": {
      "text/plain": [
       "{3, 32, 34, 542, 6, 75, 'java', 'python'}"
      ]
     },
     "execution_count": 29,
     "metadata": {},
     "output_type": "execute_result"
    }
   ],
   "source": [
    "p"
   ]
  },
  {
   "cell_type": "code",
   "execution_count": 30,
   "id": "737d12ad-2654-4fdb-9e32-fd261aa29188",
   "metadata": {},
   "outputs": [
    {
     "ename": "TypeError",
     "evalue": "'set' object is not subscriptable",
     "output_type": "error",
     "traceback": [
      "\u001b[1;31m---------------------------------------------------------------------------\u001b[0m",
      "\u001b[1;31mTypeError\u001b[0m                                 Traceback (most recent call last)",
      "Cell \u001b[1;32mIn[30], line 1\u001b[0m\n\u001b[1;32m----> 1\u001b[0m p[\u001b[38;5;241m1\u001b[39m]\n",
      "\u001b[1;31mTypeError\u001b[0m: 'set' object is not subscriptable"
     ]
    }
   ],
   "source": [
    "p[1]"
   ]
  },
  {
   "cell_type": "code",
   "execution_count": 33,
   "id": "2bc27f89-ef73-4f67-a51a-d93ca222b548",
   "metadata": {},
   "outputs": [],
   "source": [
    "p = {1,1,1,654,23,54,1,2,4,5,3,2,3,3,3,3,3,645,23,54,'a'}"
   ]
  },
  {
   "cell_type": "code",
   "execution_count": 34,
   "id": "e17ecc96-494d-4b1c-964f-93b22e0feb48",
   "metadata": {},
   "outputs": [
    {
     "data": {
      "text/plain": [
       "{1, 2, 23, 3, 4, 5, 54, 645, 654, 'a'}"
      ]
     },
     "execution_count": 34,
     "metadata": {},
     "output_type": "execute_result"
    }
   ],
   "source": [
    "p"
   ]
  },
  {
   "cell_type": "code",
   "execution_count": 35,
   "id": "16affa22-5c07-4f63-bcef-6e883be96970",
   "metadata": {},
   "outputs": [],
   "source": [
    "py = {}"
   ]
  },
  {
   "cell_type": "code",
   "execution_count": 36,
   "id": "bcdae706-7144-4966-8b94-41d4ccc4a789",
   "metadata": {},
   "outputs": [
    {
     "data": {
      "text/plain": [
       "dict"
      ]
     },
     "execution_count": 36,
     "metadata": {},
     "output_type": "execute_result"
    }
   ],
   "source": [
    "type(py)"
   ]
  },
  {
   "cell_type": "code",
   "execution_count": null,
   "id": "3a3929dd-e7a4-4b41-ba21-552f60e655ed",
   "metadata": {},
   "outputs": [],
   "source": [
    "python:\n",
    "list -- []\n",
    "tuple --()\n",
    "dict -- {}\n",
    "str - '',\" \" ,''' ''',\"\"\" \"\"\"\n",
    "\n",
    "set\n",
    "frozenset\n"
   ]
  },
  {
   "cell_type": "code",
   "execution_count": 37,
   "id": "b9032d39-36bd-47ad-b146-3c98e26b60c8",
   "metadata": {},
   "outputs": [],
   "source": [
    "t = ()"
   ]
  },
  {
   "cell_type": "code",
   "execution_count": 38,
   "id": "b2359b53-b553-447e-9fea-eab0cff3a69d",
   "metadata": {},
   "outputs": [
    {
     "data": {
      "text/plain": [
       "tuple"
      ]
     },
     "execution_count": 38,
     "metadata": {},
     "output_type": "execute_result"
    }
   ],
   "source": [
    "type(t)"
   ]
  },
  {
   "cell_type": "code",
   "execution_count": 39,
   "id": "4d151db6-12c8-436b-acdf-274216b606e1",
   "metadata": {},
   "outputs": [],
   "source": [
    "d = ''"
   ]
  },
  {
   "cell_type": "code",
   "execution_count": 40,
   "id": "e99ae7a9-e043-401a-9648-d661e9401159",
   "metadata": {},
   "outputs": [
    {
     "data": {
      "text/plain": [
       "str"
      ]
     },
     "execution_count": 40,
     "metadata": {},
     "output_type": "execute_result"
    }
   ],
   "source": [
    "type(d)"
   ]
  },
  {
   "cell_type": "code",
   "execution_count": 41,
   "id": "94bd8340-be0a-4849-ba72-95a40697b460",
   "metadata": {},
   "outputs": [],
   "source": [
    "t = {34,}"
   ]
  },
  {
   "cell_type": "code",
   "execution_count": 42,
   "id": "88898305-f34e-48bb-aca8-0e5d2ca7cb93",
   "metadata": {},
   "outputs": [
    {
     "data": {
      "text/plain": [
       "{34}"
      ]
     },
     "execution_count": 42,
     "metadata": {},
     "output_type": "execute_result"
    }
   ],
   "source": [
    "t"
   ]
  },
  {
   "cell_type": "code",
   "execution_count": 43,
   "id": "75209e25-9f27-49a3-9276-be58bb2af47f",
   "metadata": {},
   "outputs": [
    {
     "data": {
      "text/plain": [
       "set"
      ]
     },
     "execution_count": 43,
     "metadata": {},
     "output_type": "execute_result"
    }
   ],
   "source": [
    "type(t)"
   ]
  },
  {
   "cell_type": "code",
   "execution_count": null,
   "id": "14e68021-09c6-4189-ae1a-0cec73af9e99",
   "metadata": {},
   "outputs": [],
   "source": [
    "insertion:\n",
    "\n",
    "1.add(element)\n",
    "2.update(multiple elements)"
   ]
  },
  {
   "cell_type": "code",
   "execution_count": 44,
   "id": "d4df7740-db49-4258-b111-83424d22be28",
   "metadata": {},
   "outputs": [],
   "source": [
    "p = {43,65,3,4,86,4,5,86,65}"
   ]
  },
  {
   "cell_type": "code",
   "execution_count": 45,
   "id": "1bd52fbe-2e26-4f5a-a4df-305c9e7516ae",
   "metadata": {},
   "outputs": [],
   "source": [
    "p.add(500)"
   ]
  },
  {
   "cell_type": "code",
   "execution_count": 46,
   "id": "e4f68e35-3a28-4f23-b9b1-74a5242a6f6a",
   "metadata": {},
   "outputs": [
    {
     "data": {
      "text/plain": [
       "{3, 4, 5, 43, 65, 86, 500}"
      ]
     },
     "execution_count": 46,
     "metadata": {},
     "output_type": "execute_result"
    }
   ],
   "source": [
    "p"
   ]
  },
  {
   "cell_type": "code",
   "execution_count": 47,
   "id": "f18a60e8-a3b2-44d7-9b03-78c5896d273c",
   "metadata": {},
   "outputs": [],
   "source": [
    "p.add(2)"
   ]
  },
  {
   "cell_type": "code",
   "execution_count": 48,
   "id": "abe3f6ae-3c9a-4b8e-8cd4-3375259b754f",
   "metadata": {},
   "outputs": [
    {
     "data": {
      "text/plain": [
       "{2, 3, 4, 5, 43, 65, 86, 500}"
      ]
     },
     "execution_count": 48,
     "metadata": {},
     "output_type": "execute_result"
    }
   ],
   "source": [
    "p"
   ]
  },
  {
   "cell_type": "code",
   "execution_count": 49,
   "id": "4f6a0181-adf1-4eee-b83d-aec72472dcc0",
   "metadata": {},
   "outputs": [],
   "source": [
    "p.add('python')"
   ]
  },
  {
   "cell_type": "code",
   "execution_count": 50,
   "id": "bd604563-fe3c-4582-81cc-5e36e7efed11",
   "metadata": {},
   "outputs": [
    {
     "data": {
      "text/plain": [
       "{2, 3, 4, 43, 5, 500, 65, 86, 'python'}"
      ]
     },
     "execution_count": 50,
     "metadata": {},
     "output_type": "execute_result"
    }
   ],
   "source": [
    "p"
   ]
  },
  {
   "cell_type": "code",
   "execution_count": 51,
   "id": "92d47de3-af29-42e5-b96e-6f3a431699bf",
   "metadata": {},
   "outputs": [],
   "source": [
    "p.update({100,500,800})"
   ]
  },
  {
   "cell_type": "code",
   "execution_count": 52,
   "id": "d5898280-180f-4455-8df4-3791bdf143e2",
   "metadata": {},
   "outputs": [
    {
     "data": {
      "text/plain": [
       "{100, 2, 3, 4, 43, 5, 500, 65, 800, 86, 'python'}"
      ]
     },
     "execution_count": 52,
     "metadata": {},
     "output_type": "execute_result"
    }
   ],
   "source": [
    "p"
   ]
  },
  {
   "cell_type": "code",
   "execution_count": null,
   "id": "9f7c4f6d-1de0-451e-8c34-c27de35da9f6",
   "metadata": {},
   "outputs": [],
   "source": [
    "#deletion\n",
    "\n",
    "1.remove(element)\n",
    "2.discard(element)\n",
    "3.pop()\n",
    "4.clear()"
   ]
  },
  {
   "cell_type": "code",
   "execution_count": null,
   "id": "909172f8-abe9-45c8-adfd-8c7b63690ff0",
   "metadata": {},
   "outputs": [],
   "source": [
    "1.remove(element)\n",
    "\n",
    "if element present then delete\n",
    "if not then return KeyError"
   ]
  },
  {
   "cell_type": "code",
   "execution_count": 54,
   "id": "bc882b77-473f-4dfa-90bb-845ca469a1f9",
   "metadata": {},
   "outputs": [],
   "source": [
    "p.remove(500)"
   ]
  },
  {
   "cell_type": "code",
   "execution_count": 55,
   "id": "23bb9344-76f6-41d0-8473-d609e25d3c9e",
   "metadata": {},
   "outputs": [
    {
     "data": {
      "text/plain": [
       "{100, 2, 3, 4, 43, 5, 65, 800, 86, 'python'}"
      ]
     },
     "execution_count": 55,
     "metadata": {},
     "output_type": "execute_result"
    }
   ],
   "source": [
    "p"
   ]
  },
  {
   "cell_type": "code",
   "execution_count": 56,
   "id": "d11b2ff6-a017-4cd4-9564-ec567b19dc8b",
   "metadata": {},
   "outputs": [],
   "source": [
    "p.remove(800)"
   ]
  },
  {
   "cell_type": "code",
   "execution_count": 57,
   "id": "a5f99b76-b784-4210-9100-251e24c465c7",
   "metadata": {},
   "outputs": [
    {
     "data": {
      "text/plain": [
       "{100, 2, 3, 4, 43, 5, 65, 86, 'python'}"
      ]
     },
     "execution_count": 57,
     "metadata": {},
     "output_type": "execute_result"
    }
   ],
   "source": [
    "p"
   ]
  },
  {
   "cell_type": "code",
   "execution_count": 58,
   "id": "ea6a6491-f95b-4c9d-a1a7-afb3c72b7405",
   "metadata": {},
   "outputs": [
    {
     "ename": "KeyError",
     "evalue": "'java'",
     "output_type": "error",
     "traceback": [
      "\u001b[1;31m---------------------------------------------------------------------------\u001b[0m",
      "\u001b[1;31mKeyError\u001b[0m                                  Traceback (most recent call last)",
      "Cell \u001b[1;32mIn[58], line 1\u001b[0m\n\u001b[1;32m----> 1\u001b[0m p\u001b[38;5;241m.\u001b[39mremove(\u001b[38;5;124m'\u001b[39m\u001b[38;5;124mjava\u001b[39m\u001b[38;5;124m'\u001b[39m)\n",
      "\u001b[1;31mKeyError\u001b[0m: 'java'"
     ]
    }
   ],
   "source": [
    "p.remove('java')"
   ]
  },
  {
   "cell_type": "code",
   "execution_count": null,
   "id": "f91c6de1-b476-41a4-906e-a5f2c6211afe",
   "metadata": {},
   "outputs": [],
   "source": [
    "discard(element):\n",
    "if element present then delete\n",
    "\n",
    "if not then it will not return any error"
   ]
  },
  {
   "cell_type": "code",
   "execution_count": null,
   "id": "02f4ae4b-15da-48f0-b775-a3252c580d92",
   "metadata": {},
   "outputs": [],
   "source": [
    "client :\n",
    "\n",
    "products :\n",
    "\n",
    "copper | gold | silver --> \n",
    "\n",
    "gold --> \n",
    "\n",
    "\n",
    "10 -- > invalid --> "
   ]
  },
  {
   "cell_type": "code",
   "execution_count": 60,
   "id": "d395acd8-a863-4b5a-960a-03c07ffd141c",
   "metadata": {},
   "outputs": [],
   "source": [
    "p.discard(45)"
   ]
  },
  {
   "cell_type": "code",
   "execution_count": 62,
   "id": "4187f177-41cc-4802-88dc-c63e524e7045",
   "metadata": {},
   "outputs": [],
   "source": [
    "p.discard(86)"
   ]
  },
  {
   "cell_type": "code",
   "execution_count": 63,
   "id": "7c8aab04-dd73-4306-8fcd-57c84db58b12",
   "metadata": {},
   "outputs": [
    {
     "data": {
      "text/plain": [
       "{100, 2, 3, 4, 43, 5, 65, 'python'}"
      ]
     },
     "execution_count": 63,
     "metadata": {},
     "output_type": "execute_result"
    }
   ],
   "source": [
    "p"
   ]
  },
  {
   "cell_type": "code",
   "execution_count": null,
   "id": "ef07a0a0-1da4-4b96-b9ba-6fcb4ec751fc",
   "metadata": {},
   "outputs": [],
   "source": [
    "pop():\n",
    "delete element randomly\n"
   ]
  },
  {
   "cell_type": "code",
   "execution_count": 64,
   "id": "30974e3d-8d44-4da5-99f5-585d0dbd46f1",
   "metadata": {},
   "outputs": [
    {
     "data": {
      "text/plain": [
       "65"
      ]
     },
     "execution_count": 64,
     "metadata": {},
     "output_type": "execute_result"
    }
   ],
   "source": [
    "p.pop()"
   ]
  },
  {
   "cell_type": "code",
   "execution_count": 66,
   "id": "ea69c124-5cd0-4b45-a006-4fc02bbbd560",
   "metadata": {},
   "outputs": [
    {
     "data": {
      "text/plain": [
       "2"
      ]
     },
     "execution_count": 66,
     "metadata": {},
     "output_type": "execute_result"
    }
   ],
   "source": [
    "p.pop()"
   ]
  },
  {
   "cell_type": "code",
   "execution_count": 67,
   "id": "56ae1cb9-fc81-424a-97d9-d5dea486dd50",
   "metadata": {},
   "outputs": [
    {
     "data": {
      "text/plain": [
       "{100, 3, 4, 43, 5, 'python'}"
      ]
     },
     "execution_count": 67,
     "metadata": {},
     "output_type": "execute_result"
    }
   ],
   "source": [
    "p"
   ]
  },
  {
   "cell_type": "code",
   "execution_count": 68,
   "id": "05afde87-928c-4586-89a3-813b10d835d0",
   "metadata": {},
   "outputs": [],
   "source": [
    " d  =p.pop()"
   ]
  },
  {
   "cell_type": "code",
   "execution_count": 69,
   "id": "a94604b9-ed4a-4df4-b729-d9086c034bfc",
   "metadata": {},
   "outputs": [
    {
     "data": {
      "text/plain": [
       "3"
      ]
     },
     "execution_count": 69,
     "metadata": {},
     "output_type": "execute_result"
    }
   ],
   "source": [
    "d"
   ]
  },
  {
   "cell_type": "code",
   "execution_count": 70,
   "id": "977f7302-873a-44a6-accb-2c4deaf11eb3",
   "metadata": {},
   "outputs": [
    {
     "data": {
      "text/plain": [
       "{100, 4, 43, 5, 'python'}"
      ]
     },
     "execution_count": 70,
     "metadata": {},
     "output_type": "execute_result"
    }
   ],
   "source": [
    "p"
   ]
  },
  {
   "cell_type": "code",
   "execution_count": 71,
   "id": "b6a314d0-9039-4088-ad03-5952d1ce5f8c",
   "metadata": {},
   "outputs": [],
   "source": [
    "token = {5535345345,86785675674576,3324234324,8678678657865,234435435435}"
   ]
  },
  {
   "cell_type": "code",
   "execution_count": 72,
   "id": "9690c862-bd34-448c-9a4a-cf3da007b0a7",
   "metadata": {},
   "outputs": [],
   "source": [
    "user1 = token.pop()"
   ]
  },
  {
   "cell_type": "code",
   "execution_count": 73,
   "id": "17ef3031-43ca-4ef7-8ffd-e4ae5e55e59f",
   "metadata": {},
   "outputs": [
    {
     "data": {
      "text/plain": [
       "86785675674576"
      ]
     },
     "execution_count": 73,
     "metadata": {},
     "output_type": "execute_result"
    }
   ],
   "source": [
    "user1"
   ]
  },
  {
   "cell_type": "code",
   "execution_count": 74,
   "id": "34803e57-d68e-4e12-858c-89bf044b61cb",
   "metadata": {},
   "outputs": [
    {
     "data": {
      "text/plain": [
       "{3324234324, 5535345345, 234435435435, 8678678657865}"
      ]
     },
     "execution_count": 74,
     "metadata": {},
     "output_type": "execute_result"
    }
   ],
   "source": [
    "token"
   ]
  },
  {
   "cell_type": "code",
   "execution_count": 75,
   "id": "3cbfff2a-dd03-4412-8db8-bcf2c5c9f53c",
   "metadata": {},
   "outputs": [],
   "source": [
    "user2 = token.pop()"
   ]
  },
  {
   "cell_type": "code",
   "execution_count": 76,
   "id": "4361167a-4730-4e70-b201-d0ef487eaf10",
   "metadata": {},
   "outputs": [
    {
     "data": {
      "text/plain": [
       "5535345345"
      ]
     },
     "execution_count": 76,
     "metadata": {},
     "output_type": "execute_result"
    }
   ],
   "source": [
    "user2"
   ]
  },
  {
   "cell_type": "code",
   "execution_count": 77,
   "id": "ccba3392-aebd-4978-8fae-e153d2c25f2f",
   "metadata": {},
   "outputs": [
    {
     "data": {
      "text/plain": [
       "{3324234324, 234435435435, 8678678657865}"
      ]
     },
     "execution_count": 77,
     "metadata": {},
     "output_type": "execute_result"
    }
   ],
   "source": [
    "token"
   ]
  },
  {
   "cell_type": "code",
   "execution_count": null,
   "id": "f3d6311d-0928-44fe-9062-f0b3fe5ec7c7",
   "metadata": {},
   "outputs": [],
   "source": [
    "uniqueness\n",
    "randomness\n"
   ]
  },
  {
   "cell_type": "code",
   "execution_count": 79,
   "id": "612ba438-1de0-4052-a0ef-1a0f220b9041",
   "metadata": {},
   "outputs": [],
   "source": [
    "p.clear()"
   ]
  },
  {
   "cell_type": "code",
   "execution_count": 80,
   "id": "a3cb2a20-a27d-40b5-8f89-fb4b82296417",
   "metadata": {},
   "outputs": [
    {
     "data": {
      "text/plain": [
       "set()"
      ]
     },
     "execution_count": 80,
     "metadata": {},
     "output_type": "execute_result"
    }
   ],
   "source": [
    "p"
   ]
  },
  {
   "cell_type": "code",
   "execution_count": null,
   "id": "ea24c39e-772f-4102-a99e-5320788e3a6a",
   "metadata": {},
   "outputs": [],
   "source": [
    "unary operation on set:\n"
   ]
  },
  {
   "cell_type": "code",
   "execution_count": 81,
   "id": "c75f6a62-ca17-4aaf-9cfa-434932e99314",
   "metadata": {},
   "outputs": [],
   "source": [
    "loan = {'keshav','madhav','pranali','pravin','rahul','rakesh'\n",
    "}"
   ]
  },
  {
   "cell_type": "code",
   "execution_count": 82,
   "id": "bd491839-a869-4458-904f-4bea61b25df5",
   "metadata": {},
   "outputs": [],
   "source": [
    "credit = {'sonali','pratik','keshav','rahul','arun','ramesh'}\n"
   ]
  },
  {
   "cell_type": "code",
   "execution_count": 84,
   "id": "03e447b9-7c2b-4c15-9fed-5ff2f686fc33",
   "metadata": {},
   "outputs": [
    {
     "data": {
      "text/plain": [
       "10"
      ]
     },
     "execution_count": 84,
     "metadata": {},
     "output_type": "execute_result"
    }
   ],
   "source": [
    "len(loan.union(credit))"
   ]
  },
  {
   "cell_type": "code",
   "execution_count": 85,
   "id": "9e0c2022-31bd-4389-9822-0bc381bef575",
   "metadata": {},
   "outputs": [
    {
     "data": {
      "text/plain": [
       "{'keshav', 'rahul'}"
      ]
     },
     "execution_count": 85,
     "metadata": {},
     "output_type": "execute_result"
    }
   ],
   "source": [
    "loan.intersection(credit)"
   ]
  },
  {
   "cell_type": "code",
   "execution_count": 86,
   "id": "3e6a1df6-81fe-41c0-9241-b85b062e6a05",
   "metadata": {},
   "outputs": [
    {
     "data": {
      "text/plain": [
       "{'madhav', 'pranali', 'pravin', 'rakesh'}"
      ]
     },
     "execution_count": 86,
     "metadata": {},
     "output_type": "execute_result"
    }
   ],
   "source": [
    "loan.difference(credit)"
   ]
  },
  {
   "cell_type": "code",
   "execution_count": 87,
   "id": "1f31ecc9-2ac4-4832-aca0-09ca4dda4ca2",
   "metadata": {},
   "outputs": [
    {
     "data": {
      "text/plain": [
       "{'arun', 'pratik', 'ramesh', 'sonali'}"
      ]
     },
     "execution_count": 87,
     "metadata": {},
     "output_type": "execute_result"
    }
   ],
   "source": [
    "credit.difference(loan)"
   ]
  },
  {
   "cell_type": "code",
   "execution_count": 88,
   "id": "bd89ba75-d4bc-4a6d-bd33-afe1d1c67f74",
   "metadata": {},
   "outputs": [
    {
     "data": {
      "text/plain": [
       "{'arun', 'madhav', 'pranali', 'pratik', 'pravin', 'rakesh', 'ramesh', 'sonali'}"
      ]
     },
     "execution_count": 88,
     "metadata": {},
     "output_type": "execute_result"
    }
   ],
   "source": [
    "loan.symmetric_difference(credit)"
   ]
  },
  {
   "cell_type": "code",
   "execution_count": 89,
   "id": "62ba463c-d70c-4965-9491-e3ab4d7cb223",
   "metadata": {},
   "outputs": [
    {
     "data": {
      "text/plain": [
       "{'arun', 'madhav', 'pranali', 'pratik', 'pravin', 'rakesh', 'ramesh', 'sonali'}"
      ]
     },
     "execution_count": 89,
     "metadata": {},
     "output_type": "execute_result"
    }
   ],
   "source": [
    "credit.symmetric_difference(loan)"
   ]
  },
  {
   "cell_type": "code",
   "execution_count": 90,
   "id": "fb1d1e3e-9e10-4f16-ae47-f9ec4790d196",
   "metadata": {},
   "outputs": [],
   "source": [
    "p = {'a','b','c','d'}"
   ]
  },
  {
   "cell_type": "code",
   "execution_count": 91,
   "id": "3c8e01b2-3880-4c40-afa4-7d2436c8839d",
   "metadata": {},
   "outputs": [],
   "source": [
    "q = {'b','a'}"
   ]
  },
  {
   "cell_type": "code",
   "execution_count": 92,
   "id": "2aae6341-97b5-41cf-9fe7-535f8d78b618",
   "metadata": {},
   "outputs": [
    {
     "data": {
      "text/plain": [
       "True"
      ]
     },
     "execution_count": 92,
     "metadata": {},
     "output_type": "execute_result"
    }
   ],
   "source": [
    "p.issuperset(q)"
   ]
  },
  {
   "cell_type": "code",
   "execution_count": 93,
   "id": "8a8ca3dc-f33d-4ee6-8ff8-669051ca0e67",
   "metadata": {},
   "outputs": [
    {
     "data": {
      "text/plain": [
       "True"
      ]
     },
     "execution_count": 93,
     "metadata": {},
     "output_type": "execute_result"
    }
   ],
   "source": [
    "q.issubset(p)"
   ]
  },
  {
   "cell_type": "code",
   "execution_count": null,
   "id": "7f4dc967-e854-4adb-aaa5-9064100130a0",
   "metadata": {},
   "outputs": [],
   "source": [
    "is - start --> bool result |True | False"
   ]
  },
  {
   "cell_type": "code",
   "execution_count": 94,
   "id": "b5a05108-8b71-4224-8be7-971f1ddba1dc",
   "metadata": {},
   "outputs": [],
   "source": [
    "y = {1,2,3}"
   ]
  },
  {
   "cell_type": "code",
   "execution_count": 95,
   "id": "7708b532-c2ca-444a-8e50-896f8efab685",
   "metadata": {},
   "outputs": [
    {
     "data": {
      "text/plain": [
       "True"
      ]
     },
     "execution_count": 95,
     "metadata": {},
     "output_type": "execute_result"
    }
   ],
   "source": [
    "p.isdisjoint(y)"
   ]
  },
  {
   "cell_type": "code",
   "execution_count": null,
   "id": "afbad291-66ea-4c8a-bb0b-41dcc0fb4e65",
   "metadata": {},
   "outputs": [],
   "source": [
    "difference_update\n",
    "symmetric_difference_update\n",
    "intersection_update"
   ]
  },
  {
   "cell_type": "code",
   "execution_count": 106,
   "id": "9d42200e-fd2c-4dd3-878c-54e0ab1607c5",
   "metadata": {},
   "outputs": [],
   "source": [
    "p = {1,2,3}"
   ]
  },
  {
   "cell_type": "code",
   "execution_count": 107,
   "id": "040593e6-295d-43d8-a316-46909b3b4c1b",
   "metadata": {},
   "outputs": [],
   "source": [
    "q = {2,5,8}"
   ]
  },
  {
   "cell_type": "code",
   "execution_count": 100,
   "id": "5e2f6a66-7254-4eaf-9076-1bac7a647b3e",
   "metadata": {},
   "outputs": [],
   "source": [
    "temp = p.intersection(q)"
   ]
  },
  {
   "cell_type": "code",
   "execution_count": 101,
   "id": "46552c5c-2131-4fb7-9a82-f1c1cdbe2234",
   "metadata": {},
   "outputs": [
    {
     "data": {
      "text/plain": [
       "{2}"
      ]
     },
     "execution_count": 101,
     "metadata": {},
     "output_type": "execute_result"
    }
   ],
   "source": [
    "temp"
   ]
  },
  {
   "cell_type": "code",
   "execution_count": 102,
   "id": "ac9be705-258d-4b7f-9796-6cca8485ce42",
   "metadata": {},
   "outputs": [
    {
     "data": {
      "text/plain": [
       "{1, 2, 3}"
      ]
     },
     "execution_count": 102,
     "metadata": {},
     "output_type": "execute_result"
    }
   ],
   "source": [
    "p"
   ]
  },
  {
   "cell_type": "code",
   "execution_count": 103,
   "id": "bc52e279-4863-4737-956e-b743cb830bcb",
   "metadata": {},
   "outputs": [
    {
     "data": {
      "text/plain": [
       "{2, 5, 8}"
      ]
     },
     "execution_count": 103,
     "metadata": {},
     "output_type": "execute_result"
    }
   ],
   "source": [
    "q"
   ]
  },
  {
   "cell_type": "code",
   "execution_count": 104,
   "id": "8335221b-dacf-4d74-a52b-2bdf3e3db7e7",
   "metadata": {},
   "outputs": [],
   "source": [
    "p.intersection_update(q) "
   ]
  },
  {
   "cell_type": "code",
   "execution_count": 105,
   "id": "ab830b6d-a15e-40cd-809c-fbf4a3e2aadb",
   "metadata": {},
   "outputs": [
    {
     "data": {
      "text/plain": [
       "{2}"
      ]
     },
     "execution_count": 105,
     "metadata": {},
     "output_type": "execute_result"
    }
   ],
   "source": [
    "p"
   ]
  },
  {
   "cell_type": "code",
   "execution_count": 108,
   "id": "4ecf34a0-d572-4a1b-89a2-331594ff999a",
   "metadata": {},
   "outputs": [
    {
     "data": {
      "text/plain": [
       "{1, 2, 3}"
      ]
     },
     "execution_count": 108,
     "metadata": {},
     "output_type": "execute_result"
    }
   ],
   "source": [
    "p"
   ]
  },
  {
   "cell_type": "code",
   "execution_count": 109,
   "id": "9845b674-340b-4911-88e8-7d08cf1e6b81",
   "metadata": {},
   "outputs": [
    {
     "data": {
      "text/plain": [
       "{2, 5, 8}"
      ]
     },
     "execution_count": 109,
     "metadata": {},
     "output_type": "execute_result"
    }
   ],
   "source": [
    "q"
   ]
  },
  {
   "cell_type": "code",
   "execution_count": 110,
   "id": "1d8e8dcc-b9eb-4940-a739-bd9ee9c3d668",
   "metadata": {},
   "outputs": [],
   "source": [
    "p.symmetric_difference_update(q)"
   ]
  },
  {
   "cell_type": "code",
   "execution_count": 111,
   "id": "22834055-8b5e-4b84-af98-48428706843f",
   "metadata": {},
   "outputs": [
    {
     "data": {
      "text/plain": [
       "{1, 3, 5, 8}"
      ]
     },
     "execution_count": 111,
     "metadata": {},
     "output_type": "execute_result"
    }
   ],
   "source": [
    "p"
   ]
  },
  {
   "cell_type": "code",
   "execution_count": null,
   "id": "8efe43e0-4101-4e3a-b8d4-e7bdafaed6e2",
   "metadata": {},
   "outputs": [],
   "source": []
  }
 ],
 "metadata": {
  "kernelspec": {
   "display_name": "Python 3 (ipykernel)",
   "language": "python",
   "name": "python3"
  },
  "language_info": {
   "codemirror_mode": {
    "name": "ipython",
    "version": 3
   },
   "file_extension": ".py",
   "mimetype": "text/x-python",
   "name": "python",
   "nbconvert_exporter": "python",
   "pygments_lexer": "ipython3",
   "version": "3.12.7"
  }
 },
 "nbformat": 4,
 "nbformat_minor": 5
}

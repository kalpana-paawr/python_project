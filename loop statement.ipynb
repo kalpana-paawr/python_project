{
 "cells": [
  {
   "cell_type": "code",
   "execution_count": 1,
   "id": "d21ed503-b55b-4740-9946-9910886a2bbc",
   "metadata": {},
   "outputs": [],
   "source": [
    "p = ['python','java','hadoop','pyspark']"
   ]
  },
  {
   "cell_type": "code",
   "execution_count": null,
   "id": "d1fc4350-3272-4eee-bdbc-3577b7f80679",
   "metadata": {},
   "outputs": [],
   "source": [
    "for loopvar in seq/DS:\n",
    "    block of statements"
   ]
  },
  {
   "cell_type": "code",
   "execution_count": 8,
   "id": "24a7ed75-b88d-4b61-a5d0-b43c736cf384",
   "metadata": {},
   "outputs": [
    {
     "name": "stdout",
     "output_type": "stream",
     "text": [
      "python java hadoop pyspark "
     ]
    }
   ],
   "source": [
    "for element in p:\n",
    "    print(element,end=' ')"
   ]
  },
  {
   "cell_type": "code",
   "execution_count": 7,
   "id": "3215ac9e-c672-423d-b54b-84030a79be92",
   "metadata": {},
   "outputs": [
    {
     "name": "stdout",
     "output_type": "stream",
     "text": [
      "hi welcome Java\n"
     ]
    }
   ],
   "source": [
    "print(\"hi\",end=' ')\n",
    "print(\"welcome\",end= ' ')\n",
    "print(\"Java\")"
   ]
  },
  {
   "cell_type": "code",
   "execution_count": 9,
   "id": "028748b5-3fec-4f08-be0a-10d4756134d4",
   "metadata": {},
   "outputs": [
    {
     "data": {
      "text/plain": [
       "['python', 'java', 'hadoop', 'pyspark']"
      ]
     },
     "execution_count": 9,
     "metadata": {},
     "output_type": "execute_result"
    }
   ],
   "source": [
    "p"
   ]
  },
  {
   "cell_type": "code",
   "execution_count": 11,
   "id": "db031a2e-e331-41cc-8439-4a198d36bf8d",
   "metadata": {},
   "outputs": [
    {
     "name": "stdout",
     "output_type": "stream",
     "text": [
      "[6, 4, 6, 7]\n"
     ]
    }
   ],
   "source": [
    "len_p = []\n",
    "for i in p:\n",
    "    len_p.append(len(i))\n",
    "print(len_p)"
   ]
  },
  {
   "cell_type": "code",
   "execution_count": 12,
   "id": "cce80b70-a501-4023-9c63-519bb7daba9b",
   "metadata": {},
   "outputs": [],
   "source": [
    "files = ['test.pdf','copper.csv','silver.csv']"
   ]
  },
  {
   "cell_type": "code",
   "execution_count": 14,
   "id": "30cd63f9-57f6-4764-b94e-66e6d52583b5",
   "metadata": {},
   "outputs": [
    {
     "name": "stdout",
     "output_type": "stream",
     "text": [
      "['copper.csv', 'silver.csv']\n"
     ]
    }
   ],
   "source": [
    "csv_files = []\n",
    "for file in files:\n",
    "    if file.endswith('.csv'):\n",
    "        csv_files.append(file)\n",
    "print(csv_files)\n",
    "        "
   ]
  },
  {
   "cell_type": "code",
   "execution_count": 15,
   "id": "08db4ac7-2410-4770-97d3-816a7d7a53a2",
   "metadata": {},
   "outputs": [],
   "source": [
    "p = [5435,7865,345,756,6,7867,43,56,5687,6548,'sdgfsdgds','dfgdfg','dfgdfg','drfrgdg',45,76565,3435,765]"
   ]
  },
  {
   "cell_type": "code",
   "execution_count": 17,
   "id": "5f093017-a48f-40f4-8f0d-2bd8251a2f85",
   "metadata": {},
   "outputs": [
    {
     "name": "stdout",
     "output_type": "stream",
     "text": [
      "[5435, 7865, 345, 756, 6, 7867, 43, 56, 5687, 6548, 45, 76565, 3435, 765]\n",
      "['sdgfsdgds', 'dfgdfg', 'dfgdfg', 'drfrgdg']\n"
     ]
    }
   ],
   "source": [
    "valid_id = []\n",
    "invalid_id = []\n",
    "for id1 in p:\n",
    "    if str(id1).isnumeric():\n",
    "        valid_id.append(id1)\n",
    "    else:\n",
    "        invalid_id.append(id1)\n",
    "print(valid_id)\n",
    "print(invalid_id)"
   ]
  },
  {
   "cell_type": "code",
   "execution_count": 18,
   "id": "243f4cd9-45bf-4ad6-b07c-70ca597ddfe5",
   "metadata": {},
   "outputs": [],
   "source": [
    "p = '23456sadfgh@#$%^&*3245678SDFGH23456cvdfg@#$%^&*^%$#@%%^&sdffgfgf'"
   ]
  },
  {
   "cell_type": "code",
   "execution_count": 20,
   "id": "3c873621-f6e4-41c5-903e-85d8529a63f0",
   "metadata": {},
   "outputs": [
    {
     "name": "stdout",
     "output_type": "stream",
     "text": [
      "['s', 'a', 'd', 'f', 'g', 'h', 'S', 'D', 'F', 'G', 'H', 'c', 'v', 'd', 'f', 'g', 's', 'd', 'f', 'f', 'g', 'f', 'g', 'f']\n",
      "['2', '3', '4', '5', '6', '3', '2', '4', '5', '6', '7', '8', '2', '3', '4', '5', '6']\n",
      "['@', '#', '$', '%', '^', '&', '*', '@', '#', '$', '%', '^', '&', '*', '^', '%', '$', '#', '@', '%', '%', '^', '&']\n"
     ]
    }
   ],
   "source": [
    "char_list= []\n",
    "num_list =[]\n",
    "spc_list = []\n",
    "\n",
    "for char  in p:\n",
    "    if char.isalnum():\n",
    "        if char.isnumeric():\n",
    "            num_list.append(char)\n",
    "        else:\n",
    "            char_list.append(char)\n",
    "    else:\n",
    "       spc_list.append(char)\n",
    "print(char_list)\n",
    "print(num_list)\n",
    "print(spc_list)"
   ]
  },
  {
   "cell_type": "code",
   "execution_count": 21,
   "id": "3237dad1-1e67-4413-a9c4-419062fee428",
   "metadata": {},
   "outputs": [
    {
     "data": {
      "text/plain": [
       "'sadfghSDFGHcvdfgsdffgfgf'"
      ]
     },
     "execution_count": 21,
     "metadata": {},
     "output_type": "execute_result"
    }
   ],
   "source": [
    "''.join(char_list)"
   ]
  },
  {
   "cell_type": "code",
   "execution_count": 22,
   "id": "02f8b09e-a060-491c-8558-c48af68810eb",
   "metadata": {},
   "outputs": [],
   "source": [
    "p = 'java#python#hadoop'"
   ]
  },
  {
   "cell_type": "code",
   "execution_count": 24,
   "id": "8cec21e7-f3d8-4211-b87e-5c71a909ba88",
   "metadata": {},
   "outputs": [],
   "source": [
    "temp = p.split('#')"
   ]
  },
  {
   "cell_type": "code",
   "execution_count": 26,
   "id": "bdedb91d-be05-40fc-835e-3a80f643ae86",
   "metadata": {},
   "outputs": [
    {
     "data": {
      "text/plain": [
       "'javapythonhadoop'"
      ]
     },
     "execution_count": 26,
     "metadata": {},
     "output_type": "execute_result"
    }
   ],
   "source": [
    "''.join(temp)"
   ]
  },
  {
   "cell_type": "code",
   "execution_count": 27,
   "id": "d01b641b-3f45-4a9d-a7e0-32fa001b564f",
   "metadata": {},
   "outputs": [],
   "source": [
    "p = [34,7656,34,76,34,75,54,786,454,86,]"
   ]
  },
  {
   "cell_type": "code",
   "execution_count": 28,
   "id": "c238dd08-3944-4594-b3a7-de6a868d0ab0",
   "metadata": {},
   "outputs": [],
   "source": [
    "p1= 'askjdbsdjhfvasjhfvasjhfvbasjfvasiufvasiufsiufweiufbvewiufvweiuyfvweiuyfvweuyfvewyu'"
   ]
  },
  {
   "cell_type": "code",
   "execution_count": 29,
   "id": "5d52f1de-f894-4b6b-8923-2334fab459be",
   "metadata": {},
   "outputs": [],
   "source": [
    "p2 = \"\"\"The core of extensible programming is defining functions. \n",
    "Python allows mandatory and optional arguments, keyword arguments, and even arbitrary argument lists.\"\"\""
   ]
  },
  {
   "cell_type": "code",
   "execution_count": 30,
   "id": "f6304588-e080-4836-b2e9-941f41d4eb7e",
   "metadata": {},
   "outputs": [],
   "source": [
    "d = {}"
   ]
  },
  {
   "cell_type": "code",
   "execution_count": 31,
   "id": "b609d2a2-ee04-4e17-9e27-4c58ccb51f5f",
   "metadata": {},
   "outputs": [
    {
     "data": {
      "text/plain": [
       "False"
      ]
     },
     "execution_count": 31,
     "metadata": {},
     "output_type": "execute_result"
    }
   ],
   "source": [
    "'a' in d"
   ]
  },
  {
   "cell_type": "code",
   "execution_count": 32,
   "id": "6cc02e90-3abf-49c8-a531-94f67fc74774",
   "metadata": {},
   "outputs": [],
   "source": [
    "d['a'] = 1"
   ]
  },
  {
   "cell_type": "code",
   "execution_count": 33,
   "id": "17b5d391-ca1f-4b54-a3c0-af135e4c7637",
   "metadata": {},
   "outputs": [
    {
     "data": {
      "text/plain": [
       "{'a': 1}"
      ]
     },
     "execution_count": 33,
     "metadata": {},
     "output_type": "execute_result"
    }
   ],
   "source": [
    "d"
   ]
  },
  {
   "cell_type": "code",
   "execution_count": 35,
   "id": "eb452352-535a-4a2c-93f4-9fdf0f255492",
   "metadata": {},
   "outputs": [],
   "source": [
    "d['a']+=1"
   ]
  },
  {
   "cell_type": "code",
   "execution_count": 36,
   "id": "7c789eba-b661-416d-8c8b-972d1c0cf265",
   "metadata": {},
   "outputs": [
    {
     "data": {
      "text/plain": [
       "{'a': 2}"
      ]
     },
     "execution_count": 36,
     "metadata": {},
     "output_type": "execute_result"
    }
   ],
   "source": [
    "d"
   ]
  },
  {
   "cell_type": "code",
   "execution_count": 38,
   "id": "f294d980-a253-4451-8e7d-6d9f61acc3b1",
   "metadata": {},
   "outputs": [],
   "source": [
    "d['a'] = d['a']+1"
   ]
  },
  {
   "cell_type": "code",
   "execution_count": 39,
   "id": "c746bab2-e25c-4d25-8a8f-5cdc6c9ff64e",
   "metadata": {},
   "outputs": [
    {
     "data": {
      "text/plain": [
       "{'a': 3}"
      ]
     },
     "execution_count": 39,
     "metadata": {},
     "output_type": "execute_result"
    }
   ],
   "source": [
    "d"
   ]
  },
  {
   "cell_type": "code",
   "execution_count": 67,
   "id": "7e40dc36-532a-467a-bfc1-57ef66def47c",
   "metadata": {},
   "outputs": [],
   "source": [
    "p1 = 'aaaaaabbbbbccc'"
   ]
  },
  {
   "cell_type": "code",
   "execution_count": 46,
   "id": "ea1acfaf-b0c0-46f6-a617-8a06b84cc02c",
   "metadata": {},
   "outputs": [
    {
     "name": "stdout",
     "output_type": "stream",
     "text": [
      "{'The': 1, 'core': 1, 'of': 1, 'extensible': 1, 'programming': 1, 'is': 1, 'defining': 1, 'functions.': 1, 'Python': 1, 'allows': 1, 'mandatory': 1, 'and': 2, 'optional': 1, 'arguments,': 2, 'keyword': 1, 'even': 1, 'arbitrary': 1, 'argument': 1, 'lists.': 1}\n"
     ]
    }
   ],
   "source": [
    "d = {}\n",
    "for key in p2.split():\n",
    "    if key in d:\n",
    "        d[key]+=1\n",
    "    else:\n",
    "        d[key]=1\n",
    "print(d)\n",
    "        "
   ]
  },
  {
   "cell_type": "code",
   "execution_count": null,
   "id": "2b7931e7-14d0-4bfe-823a-3f8b4e4dac3e",
   "metadata": {},
   "outputs": [],
   "source": [
    "range():\n",
    "it is use to generate seq of number"
   ]
  },
  {
   "cell_type": "code",
   "execution_count": null,
   "id": "6c371754-98f2-4826-a627-65ce0dcb971f",
   "metadata": {},
   "outputs": [],
   "source": [
    "range(start,stop-1,step)"
   ]
  },
  {
   "cell_type": "code",
   "execution_count": 47,
   "id": "a13101af-763d-4e73-8301-319b0637342d",
   "metadata": {},
   "outputs": [
    {
     "name": "stdout",
     "output_type": "stream",
     "text": [
      "1\n",
      "2\n",
      "3\n",
      "4\n",
      "5\n",
      "6\n",
      "7\n",
      "8\n",
      "9\n",
      "10\n"
     ]
    }
   ],
   "source": [
    "for i in range(1,11):\n",
    "    print(i)"
   ]
  },
  {
   "cell_type": "code",
   "execution_count": 48,
   "id": "58cc6a06-f72a-48d6-a2d1-51054a29ed69",
   "metadata": {},
   "outputs": [
    {
     "name": "stdout",
     "output_type": "stream",
     "text": [
      "5\n",
      "10\n",
      "15\n",
      "20\n",
      "25\n",
      "30\n",
      "35\n",
      "40\n",
      "45\n",
      "50\n",
      "55\n",
      "60\n",
      "65\n",
      "70\n",
      "75\n",
      "80\n",
      "85\n",
      "90\n",
      "95\n",
      "100\n",
      "105\n",
      "110\n",
      "115\n",
      "120\n",
      "125\n",
      "130\n",
      "135\n",
      "140\n",
      "145\n",
      "150\n",
      "155\n",
      "160\n",
      "165\n",
      "170\n",
      "175\n",
      "180\n",
      "185\n",
      "190\n",
      "195\n",
      "200\n",
      "205\n",
      "210\n",
      "215\n",
      "220\n",
      "225\n",
      "230\n",
      "235\n",
      "240\n",
      "245\n",
      "250\n",
      "255\n",
      "260\n",
      "265\n",
      "270\n",
      "275\n",
      "280\n",
      "285\n",
      "290\n",
      "295\n",
      "300\n",
      "305\n",
      "310\n",
      "315\n",
      "320\n",
      "325\n",
      "330\n",
      "335\n",
      "340\n",
      "345\n",
      "350\n",
      "355\n",
      "360\n",
      "365\n",
      "370\n",
      "375\n",
      "380\n",
      "385\n",
      "390\n",
      "395\n",
      "400\n",
      "405\n",
      "410\n",
      "415\n",
      "420\n",
      "425\n",
      "430\n",
      "435\n",
      "440\n",
      "445\n",
      "450\n",
      "455\n",
      "460\n",
      "465\n",
      "470\n",
      "475\n",
      "480\n",
      "485\n",
      "490\n",
      "495\n",
      "500\n"
     ]
    }
   ],
   "source": [
    "for i in range(5,501,5):\n",
    "    print(i)"
   ]
  },
  {
   "cell_type": "code",
   "execution_count": 49,
   "id": "e2906329-e092-42c6-b04d-47f444276daf",
   "metadata": {},
   "outputs": [
    {
     "name": "stdout",
     "output_type": "stream",
     "text": [
      "-10\n",
      "-9\n",
      "-8\n",
      "-7\n",
      "-6\n",
      "-5\n",
      "-4\n",
      "-3\n",
      "-2\n",
      "-1\n"
     ]
    }
   ],
   "source": [
    "for i in range(-10,0,1):\n",
    "    print(i)"
   ]
  },
  {
   "cell_type": "code",
   "execution_count": 50,
   "id": "0b0e7bcd-a775-4272-b030-68d2ec0b8932",
   "metadata": {},
   "outputs": [
    {
     "name": "stdout",
     "output_type": "stream",
     "text": [
      "-1\n",
      "-2\n",
      "-3\n",
      "-4\n",
      "-5\n",
      "-6\n",
      "-7\n",
      "-8\n",
      "-9\n",
      "-10\n"
     ]
    }
   ],
   "source": [
    "for i in range(-1,-11,-1):\n",
    "    print(i)"
   ]
  },
  {
   "cell_type": "code",
   "execution_count": 59,
   "id": "cc29599e-3b09-48e2-8230-c488ecbe4a7d",
   "metadata": {},
   "outputs": [],
   "source": [
    "p = 'Python Programming'\n"
   ]
  },
  {
   "cell_type": "code",
   "execution_count": 60,
   "id": "593bf40d-823f-4d4b-b913-14556e1f77df",
   "metadata": {},
   "outputs": [
    {
     "name": "stdout",
     "output_type": "stream",
     "text": [
      "gnimmargorP nohtyP"
     ]
    }
   ],
   "source": [
    "for i in range(-1,-len(p)-1,-1):\n",
    "    print(p[i],end='')"
   ]
  },
  {
   "cell_type": "code",
   "execution_count": 63,
   "id": "6eeecd05-7b3a-4e15-9f6f-4434444ae3c2",
   "metadata": {},
   "outputs": [],
   "source": [
    "p = list(p)"
   ]
  },
  {
   "cell_type": "code",
   "execution_count": 64,
   "id": "28cd9089-1ef3-45fc-9167-91f2f76ebc41",
   "metadata": {},
   "outputs": [],
   "source": [
    "p.reverse()"
   ]
  },
  {
   "cell_type": "code",
   "execution_count": 66,
   "id": "d4668156-091c-43a6-9dbb-7601d66014a1",
   "metadata": {},
   "outputs": [
    {
     "data": {
      "text/plain": [
       "'gnimmargorP nohtyP'"
      ]
     },
     "execution_count": 66,
     "metadata": {},
     "output_type": "execute_result"
    }
   ],
   "source": [
    "''.join(p)"
   ]
  },
  {
   "cell_type": "code",
   "execution_count": 68,
   "id": "c4884d16-c917-4568-b8b1-8a3621db031a",
   "metadata": {},
   "outputs": [
    {
     "data": {
      "text/plain": [
       "'aaaaaabbbbbccc'"
      ]
     },
     "execution_count": 68,
     "metadata": {},
     "output_type": "execute_result"
    }
   ],
   "source": [
    "p1"
   ]
  },
  {
   "cell_type": "code",
   "execution_count": 69,
   "id": "5731a776-4871-48d6-bb2c-230a58322c50",
   "metadata": {},
   "outputs": [
    {
     "data": {
      "text/plain": [
       "{'a': 6, 'b': 5, 'c': 3}"
      ]
     },
     "execution_count": 69,
     "metadata": {},
     "output_type": "execute_result"
    }
   ],
   "source": [
    "{i:p1.count(i) for i in p1}"
   ]
  },
  {
   "cell_type": "code",
   "execution_count": null,
   "id": "8e330380-90c6-489d-a0c4-0825f52855f0",
   "metadata": {},
   "outputs": [],
   "source": []
  }
 ],
 "metadata": {
  "kernelspec": {
   "display_name": "Python 3 (ipykernel)",
   "language": "python",
   "name": "python3"
  },
  "language_info": {
   "codemirror_mode": {
    "name": "ipython",
    "version": 3
   },
   "file_extension": ".py",
   "mimetype": "text/x-python",
   "name": "python",
   "nbconvert_exporter": "python",
   "pygments_lexer": "ipython3",
   "version": "3.12.7"
  }
 },
 "nbformat": 4,
 "nbformat_minor": 5
}

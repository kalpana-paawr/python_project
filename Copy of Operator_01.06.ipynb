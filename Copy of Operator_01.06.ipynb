{
 "cells": [
  {
   "cell_type": "code",
   "execution_count": null,
   "id": "36f8802f-730b-4804-be39-507f959aa13a",
   "metadata": {},
   "outputs": [],
   "source": [
    "Operator:\n",
    "\n",
    "a+b -- > + \n",
    "a,b --> operands\n",
    "\n",
    "symbol which define operation on operands\n",
    "1.Arithmetic operator - +,-,*,/,//,**,%\n",
    "2.Condition/Comparision operator - >,<,>=,<=,!=,==\n",
    "3.logical operator --> and ,or ,not\n",
    "4.Membership --> in ,not in\n",
    "5.Assigment operator --> =,+=,-=,*=,/=\n",
    "6.Identity operator --> is ,not is\n",
    "7.bitwise operator --> & | \n",
    "8.Ternary operator"
   ]
  },
  {
   "cell_type": "code",
   "execution_count": null,
   "id": "b4a30ea3-87bf-41e2-872e-702acc38f72f",
   "metadata": {},
   "outputs": [],
   "source": [
    "1.Arithmetic operator\n",
    "+\n",
    "-\n",
    "*\n",
    "/\n",
    "\n",
    "// - floor division\n",
    "** - exponenent\n",
    "% - modulous"
   ]
  },
  {
   "cell_type": "code",
   "execution_count": null,
   "id": "6e5b3aea-be16-440a-bed5-f633999316ae",
   "metadata": {},
   "outputs": [],
   "source": [
    "+ \n",
    "\n",
    "int/float + int/float  = arithemetic addition\n",
    "\n",
    "str/list/tuple + str/list/tuple = concat\n",
    "\n",
    "str/list/tuple + int/float == Error\n",
    "\n",
    "\n",
    "* \n",
    "\n",
    "int/float * int/float = arithemetic multiplication\n",
    "str/list/tuple * int = duplication/repeatation\n",
    "\n",
    "str*str == Error\n",
    "list*list == Error\n",
    "tuple*tuple == Error\n"
   ]
  },
  {
   "cell_type": "code",
   "execution_count": null,
   "id": "7b1d9f7c-e085-476a-889e-8fb9727d77de",
   "metadata": {},
   "outputs": [],
   "source": [
    "// -- floor division"
   ]
  },
  {
   "cell_type": "code",
   "execution_count": 1,
   "id": "75ab9863-ea92-499f-8351-d11c8ffe3273",
   "metadata": {},
   "outputs": [
    {
     "data": {
      "text/plain": [
       "1.6666666666666667"
      ]
     },
     "execution_count": 1,
     "metadata": {},
     "output_type": "execute_result"
    }
   ],
   "source": [
    "5/3"
   ]
  },
  {
   "cell_type": "code",
   "execution_count": null,
   "id": "8fee7d29-cfb5-4cf1-8e22-15fff612b5f0",
   "metadata": {},
   "outputs": [],
   "source": [
    "noraml\n",
    "floor\n",
    "ceil "
   ]
  },
  {
   "cell_type": "code",
   "execution_count": 2,
   "id": "0794a5fb-aaf9-4824-a612-05bcd5fd611d",
   "metadata": {},
   "outputs": [
    {
     "data": {
      "text/plain": [
       "1.6666666666666667"
      ]
     },
     "execution_count": 2,
     "metadata": {},
     "output_type": "execute_result"
    }
   ],
   "source": [
    "5/3"
   ]
  },
  {
   "cell_type": "code",
   "execution_count": 3,
   "id": "8fc0bb5c-39ec-4c72-8f58-a3386dc52bcc",
   "metadata": {},
   "outputs": [
    {
     "data": {
      "text/plain": [
       "1"
      ]
     },
     "execution_count": 3,
     "metadata": {},
     "output_type": "execute_result"
    }
   ],
   "source": [
    "5//3"
   ]
  },
  {
   "cell_type": "code",
   "execution_count": 4,
   "id": "d10d35f9-5b81-453f-b8cf-278aa92aadca",
   "metadata": {},
   "outputs": [
    {
     "data": {
      "text/plain": [
       "21.666666666666668"
      ]
     },
     "execution_count": 4,
     "metadata": {},
     "output_type": "execute_result"
    }
   ],
   "source": [
    "65/3"
   ]
  },
  {
   "cell_type": "code",
   "execution_count": 5,
   "id": "d7182fa1-6bc4-417b-b7d6-3d494d61bc50",
   "metadata": {},
   "outputs": [
    {
     "data": {
      "text/plain": [
       "21"
      ]
     },
     "execution_count": 5,
     "metadata": {},
     "output_type": "execute_result"
    }
   ],
   "source": [
    "65//3"
   ]
  },
  {
   "cell_type": "code",
   "execution_count": 6,
   "id": "a6e68b49-95de-458e-a7c1-3a5dba99b697",
   "metadata": {},
   "outputs": [],
   "source": [
    "import math"
   ]
  },
  {
   "cell_type": "code",
   "execution_count": 7,
   "id": "e185d3b6-dad3-48a1-a067-bfcb5f451495",
   "metadata": {},
   "outputs": [
    {
     "data": {
      "text/plain": [
       "22"
      ]
     },
     "execution_count": 7,
     "metadata": {},
     "output_type": "execute_result"
    }
   ],
   "source": [
    "math.ceil(65/3)"
   ]
  },
  {
   "cell_type": "code",
   "execution_count": null,
   "id": "9eb02a0a-1fdb-4e15-87c4-004b79619818",
   "metadata": {},
   "outputs": [],
   "source": [
    "22 -- ceil\n",
    "21.6666 -- normal division\n",
    "21 -- floor"
   ]
  },
  {
   "cell_type": "code",
   "execution_count": 8,
   "id": "bb711936-feae-4dec-bf74-962ad5ec33e2",
   "metadata": {},
   "outputs": [
    {
     "data": {
      "text/plain": [
       "243"
      ]
     },
     "execution_count": 8,
     "metadata": {},
     "output_type": "execute_result"
    }
   ],
   "source": [
    "3**5"
   ]
  },
  {
   "cell_type": "code",
   "execution_count": 10,
   "id": "581d4340-b805-4b2e-94da-1c8e309dd81f",
   "metadata": {},
   "outputs": [
    {
     "data": {
      "text/plain": [
       "625"
      ]
     },
     "execution_count": 10,
     "metadata": {},
     "output_type": "execute_result"
    }
   ],
   "source": [
    "5**4"
   ]
  },
  {
   "cell_type": "code",
   "execution_count": 11,
   "id": "8d26cefd-b676-40eb-a8b8-a80260495b07",
   "metadata": {},
   "outputs": [
    {
     "data": {
      "text/plain": [
       "625"
      ]
     },
     "execution_count": 11,
     "metadata": {},
     "output_type": "execute_result"
    }
   ],
   "source": [
    "5*5*5*5"
   ]
  },
  {
   "cell_type": "code",
   "execution_count": 12,
   "id": "da0eeb42-cf96-4428-9643-948839990f3c",
   "metadata": {},
   "outputs": [
    {
     "data": {
      "text/plain": [
       "0"
      ]
     },
     "execution_count": 12,
     "metadata": {},
     "output_type": "execute_result"
    }
   ],
   "source": [
    "6%2"
   ]
  },
  {
   "cell_type": "code",
   "execution_count": 14,
   "id": "5d7f5e44-1855-4820-8eae-8588902c3f41",
   "metadata": {},
   "outputs": [
    {
     "data": {
      "text/plain": [
       "1"
      ]
     },
     "execution_count": 14,
     "metadata": {},
     "output_type": "execute_result"
    }
   ],
   "source": [
    "75%2"
   ]
  },
  {
   "cell_type": "code",
   "execution_count": null,
   "id": "32b649d2-8a86-4109-81ab-478460e53df9",
   "metadata": {},
   "outputs": [],
   "source": [
    "Comparision:"
   ]
  },
  {
   "cell_type": "code",
   "execution_count": 15,
   "id": "91675008-631f-45b7-9415-570433b46a55",
   "metadata": {},
   "outputs": [
    {
     "data": {
      "text/plain": [
       "16"
      ]
     },
     "execution_count": 15,
     "metadata": {},
     "output_type": "execute_result"
    }
   ],
   "source": [
    "2**4"
   ]
  },
  {
   "cell_type": "code",
   "execution_count": null,
   "id": "3a0210d7-b5c1-4729-99d6-ad1b7c11e2e7",
   "metadata": {},
   "outputs": [],
   "source": [
    "Comparision -- > bool True /False"
   ]
  },
  {
   "cell_type": "code",
   "execution_count": 16,
   "id": "25b2fa43-6096-4a0e-b924-a17edfa28bc1",
   "metadata": {},
   "outputs": [],
   "source": [
    "a = 100\n",
    "b = 500"
   ]
  },
  {
   "cell_type": "code",
   "execution_count": 17,
   "id": "351e1dc8-095b-4048-9602-665f47e3d7a7",
   "metadata": {},
   "outputs": [
    {
     "data": {
      "text/plain": [
       "False"
      ]
     },
     "execution_count": 17,
     "metadata": {},
     "output_type": "execute_result"
    }
   ],
   "source": [
    "a>b"
   ]
  },
  {
   "cell_type": "code",
   "execution_count": 18,
   "id": "c5d03acf-fc29-4b32-8e40-674abdc330f3",
   "metadata": {},
   "outputs": [
    {
     "data": {
      "text/plain": [
       "True"
      ]
     },
     "execution_count": 18,
     "metadata": {},
     "output_type": "execute_result"
    }
   ],
   "source": [
    "b>a"
   ]
  },
  {
   "cell_type": "code",
   "execution_count": 19,
   "id": "2c93232d-fdc5-4ed3-84c3-fbcb4d0c2293",
   "metadata": {},
   "outputs": [
    {
     "data": {
      "text/plain": [
       "False"
      ]
     },
     "execution_count": 19,
     "metadata": {},
     "output_type": "execute_result"
    }
   ],
   "source": [
    "a==b"
   ]
  },
  {
   "cell_type": "code",
   "execution_count": null,
   "id": "65b15a95-2f3f-4788-b583-11f09c27c947",
   "metadata": {},
   "outputs": [],
   "source": [
    "= vs ==\n",
    "\n",
    "assign "
   ]
  },
  {
   "cell_type": "code",
   "execution_count": 20,
   "id": "3f3b3b67-af8c-47fa-a60c-fa3db8f6bcfe",
   "metadata": {},
   "outputs": [],
   "source": [
    "temp = 400"
   ]
  },
  {
   "cell_type": "code",
   "execution_count": 21,
   "id": "c442be4c-20e2-442c-b36b-29c0f456ea8c",
   "metadata": {},
   "outputs": [
    {
     "data": {
      "text/plain": [
       "False"
      ]
     },
     "execution_count": 21,
     "metadata": {},
     "output_type": "execute_result"
    }
   ],
   "source": [
    "temp == a"
   ]
  },
  {
   "cell_type": "code",
   "execution_count": 22,
   "id": "c0d97e37-dd9e-467a-a5e2-77f0f20f559c",
   "metadata": {},
   "outputs": [
    {
     "data": {
      "text/plain": [
       "False"
      ]
     },
     "execution_count": 22,
     "metadata": {},
     "output_type": "execute_result"
    }
   ],
   "source": [
    "a>=b # > or ="
   ]
  },
  {
   "cell_type": "code",
   "execution_count": 23,
   "id": "e3ea3ec5-d74f-41d6-83b5-328d1317733d",
   "metadata": {},
   "outputs": [
    {
     "data": {
      "text/plain": [
       "True"
      ]
     },
     "execution_count": 23,
     "metadata": {},
     "output_type": "execute_result"
    }
   ],
   "source": [
    "a<=b"
   ]
  },
  {
   "cell_type": "code",
   "execution_count": 24,
   "id": "718d2c2d-c2d5-4c1a-a6df-7567de769e0a",
   "metadata": {},
   "outputs": [
    {
     "data": {
      "text/plain": [
       "True"
      ]
     },
     "execution_count": 24,
     "metadata": {},
     "output_type": "execute_result"
    }
   ],
   "source": [
    "a!=b"
   ]
  },
  {
   "cell_type": "code",
   "execution_count": 26,
   "id": "18cf64d6-fef3-44ee-aee3-aa4e95b6da31",
   "metadata": {},
   "outputs": [],
   "source": [
    "file  = 'copper_daily_2025_prd.pdf'"
   ]
  },
  {
   "cell_type": "code",
   "execution_count": 28,
   "id": "30e98fe8-65c1-476b-aaf9-48cddbd58cfb",
   "metadata": {},
   "outputs": [
    {
     "data": {
      "text/plain": [
       "False"
      ]
     },
     "execution_count": 28,
     "metadata": {},
     "output_type": "execute_result"
    }
   ],
   "source": [
    "file.startswith('copper') and file.endswith('.pdf') and '2024' in file"
   ]
  },
  {
   "cell_type": "code",
   "execution_count": 29,
   "id": "b7b46fd2-c13d-40f8-82e0-da2918fd6d56",
   "metadata": {},
   "outputs": [
    {
     "data": {
      "text/plain": [
       "True"
      ]
     },
     "execution_count": 29,
     "metadata": {},
     "output_type": "execute_result"
    }
   ],
   "source": [
    "True and True and True and True"
   ]
  },
  {
   "cell_type": "code",
   "execution_count": null,
   "id": "7d224f63-1aaa-4d40-bb68-9cb1f79bd3fd",
   "metadata": {},
   "outputs": [],
   "source": [
    "or -- logical addition"
   ]
  },
  {
   "cell_type": "code",
   "execution_count": 32,
   "id": "ed533dd1-d62a-4020-89fa-dd266ddbadbc",
   "metadata": {},
   "outputs": [],
   "source": [
    "file = 'test.dat'"
   ]
  },
  {
   "cell_type": "code",
   "execution_count": 33,
   "id": "f0b0e3e7-6032-489c-ba06-c00b3088870b",
   "metadata": {},
   "outputs": [
    {
     "data": {
      "text/plain": [
       "False"
      ]
     },
     "execution_count": 33,
     "metadata": {},
     "output_type": "execute_result"
    }
   ],
   "source": [
    "file.endswith('.csv') or file.endswith('.pdf') or file.endswith('.xlsx')"
   ]
  },
  {
   "cell_type": "code",
   "execution_count": null,
   "id": "cbfdc336-1870-41c1-89f9-ccfd4fc12d6e",
   "metadata": {},
   "outputs": [],
   "source": [
    "not -- invert -- condition reverse"
   ]
  },
  {
   "cell_type": "code",
   "execution_count": 34,
   "id": "ce762926-b98c-46e9-9a5a-dbc9e99f0c0b",
   "metadata": {},
   "outputs": [
    {
     "data": {
      "text/plain": [
       "False"
      ]
     },
     "execution_count": 34,
     "metadata": {},
     "output_type": "execute_result"
    }
   ],
   "source": [
    "not True"
   ]
  },
  {
   "cell_type": "code",
   "execution_count": 35,
   "id": "ce4a93c2-163c-4d94-84a6-d685f92da9f2",
   "metadata": {},
   "outputs": [
    {
     "data": {
      "text/plain": [
       "True"
      ]
     },
     "execution_count": 35,
     "metadata": {},
     "output_type": "execute_result"
    }
   ],
   "source": [
    "not False"
   ]
  },
  {
   "cell_type": "code",
   "execution_count": 36,
   "id": "0ec17cb2-eb0a-481d-af83-6dc4771cc933",
   "metadata": {},
   "outputs": [],
   "source": [
    "p = [34,756,23,86,3,487,645]"
   ]
  },
  {
   "cell_type": "code",
   "execution_count": 37,
   "id": "a57f26f0-cf7f-47af-afd1-866e3caf39a7",
   "metadata": {},
   "outputs": [
    {
     "data": {
      "text/plain": [
       "False"
      ]
     },
     "execution_count": 37,
     "metadata": {},
     "output_type": "execute_result"
    }
   ],
   "source": [
    "100 in p"
   ]
  },
  {
   "cell_type": "code",
   "execution_count": 38,
   "id": "218b686b-e6ba-4fec-b73e-ea1803e72998",
   "metadata": {},
   "outputs": [
    {
     "data": {
      "text/plain": [
       "True"
      ]
     },
     "execution_count": 38,
     "metadata": {},
     "output_type": "execute_result"
    }
   ],
   "source": [
    "23 in p"
   ]
  },
  {
   "cell_type": "code",
   "execution_count": 39,
   "id": "d37a6a05-41c4-4c4a-a87e-0711089b00c0",
   "metadata": {},
   "outputs": [
    {
     "data": {
      "text/plain": [
       "True"
      ]
     },
     "execution_count": 39,
     "metadata": {},
     "output_type": "execute_result"
    }
   ],
   "source": [
    "500 not in p"
   ]
  },
  {
   "cell_type": "code",
   "execution_count": 40,
   "id": "7dd6a50a-fd12-4672-91bf-1956273b405e",
   "metadata": {},
   "outputs": [],
   "source": [
    "e = {'a':100,'b':200,'c':300}"
   ]
  },
  {
   "cell_type": "code",
   "execution_count": 41,
   "id": "e5859cef-3dad-4d07-a0d6-3ac6339ce2ff",
   "metadata": {},
   "outputs": [
    {
     "data": {
      "text/plain": [
       "False"
      ]
     },
     "execution_count": 41,
     "metadata": {},
     "output_type": "execute_result"
    }
   ],
   "source": [
    "2 in e"
   ]
  },
  {
   "cell_type": "code",
   "execution_count": 42,
   "id": "fc7c439e-5ea4-464d-8f33-26e0a041b0fe",
   "metadata": {},
   "outputs": [
    {
     "data": {
      "text/plain": [
       "True"
      ]
     },
     "execution_count": 42,
     "metadata": {},
     "output_type": "execute_result"
    }
   ],
   "source": [
    "'a' in e"
   ]
  },
  {
   "cell_type": "code",
   "execution_count": 43,
   "id": "16e6bf87-4e7b-4251-86db-647f1200b57e",
   "metadata": {},
   "outputs": [
    {
     "data": {
      "text/plain": [
       "True"
      ]
     },
     "execution_count": 43,
     "metadata": {},
     "output_type": "execute_result"
    }
   ],
   "source": [
    "100 in e.values()"
   ]
  },
  {
   "cell_type": "code",
   "execution_count": 44,
   "id": "75147e50-513b-47fa-ae14-5640063d3af2",
   "metadata": {},
   "outputs": [
    {
     "data": {
      "text/plain": [
       "True"
      ]
     },
     "execution_count": 44,
     "metadata": {},
     "output_type": "execute_result"
    }
   ],
   "source": [
    "('a',100) in e.items()"
   ]
  },
  {
   "cell_type": "code",
   "execution_count": 45,
   "id": "1942b4b6-1fe8-4a41-ac35-f25569475c35",
   "metadata": {},
   "outputs": [
    {
     "data": {
      "text/plain": [
       "dict_items([('a', 100), ('b', 200), ('c', 300)])"
      ]
     },
     "execution_count": 45,
     "metadata": {},
     "output_type": "execute_result"
    }
   ],
   "source": [
    "e.items()"
   ]
  },
  {
   "cell_type": "code",
   "execution_count": 46,
   "id": "eabcd27c-b476-421b-a107-00bc7c07ec87",
   "metadata": {},
   "outputs": [],
   "source": [
    "a = 400"
   ]
  },
  {
   "cell_type": "code",
   "execution_count": 47,
   "id": "0cbc31be-b28c-4937-b8a1-296c695aa777",
   "metadata": {},
   "outputs": [],
   "source": [
    "t = 10"
   ]
  },
  {
   "cell_type": "code",
   "execution_count": 48,
   "id": "a88786fa-7728-4e94-bd36-a17f8459d67c",
   "metadata": {},
   "outputs": [],
   "source": [
    "t = t+1"
   ]
  },
  {
   "cell_type": "code",
   "execution_count": 49,
   "id": "baaeb2de-f64e-4002-b0f1-c507c9eb8a56",
   "metadata": {},
   "outputs": [
    {
     "data": {
      "text/plain": [
       "11"
      ]
     },
     "execution_count": 49,
     "metadata": {},
     "output_type": "execute_result"
    }
   ],
   "source": [
    "t"
   ]
  },
  {
   "cell_type": "code",
   "execution_count": 54,
   "id": "c01863fb-8801-4e70-9a9f-72e8097d886b",
   "metadata": {},
   "outputs": [],
   "source": [
    "t+=1 # t=t+1"
   ]
  },
  {
   "cell_type": "code",
   "execution_count": 55,
   "id": "0438e26a-47f9-45b6-b1ed-f651c5ae8c1b",
   "metadata": {},
   "outputs": [
    {
     "data": {
      "text/plain": [
       "14"
      ]
     },
     "execution_count": 55,
     "metadata": {},
     "output_type": "execute_result"
    }
   ],
   "source": [
    "t"
   ]
  },
  {
   "cell_type": "code",
   "execution_count": null,
   "id": "a1ad4fb1-a082-4b82-b9d4-027d7bf0393c",
   "metadata": {},
   "outputs": [],
   "source": [
    "+=\n",
    "-=\n",
    "*=\n",
    "/="
   ]
  },
  {
   "cell_type": "code",
   "execution_count": null,
   "id": "b3f2d5ce-43af-4764-8edf-087bb7d1c1f7",
   "metadata": {},
   "outputs": [],
   "source": [
    "6.Identity operator"
   ]
  },
  {
   "cell_type": "code",
   "execution_count": null,
   "id": "e478e48e-1a40-43b5-94ca-dade4172078b",
   "metadata": {},
   "outputs": [],
   "source": [
    "identical -->\n",
    "\n",
    "is ,not is "
   ]
  },
  {
   "cell_type": "code",
   "execution_count": 56,
   "id": "b82cb203-33f9-4621-9132-d1b4adad7c1b",
   "metadata": {},
   "outputs": [],
   "source": [
    "a = 10"
   ]
  },
  {
   "cell_type": "code",
   "execution_count": 57,
   "id": "5a341f9c-d287-45e2-8c57-a816c98b3e6e",
   "metadata": {},
   "outputs": [],
   "source": [
    "b = 10"
   ]
  },
  {
   "cell_type": "code",
   "execution_count": 58,
   "id": "c8305a09-445f-481c-8c88-a15d1ea544c0",
   "metadata": {},
   "outputs": [
    {
     "data": {
      "text/plain": [
       "True"
      ]
     },
     "execution_count": 58,
     "metadata": {},
     "output_type": "execute_result"
    }
   ],
   "source": [
    "a==b"
   ]
  },
  {
   "cell_type": "code",
   "execution_count": 59,
   "id": "edc9cfd2-08f6-4384-bc6d-f93090932855",
   "metadata": {},
   "outputs": [
    {
     "data": {
      "text/plain": [
       "True"
      ]
     },
     "execution_count": 59,
     "metadata": {},
     "output_type": "execute_result"
    }
   ],
   "source": [
    "a is b"
   ]
  },
  {
   "cell_type": "code",
   "execution_count": 60,
   "id": "539a0b44-97ea-409b-966f-7523a7ea6e58",
   "metadata": {},
   "outputs": [
    {
     "data": {
      "text/plain": [
       "True"
      ]
     },
     "execution_count": 60,
     "metadata": {},
     "output_type": "execute_result"
    }
   ],
   "source": [
    "a==b"
   ]
  },
  {
   "cell_type": "code",
   "execution_count": 61,
   "id": "e48ed61c-b293-4d44-bc08-b1e863c76e0a",
   "metadata": {},
   "outputs": [
    {
     "data": {
      "text/plain": [
       "140708474596056"
      ]
     },
     "execution_count": 61,
     "metadata": {},
     "output_type": "execute_result"
    }
   ],
   "source": [
    "id(a)"
   ]
  },
  {
   "cell_type": "code",
   "execution_count": 62,
   "id": "d5b2be42-7321-45c2-a6ec-73fcafdfa625",
   "metadata": {},
   "outputs": [
    {
     "data": {
      "text/plain": [
       "140708474596056"
      ]
     },
     "execution_count": 62,
     "metadata": {},
     "output_type": "execute_result"
    }
   ],
   "source": [
    "id(b)"
   ]
  },
  {
   "cell_type": "code",
   "execution_count": 63,
   "id": "b195e9b6-f113-4b62-b72d-2c4c4c3df32e",
   "metadata": {},
   "outputs": [
    {
     "data": {
      "text/plain": [
       "True"
      ]
     },
     "execution_count": 63,
     "metadata": {},
     "output_type": "execute_result"
    }
   ],
   "source": [
    "a is b"
   ]
  },
  {
   "cell_type": "code",
   "execution_count": 64,
   "id": "3350d45a-b6ea-4a15-b33f-eee4c7129d7f",
   "metadata": {},
   "outputs": [],
   "source": [
    "a = 50000"
   ]
  },
  {
   "cell_type": "code",
   "execution_count": 65,
   "id": "5922ff12-8aa6-479c-9799-aac5711eb6ed",
   "metadata": {},
   "outputs": [],
   "source": [
    "b = 50000"
   ]
  },
  {
   "cell_type": "code",
   "execution_count": 66,
   "id": "302507d0-afa4-455b-b163-7053402393fa",
   "metadata": {},
   "outputs": [
    {
     "data": {
      "text/plain": [
       "True"
      ]
     },
     "execution_count": 66,
     "metadata": {},
     "output_type": "execute_result"
    }
   ],
   "source": [
    "a == b"
   ]
  },
  {
   "cell_type": "code",
   "execution_count": 67,
   "id": "d843b2b0-cb6f-4a6b-8ab8-a75544d52911",
   "metadata": {},
   "outputs": [
    {
     "data": {
      "text/plain": [
       "False"
      ]
     },
     "execution_count": 67,
     "metadata": {},
     "output_type": "execute_result"
    }
   ],
   "source": [
    "a is b"
   ]
  },
  {
   "cell_type": "code",
   "execution_count": 68,
   "id": "0f3ad53f-cae6-44dc-90b3-748a8757a470",
   "metadata": {},
   "outputs": [
    {
     "data": {
      "text/plain": [
       "1669536456240"
      ]
     },
     "execution_count": 68,
     "metadata": {},
     "output_type": "execute_result"
    }
   ],
   "source": [
    "id(a)"
   ]
  },
  {
   "cell_type": "code",
   "execution_count": 69,
   "id": "c5b5e84f-370a-4c32-8e02-036770334932",
   "metadata": {},
   "outputs": [
    {
     "data": {
      "text/plain": [
       "1669536456176"
      ]
     },
     "execution_count": 69,
     "metadata": {},
     "output_type": "execute_result"
    }
   ],
   "source": [
    "id(b)"
   ]
  },
  {
   "cell_type": "code",
   "execution_count": null,
   "id": "ac84378d-1f8d-40f9-a6e5-e5d751f4725c",
   "metadata": {},
   "outputs": [],
   "source": [
    "== --> value based comparision\n",
    "is --> memory location"
   ]
  },
  {
   "cell_type": "code",
   "execution_count": 70,
   "id": "849feb99-0036-4125-a29c-761ece9a4039",
   "metadata": {},
   "outputs": [],
   "source": [
    "a = 576575"
   ]
  },
  {
   "cell_type": "code",
   "execution_count": 71,
   "id": "9eed3384-07d8-4292-9602-18187d78f671",
   "metadata": {},
   "outputs": [],
   "source": [
    "b = 576575"
   ]
  },
  {
   "cell_type": "code",
   "execution_count": 72,
   "id": "15ecadd6-1e33-4091-8b7f-4040234fcb88",
   "metadata": {},
   "outputs": [
    {
     "data": {
      "text/plain": [
       "True"
      ]
     },
     "execution_count": 72,
     "metadata": {},
     "output_type": "execute_result"
    }
   ],
   "source": [
    "a==b"
   ]
  },
  {
   "cell_type": "code",
   "execution_count": 73,
   "id": "25b5b8f4-5c29-41cc-a3ca-01aa600301e2",
   "metadata": {},
   "outputs": [
    {
     "data": {
      "text/plain": [
       "False"
      ]
     },
     "execution_count": 73,
     "metadata": {},
     "output_type": "execute_result"
    }
   ],
   "source": [
    "a is b"
   ]
  },
  {
   "cell_type": "code",
   "execution_count": 74,
   "id": "f0c231cf-79d5-4e29-9662-4a76a6502018",
   "metadata": {},
   "outputs": [
    {
     "data": {
      "text/plain": [
       "1669536454896"
      ]
     },
     "execution_count": 74,
     "metadata": {},
     "output_type": "execute_result"
    }
   ],
   "source": [
    "id(a)"
   ]
  },
  {
   "cell_type": "code",
   "execution_count": 75,
   "id": "ddac8a73-908b-46f2-84b0-4e6b582c52ae",
   "metadata": {},
   "outputs": [
    {
     "data": {
      "text/plain": [
       "1669536450928"
      ]
     },
     "execution_count": 75,
     "metadata": {},
     "output_type": "execute_result"
    }
   ],
   "source": [
    "id(b)"
   ]
  },
  {
   "cell_type": "code",
   "execution_count": 76,
   "id": "ea6f9825-35d5-49c1-b56f-33dc854da6b1",
   "metadata": {},
   "outputs": [],
   "source": [
    "a=b=50000"
   ]
  },
  {
   "cell_type": "code",
   "execution_count": 77,
   "id": "7022e1cf-33ab-4147-b345-2ccb3ae26a7b",
   "metadata": {},
   "outputs": [
    {
     "data": {
      "text/plain": [
       "True"
      ]
     },
     "execution_count": 77,
     "metadata": {},
     "output_type": "execute_result"
    }
   ],
   "source": [
    "a==b"
   ]
  },
  {
   "cell_type": "code",
   "execution_count": 78,
   "id": "4440fb56-27fc-4a27-880a-f17dc08c500f",
   "metadata": {},
   "outputs": [
    {
     "data": {
      "text/plain": [
       "True"
      ]
     },
     "execution_count": 78,
     "metadata": {},
     "output_type": "execute_result"
    }
   ],
   "source": [
    "a is b"
   ]
  },
  {
   "cell_type": "code",
   "execution_count": 79,
   "id": "d8eccd9a-f64c-4e99-beee-8b46f12e8844",
   "metadata": {},
   "outputs": [
    {
     "data": {
      "text/plain": [
       "1669536456272"
      ]
     },
     "execution_count": 79,
     "metadata": {},
     "output_type": "execute_result"
    }
   ],
   "source": [
    "id(a)"
   ]
  },
  {
   "cell_type": "code",
   "execution_count": 80,
   "id": "f8a9cb35-937c-41bc-85f0-0c1240d1bb17",
   "metadata": {},
   "outputs": [
    {
     "data": {
      "text/plain": [
       "1669536456272"
      ]
     },
     "execution_count": 80,
     "metadata": {},
     "output_type": "execute_result"
    }
   ],
   "source": [
    "id(b)"
   ]
  },
  {
   "cell_type": "code",
   "execution_count": null,
   "id": "9c9ae19d-c42e-4179-a321-a3f07ef45b39",
   "metadata": {},
   "outputs": [],
   "source": [
    "== vs is\n",
    "value vs memory "
   ]
  },
  {
   "cell_type": "code",
   "execution_count": 81,
   "id": "cee00642-eb8c-4442-8757-8f062086a0fe",
   "metadata": {},
   "outputs": [
    {
     "data": {
      "text/plain": [
       "4"
      ]
     },
     "execution_count": 81,
     "metadata": {},
     "output_type": "execute_result"
    }
   ],
   "source": [
    "12 & 4"
   ]
  },
  {
   "cell_type": "code",
   "execution_count": null,
   "id": "4f71f17a-1eb1-4654-8a14-6d3e5b153905",
   "metadata": {},
   "outputs": [],
   "source": [
    "bitwise --> bits\n",
    "\n",
    "binary -- 0,1 - 2\n",
    "octal -- 0-7 -8\n",
    "decimal -- 0-9 -10\n",
    "hexadecimal 0-9,a-f -16"
   ]
  },
  {
   "cell_type": "code",
   "execution_count": 82,
   "id": "255b89ca-1513-4d1c-b4d7-d16a49d5cb6e",
   "metadata": {},
   "outputs": [
    {
     "data": {
      "text/plain": [
       "8"
      ]
     },
     "execution_count": 82,
     "metadata": {},
     "output_type": "execute_result"
    }
   ],
   "source": [
    "25 & 10"
   ]
  },
  {
   "cell_type": "code",
   "execution_count": 83,
   "id": "c4453643-0fc2-4749-aea2-61a1650a89d8",
   "metadata": {},
   "outputs": [
    {
     "data": {
      "text/plain": [
       "31"
      ]
     },
     "execution_count": 83,
     "metadata": {},
     "output_type": "execute_result"
    }
   ],
   "source": [
    "16 | 15"
   ]
  },
  {
   "cell_type": "code",
   "execution_count": null,
   "id": "1a3d348d-d024-42ec-8c76-03fbc89a6c8e",
   "metadata": {},
   "outputs": [],
   "source": [
    "10001 --> decimal"
   ]
  },
  {
   "cell_type": "code",
   "execution_count": 84,
   "id": "449b74ba-9915-49be-b2c2-af94ac5f28b7",
   "metadata": {},
   "outputs": [
    {
     "data": {
      "text/plain": [
       "'0b1111'"
      ]
     },
     "execution_count": 84,
     "metadata": {},
     "output_type": "execute_result"
    }
   ],
   "source": [
    "bin(15)"
   ]
  },
  {
   "cell_type": "code",
   "execution_count": 85,
   "id": "f5c6e5cd-db2a-4fdd-820e-047eb25809d9",
   "metadata": {},
   "outputs": [
    {
     "data": {
      "text/plain": [
       "'0b11111'"
      ]
     },
     "execution_count": 85,
     "metadata": {},
     "output_type": "execute_result"
    }
   ],
   "source": [
    "bin(31)"
   ]
  },
  {
   "cell_type": "code",
   "execution_count": null,
   "id": "62fcded6-6a28-48c1-9209-ea24cbb1d602",
   "metadata": {},
   "outputs": [],
   "source": [
    "Assigment -- 0 to 15 in decimal --> binary number\n",
    "0001 -1\n",
    "0010 -2\n",
    "0011 -3\n",
    "0100 -4\n",
    "0101 -5\n",
    "0110 -6\n",
    "0111 -7\n",
    "\n"
   ]
  },
  {
   "cell_type": "code",
   "execution_count": 86,
   "id": "84eba464-a851-4e26-9061-4341735cd8e3",
   "metadata": {},
   "outputs": [
    {
     "data": {
      "text/plain": [
       "40"
      ]
     },
     "execution_count": 86,
     "metadata": {},
     "output_type": "execute_result"
    }
   ],
   "source": [
    "10<<2"
   ]
  },
  {
   "cell_type": "code",
   "execution_count": 87,
   "id": "d4418b76-a6f7-477f-83c6-a5cc8943fd4f",
   "metadata": {},
   "outputs": [
    {
     "data": {
      "text/plain": [
       "2"
      ]
     },
     "execution_count": 87,
     "metadata": {},
     "output_type": "execute_result"
    }
   ],
   "source": [
    "10>>2"
   ]
  },
  {
   "cell_type": "code",
   "execution_count": null,
   "id": "38ff356f-d4f4-445c-905b-5a2fdea5fa7d",
   "metadata": {},
   "outputs": [],
   "source": []
  }
 ],
 "metadata": {
  "kernelspec": {
   "display_name": "Python 3 (ipykernel)",
   "language": "python",
   "name": "python3"
  },
  "language_info": {
   "codemirror_mode": {
    "name": "ipython",
    "version": 3
   },
   "file_extension": ".py",
   "mimetype": "text/x-python",
   "name": "python",
   "nbconvert_exporter": "python",
   "pygments_lexer": "ipython3",
   "version": "3.12.7"
  }
 },
 "nbformat": 4,
 "nbformat_minor": 5
}
